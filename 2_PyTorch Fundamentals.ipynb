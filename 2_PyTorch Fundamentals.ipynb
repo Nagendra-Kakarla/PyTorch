{
 "cells": [
  {
   "cell_type": "markdown",
   "id": "372a2e5d-9728-435b-9728-8073c56274cf",
   "metadata": {
    "jp-MarkdownHeadingCollapsed": true,
    "tags": []
   },
   "source": [
    "# PyTorch Fundamentals"
   ]
  },
  {
   "cell_type": "code",
   "execution_count": 1,
   "id": "ec50a9bf-4745-428d-a6a4-f2ddc7d08930",
   "metadata": {},
   "outputs": [],
   "source": [
    "import torch"
   ]
  },
  {
   "cell_type": "code",
   "execution_count": 2,
   "id": "1285a08a-3dc6-4cd9-bec7-1fd6c9ecb07f",
   "metadata": {},
   "outputs": [
    {
     "name": "stdout",
     "output_type": "stream",
     "text": [
      "1.12.1\n"
     ]
    }
   ],
   "source": [
    "print(torch.__version__)"
   ]
  },
  {
   "cell_type": "code",
   "execution_count": 3,
   "id": "02fed13d-5cf2-4b82-819d-7a5d21c673a4",
   "metadata": {},
   "outputs": [],
   "source": [
    "x = torch.tensor([[1,2]])\n",
    "y = torch.tensor([[1], [2]])"
   ]
  },
  {
   "cell_type": "code",
   "execution_count": 4,
   "id": "683bc080-ad4c-4c88-a333-4f54131bc86f",
   "metadata": {},
   "outputs": [
    {
     "data": {
      "text/plain": [
       "torch.Size([1, 2])"
      ]
     },
     "execution_count": 4,
     "metadata": {},
     "output_type": "execute_result"
    }
   ],
   "source": [
    "x.shape"
   ]
  },
  {
   "cell_type": "code",
   "execution_count": 5,
   "id": "73bf96cd-4eae-4653-a498-bb5866e273b9",
   "metadata": {},
   "outputs": [
    {
     "data": {
      "text/plain": [
       "torch.Size([2, 1])"
      ]
     },
     "execution_count": 5,
     "metadata": {},
     "output_type": "execute_result"
    }
   ],
   "source": [
    "y.shape"
   ]
  },
  {
   "cell_type": "code",
   "execution_count": 6,
   "id": "1df1d518-ddc9-48c5-9fc1-d075045e4411",
   "metadata": {},
   "outputs": [
    {
     "data": {
      "text/plain": [
       "torch.int64"
      ]
     },
     "execution_count": 6,
     "metadata": {},
     "output_type": "execute_result"
    }
   ],
   "source": [
    "x.dtype"
   ]
  },
  {
   "cell_type": "code",
   "execution_count": 7,
   "id": "ab3932ca-5346-40d3-8f5c-a7a322084bb4",
   "metadata": {},
   "outputs": [],
   "source": [
    "x = torch.tensor([True, 1.0, 2.0])"
   ]
  },
  {
   "cell_type": "code",
   "execution_count": 8,
   "id": "5644d849-ed4d-4912-bf94-b450d5f540ee",
   "metadata": {},
   "outputs": [
    {
     "data": {
      "text/plain": [
       "tensor([1., 1., 2.])"
      ]
     },
     "execution_count": 8,
     "metadata": {},
     "output_type": "execute_result"
    }
   ],
   "source": [
    "x"
   ]
  },
  {
   "cell_type": "code",
   "execution_count": 10,
   "id": "1c4d2b4b-d202-4a5b-82d4-efd8eaa8020f",
   "metadata": {},
   "outputs": [
    {
     "data": {
      "text/plain": [
       "tensor([[0., 0., 0., 0.],\n",
       "        [0., 0., 0., 0.],\n",
       "        [0., 0., 0., 0.]])"
      ]
     },
     "execution_count": 10,
     "metadata": {},
     "output_type": "execute_result"
    }
   ],
   "source": [
    "torch.zeros((3,4))"
   ]
  },
  {
   "cell_type": "code",
   "execution_count": 11,
   "id": "e8969fcf-e873-4f86-9afc-a2f71b4d99f6",
   "metadata": {},
   "outputs": [
    {
     "data": {
      "text/plain": [
       "tensor([[1., 1., 1., 1.],\n",
       "        [1., 1., 1., 1.],\n",
       "        [1., 1., 1., 1.]])"
      ]
     },
     "execution_count": 11,
     "metadata": {},
     "output_type": "execute_result"
    }
   ],
   "source": [
    "torch.ones(3,4)"
   ]
  },
  {
   "cell_type": "code",
   "execution_count": 12,
   "id": "3e982232-c95c-4307-aa9b-3816d8e9ccc6",
   "metadata": {},
   "outputs": [
    {
     "data": {
      "text/plain": [
       "tensor([[8, 5, 5, 7],\n",
       "        [6, 3, 9, 9],\n",
       "        [8, 5, 8, 4]])"
      ]
     },
     "execution_count": 12,
     "metadata": {},
     "output_type": "execute_result"
    }
   ],
   "source": [
    "torch.randint(low=0, high=10, size=(3,4))"
   ]
  },
  {
   "cell_type": "code",
   "execution_count": 13,
   "id": "d6e8593c-1163-4543-bc70-7ed5de4401d7",
   "metadata": {},
   "outputs": [
    {
     "data": {
      "text/plain": [
       "tensor([[0.7880, 0.7736, 0.3570, 0.5389],\n",
       "        [0.3870, 0.5719, 0.6002, 0.2285],\n",
       "        [0.0752, 0.5405, 0.9613, 0.4151]])"
      ]
     },
     "execution_count": 13,
     "metadata": {},
     "output_type": "execute_result"
    }
   ],
   "source": [
    "torch.rand(3,4)"
   ]
  },
  {
   "cell_type": "code",
   "execution_count": 14,
   "id": "57f19613-ed01-4430-b73d-db06a2651d42",
   "metadata": {},
   "outputs": [
    {
     "data": {
      "text/plain": [
       "tensor([[-0.1669,  0.5545,  0.4999, -0.6768],\n",
       "        [-1.4388, -0.4228, -0.3050,  0.3622],\n",
       "        [-0.2030,  0.3778, -0.6638, -0.5859]])"
      ]
     },
     "execution_count": 14,
     "metadata": {},
     "output_type": "execute_result"
    }
   ],
   "source": [
    "torch.randn(3,4)"
   ]
  },
  {
   "cell_type": "code",
   "execution_count": 16,
   "id": "3a5b9694-24df-4f6c-bb8c-beeda451a9e4",
   "metadata": {},
   "outputs": [
    {
     "name": "stdout",
     "output_type": "stream",
     "text": [
      "<class 'numpy.ndarray'> <class 'torch.Tensor'>\n"
     ]
    }
   ],
   "source": [
    "import numpy as np\n",
    "x = np.array([[10,20,30],[2,3,4]])\n",
    "y = torch.tensor(x)\n",
    "print(type(x), type(y))"
   ]
  },
  {
   "cell_type": "code",
   "execution_count": 20,
   "id": "8983c7a2-7bb6-4392-944f-97be0599c194",
   "metadata": {},
   "outputs": [],
   "source": [
    "x = torch.tensor([[1,2,3,4], [5,6,7,8]])"
   ]
  },
  {
   "cell_type": "code",
   "execution_count": 21,
   "id": "c7fd906e-e8de-4864-b671-60c1ab47494c",
   "metadata": {},
   "outputs": [
    {
     "name": "stdout",
     "output_type": "stream",
     "text": [
      "tensor([[10, 20, 30, 40],\n",
      "        [50, 60, 70, 80]])\n"
     ]
    }
   ],
   "source": [
    "print(x*10)"
   ]
  },
  {
   "cell_type": "code",
   "execution_count": 22,
   "id": "2ca401f5-4402-43fa-b2be-e9b5824a9089",
   "metadata": {},
   "outputs": [
    {
     "data": {
      "text/plain": [
       "tensor([[11, 12, 13, 14],\n",
       "        [15, 16, 17, 18]])"
      ]
     },
     "execution_count": 22,
     "metadata": {},
     "output_type": "execute_result"
    }
   ],
   "source": [
    "x.add(10)"
   ]
  },
  {
   "cell_type": "code",
   "execution_count": 23,
   "id": "c7044a80-f632-4ab1-9123-d79460b7320c",
   "metadata": {},
   "outputs": [],
   "source": [
    "y = torch.tensor([2, 3, 1, 0])"
   ]
  },
  {
   "cell_type": "code",
   "execution_count": 24,
   "id": "b4559135-23b8-48ed-800e-9b6797e95983",
   "metadata": {},
   "outputs": [
    {
     "data": {
      "text/plain": [
       "tensor([[2],\n",
       "        [3],\n",
       "        [1],\n",
       "        [0]])"
      ]
     },
     "execution_count": 24,
     "metadata": {},
     "output_type": "execute_result"
    }
   ],
   "source": [
    "y.view(4,1)"
   ]
  },
  {
   "cell_type": "code",
   "execution_count": 25,
   "id": "63968d91-5e24-4280-a13c-ffb340c5dac3",
   "metadata": {},
   "outputs": [
    {
     "data": {
      "text/plain": [
       "tensor([2, 3, 1, 0])"
      ]
     },
     "execution_count": 25,
     "metadata": {},
     "output_type": "execute_result"
    }
   ],
   "source": [
    "y"
   ]
  },
  {
   "cell_type": "code",
   "execution_count": 26,
   "id": "13d289d9-cbbd-4cad-ba95-98af28045f0b",
   "metadata": {},
   "outputs": [
    {
     "name": "stdout",
     "output_type": "stream",
     "text": [
      "torch.Size([10, 1, 10]) torch.Size([10, 10])\n"
     ]
    }
   ],
   "source": [
    "x = torch.randn(10,1,10)\n",
    "z1 = torch.squeeze(x, 1)\n",
    "print(x.shape, z1.shape)"
   ]
  },
  {
   "cell_type": "code",
   "execution_count": 27,
   "id": "df115530-4f25-40d1-a4c8-0fae9042ffbf",
   "metadata": {},
   "outputs": [
    {
     "data": {
      "text/plain": [
       "torch.Size([1, 10, 10])"
      ]
     },
     "execution_count": 27,
     "metadata": {},
     "output_type": "execute_result"
    }
   ],
   "source": [
    "x = torch.rand(10, 10)\n",
    "torch.unsqueeze(x, 0).shape"
   ]
  },
  {
   "cell_type": "code",
   "execution_count": 28,
   "id": "318332ff-8b43-44ca-a51b-5a54b3b36cc5",
   "metadata": {},
   "outputs": [
    {
     "data": {
      "text/plain": [
       "torch.Size([1, 10, 10])"
      ]
     },
     "execution_count": 28,
     "metadata": {},
     "output_type": "execute_result"
    }
   ],
   "source": [
    "z1 = x[None]\n",
    "z1.shape"
   ]
  },
  {
   "cell_type": "code",
   "execution_count": 29,
   "id": "873b8b70-12a7-46f4-805f-9ec38779788d",
   "metadata": {},
   "outputs": [
    {
     "data": {
      "text/plain": [
       "torch.Size([10, 1, 10])"
      ]
     },
     "execution_count": 29,
     "metadata": {},
     "output_type": "execute_result"
    }
   ],
   "source": [
    "x[:, None].shape"
   ]
  },
  {
   "cell_type": "code",
   "execution_count": 30,
   "id": "03b5e7bd-df9d-4944-b07c-39260065a553",
   "metadata": {},
   "outputs": [
    {
     "data": {
      "text/plain": [
       "torch.Size([10, 10, 1])"
      ]
     },
     "execution_count": 30,
     "metadata": {},
     "output_type": "execute_result"
    }
   ],
   "source": [
    "x[:,:, None].shape"
   ]
  },
  {
   "cell_type": "code",
   "execution_count": 31,
   "id": "434a2486-925d-4b03-aad9-3f52a79a6695",
   "metadata": {},
   "outputs": [
    {
     "ename": "IndexError",
     "evalue": "too many indices for tensor of dimension 2",
     "output_type": "error",
     "traceback": [
      "\u001b[1;31m---------------------------------------------------------------------------\u001b[0m",
      "\u001b[1;31mIndexError\u001b[0m                                Traceback (most recent call last)",
      "Input \u001b[1;32mIn [31]\u001b[0m, in \u001b[0;36m<cell line: 1>\u001b[1;34m()\u001b[0m\n\u001b[1;32m----> 1\u001b[0m \u001b[43mx\u001b[49m\u001b[43m[\u001b[49m\u001b[43m:\u001b[49m\u001b[43m,\u001b[49m\u001b[43m \u001b[49m\u001b[43m:\u001b[49m\u001b[43m,\u001b[49m\u001b[43m \u001b[49m\u001b[43m:\u001b[49m\u001b[43m,\u001b[49m\u001b[43m \u001b[49m\u001b[38;5;28;43;01mNone\u001b[39;49;00m\u001b[43m]\u001b[49m\u001b[38;5;241m.\u001b[39mshape\n",
      "\u001b[1;31mIndexError\u001b[0m: too many indices for tensor of dimension 2"
     ]
    }
   ],
   "source": [
    "x[:, :, :, None].shape"
   ]
  },
  {
   "cell_type": "code",
   "execution_count": 33,
   "id": "8d0006e5-3a78-4bb2-9377-f6667f570989",
   "metadata": {},
   "outputs": [
    {
     "data": {
      "text/plain": [
       "torch.Size([20, 10, 10])"
      ]
     },
     "execution_count": 33,
     "metadata": {},
     "output_type": "execute_result"
    }
   ],
   "source": [
    "x = torch.randn(10,10,10)\n",
    "torch.cat([x, x], axis=0).shape"
   ]
  },
  {
   "cell_type": "code",
   "execution_count": 34,
   "id": "bce0d6bc-d818-4582-9488-87c06965d61d",
   "metadata": {},
   "outputs": [
    {
     "data": {
      "text/plain": [
       "torch.Size([10, 20, 10])"
      ]
     },
     "execution_count": 34,
     "metadata": {},
     "output_type": "execute_result"
    }
   ],
   "source": [
    "torch.cat([x, x], axis=1).shape"
   ]
  },
  {
   "cell_type": "code",
   "execution_count": 35,
   "id": "cefe7a41-cf8d-4414-888b-fdcf3733e09c",
   "metadata": {},
   "outputs": [
    {
     "data": {
      "text/plain": [
       "torch.Size([10, 10, 20])"
      ]
     },
     "execution_count": 35,
     "metadata": {},
     "output_type": "execute_result"
    }
   ],
   "source": [
    "torch.cat([x, x], axis=2).shape"
   ]
  },
  {
   "cell_type": "code",
   "execution_count": 37,
   "id": "35169ec9-1e16-4e03-aed7-b6a4ff8715f4",
   "metadata": {},
   "outputs": [
    {
     "name": "stdout",
     "output_type": "stream",
     "text": [
      "tensor(24)\n"
     ]
    }
   ],
   "source": [
    "x = torch.arange(25).reshape(5,5)\n",
    "print(x.max())"
   ]
  },
  {
   "cell_type": "code",
   "execution_count": 38,
   "id": "aa06a795-1b48-4b46-b6cb-3de7ca7328c9",
   "metadata": {},
   "outputs": [
    {
     "data": {
      "text/plain": [
       "torch.return_types.max(\n",
       "values=tensor([20, 21, 22, 23, 24]),\n",
       "indices=tensor([4, 4, 4, 4, 4]))"
      ]
     },
     "execution_count": 38,
     "metadata": {},
     "output_type": "execute_result"
    }
   ],
   "source": [
    "x.max(dim=0)"
   ]
  },
  {
   "cell_type": "code",
   "execution_count": 39,
   "id": "a4bb1b5f-3d85-4518-87ba-c31a897e1741",
   "metadata": {},
   "outputs": [
    {
     "data": {
      "text/plain": [
       "tensor([ 4,  9, 14, 19, 24])"
      ]
     },
     "execution_count": 39,
     "metadata": {},
     "output_type": "execute_result"
    }
   ],
   "source": [
    "m, argm = x.max(dim=1)\n",
    "m"
   ]
  },
  {
   "cell_type": "code",
   "execution_count": 40,
   "id": "f57f5a27-86b2-4243-bccc-72c34465417a",
   "metadata": {},
   "outputs": [
    {
     "data": {
      "text/plain": [
       "tensor([4, 4, 4, 4, 4])"
      ]
     },
     "execution_count": 40,
     "metadata": {},
     "output_type": "execute_result"
    }
   ],
   "source": [
    "argm"
   ]
  },
  {
   "cell_type": "code",
   "execution_count": 41,
   "id": "18a26234-ea71-4ca5-aa84-d431887d35b2",
   "metadata": {},
   "outputs": [
    {
     "data": {
      "text/plain": [
       "torch.Size([5, 5])"
      ]
     },
     "execution_count": 41,
     "metadata": {},
     "output_type": "execute_result"
    }
   ],
   "source": [
    "x.shape"
   ]
  },
  {
   "cell_type": "code",
   "execution_count": 42,
   "id": "cee07454-0db0-40d2-9db7-5fef49eaf5d6",
   "metadata": {},
   "outputs": [
    {
     "data": {
      "text/plain": [
       "tensor([[ 0,  1,  2,  3,  4],\n",
       "        [ 5,  6,  7,  8,  9],\n",
       "        [10, 11, 12, 13, 14],\n",
       "        [15, 16, 17, 18, 19],\n",
       "        [20, 21, 22, 23, 24]])"
      ]
     },
     "execution_count": 42,
     "metadata": {},
     "output_type": "execute_result"
    }
   ],
   "source": [
    "x"
   ]
  },
  {
   "cell_type": "code",
   "execution_count": 43,
   "id": "ff7198ce-a9b9-41c0-a58c-8f8228ba0f31",
   "metadata": {},
   "outputs": [
    {
     "data": {
      "text/plain": [
       "torch.Size([30, 10, 20])"
      ]
     },
     "execution_count": 43,
     "metadata": {},
     "output_type": "execute_result"
    }
   ],
   "source": [
    "x = torch.randn(10,20,30)\n",
    "z = x.permute(2,0,1)\n",
    "z.shape"
   ]
  },
  {
   "cell_type": "code",
   "execution_count": 44,
   "id": "35323647-ffe9-4a69-a417-bd77239b8bc6",
   "metadata": {},
   "outputs": [
    {
     "data": {
      "text/plain": [
       "torch.Size([10, 20, 30])"
      ]
     },
     "execution_count": 44,
     "metadata": {},
     "output_type": "execute_result"
    }
   ],
   "source": [
    "x.shape"
   ]
  },
  {
   "cell_type": "code",
   "execution_count": 45,
   "id": "0da41491-4525-4847-956d-3ba504097185",
   "metadata": {},
   "outputs": [
    {
     "data": {
      "text/plain": [
       "torch.return_types.svd(\n",
       "U=tensor([[[ 0.1647, -0.1114,  0.0032,  ..., -0.3434,  0.0853,  0.0830],\n",
       "         [-0.0334,  0.1945,  0.0388,  ..., -0.1442,  0.2570, -0.1809],\n",
       "         [-0.1466,  0.6529, -0.3427,  ..., -0.1093, -0.2074,  0.0727],\n",
       "         ...,\n",
       "         [ 0.1770, -0.0652,  0.3171,  ..., -0.2992, -0.3398,  0.1139],\n",
       "         [-0.0820, -0.0888, -0.4996,  ..., -0.1296, -0.3542, -0.1914],\n",
       "         [ 0.0336, -0.2172, -0.3997,  ...,  0.4000,  0.2278,  0.1778]],\n",
       "\n",
       "        [[-0.2643,  0.0358,  0.0291,  ...,  0.1941, -0.0607, -0.3885],\n",
       "         [ 0.1231,  0.1740,  0.0058,  ..., -0.0856, -0.1611, -0.3042],\n",
       "         [-0.1934,  0.1898,  0.4206,  ...,  0.0382, -0.0090, -0.2912],\n",
       "         ...,\n",
       "         [-0.0347,  0.5896,  0.1765,  ..., -0.0320, -0.1747,  0.3082],\n",
       "         [-0.0070,  0.0084, -0.1764,  ...,  0.0582,  0.0432,  0.4310],\n",
       "         [-0.1118, -0.1884, -0.0240,  ...,  0.2545,  0.0608,  0.0318]],\n",
       "\n",
       "        [[ 0.2323, -0.2747,  0.1964,  ..., -0.1976,  0.2710,  0.1767],\n",
       "         [-0.1701,  0.2371, -0.3374,  ...,  0.0586, -0.0444,  0.1178],\n",
       "         [ 0.2962, -0.3946, -0.0409,  ..., -0.3330, -0.2372, -0.2947],\n",
       "         ...,\n",
       "         [ 0.0213, -0.0514, -0.2130,  ..., -0.0686,  0.2871,  0.2710],\n",
       "         [-0.3803, -0.0079,  0.1207,  ...,  0.1547,  0.0355,  0.1198],\n",
       "         [ 0.2238, -0.2002,  0.0562,  ...,  0.3619,  0.2464,  0.3589]],\n",
       "\n",
       "        ...,\n",
       "\n",
       "        [[ 0.0786,  0.0716, -0.0153,  ...,  0.2285,  0.5089, -0.2547],\n",
       "         [-0.2534, -0.0214, -0.0161,  ..., -0.5678, -0.1314,  0.0345],\n",
       "         [ 0.2419,  0.1766, -0.2643,  ...,  0.0204,  0.1131,  0.0679],\n",
       "         ...,\n",
       "         [ 0.3436,  0.1509,  0.1976,  ...,  0.2358,  0.0274,  0.1865],\n",
       "         [ 0.3065, -0.2566,  0.3169,  ..., -0.1216, -0.1011, -0.3740],\n",
       "         [ 0.4151, -0.0545,  0.0208,  ..., -0.1117, -0.4104,  0.1443]],\n",
       "\n",
       "        [[ 0.4087, -0.0766, -0.0838,  ..., -0.1366,  0.0237, -0.1487],\n",
       "         [-0.0784,  0.0016,  0.0546,  ...,  0.0961, -0.0311, -0.0118],\n",
       "         [ 0.0542,  0.1552, -0.1970,  ..., -0.0625,  0.3595,  0.0620],\n",
       "         ...,\n",
       "         [-0.0900,  0.1410, -0.0572,  ...,  0.2696, -0.0186, -0.1951],\n",
       "         [-0.1417,  0.0711, -0.0785,  ..., -0.3692, -0.2682,  0.3590],\n",
       "         [ 0.1187, -0.1449,  0.3047,  ...,  0.0651,  0.0864,  0.1169]],\n",
       "\n",
       "        [[ 0.3070, -0.3157, -0.1422,  ..., -0.1887, -0.0720, -0.2321],\n",
       "         [-0.4810, -0.3779,  0.0393,  ..., -0.2675, -0.0257,  0.0187],\n",
       "         [-0.1545, -0.4155, -0.3705,  ...,  0.1536, -0.2407, -0.0209],\n",
       "         ...,\n",
       "         [-0.0359,  0.1509, -0.3089,  ..., -0.0289, -0.2542,  0.2218],\n",
       "         [ 0.0440,  0.0297, -0.2124,  ...,  0.1035,  0.1301, -0.2367],\n",
       "         [ 0.1746,  0.3549,  0.0417,  ..., -0.0331, -0.0893, -0.3072]]]),\n",
       "S=tensor([[9.8049, 8.8820, 7.7025, 7.5633, 7.3058, 6.9827, 6.1828, 5.8467, 5.4171,\n",
       "         5.0717, 4.4902, 4.0302, 3.8120, 3.6943, 3.2519, 2.9165, 2.8175, 2.4591,\n",
       "         1.9557, 1.1756],\n",
       "        [9.6758, 8.4895, 8.1391, 7.3185, 6.9747, 6.8000, 6.4475, 5.5259, 5.0158,\n",
       "         4.7124, 4.3729, 4.2150, 3.5672, 3.3847, 3.0811, 2.8486, 2.2526, 2.1293,\n",
       "         1.7788, 1.0007],\n",
       "        [9.4848, 8.9375, 8.6232, 7.5059, 7.2771, 7.0160, 6.8667, 5.6520, 5.4886,\n",
       "         4.9698, 4.6731, 4.3226, 3.8747, 3.5790, 3.0285, 2.8039, 2.5263, 2.2031,\n",
       "         1.8226, 1.4118],\n",
       "        [9.7846, 9.2040, 8.5895, 8.0472, 7.3776, 6.9316, 6.6980, 6.2559, 5.7072,\n",
       "         5.0506, 4.3614, 4.2971, 3.7164, 3.4172, 3.0644, 2.8661, 2.1043, 2.0470,\n",
       "         1.4663, 1.1558],\n",
       "        [9.5613, 9.1815, 9.0753, 7.5374, 7.1544, 6.3857, 5.8941, 5.7356, 5.4721,\n",
       "         4.8131, 4.5597, 4.2579, 3.8577, 3.5333, 3.2825, 2.7636, 2.1168, 1.9467,\n",
       "         1.4510, 1.3659],\n",
       "        [9.3291, 8.8766, 7.9071, 7.2508, 7.0742, 6.7013, 6.4044, 5.8112, 5.1914,\n",
       "         4.9672, 4.6898, 4.0690, 3.6636, 3.3088, 2.9249, 2.7161, 2.2504, 2.1961,\n",
       "         1.6557, 1.1758],\n",
       "        [9.6793, 8.7962, 8.4265, 7.8781, 7.5416, 7.2765, 6.4324, 6.2511, 6.0122,\n",
       "         5.4177, 4.9846, 4.6558, 3.6991, 3.6489, 3.2428, 3.0302, 2.5371, 2.2384,\n",
       "         1.3942, 1.1806],\n",
       "        [9.7351, 8.6992, 8.1425, 7.5329, 7.0225, 6.6564, 6.1570, 5.5870, 5.2479,\n",
       "         4.9439, 4.3089, 4.1338, 3.9724, 3.4463, 3.2430, 2.9195, 2.3382, 2.1402,\n",
       "         2.0852, 1.6950],\n",
       "        [9.1260, 8.1205, 7.9559, 7.2220, 7.0367, 6.6095, 6.2549, 5.8378, 5.3250,\n",
       "         4.8954, 4.7496, 4.0970, 3.6045, 3.2933, 2.7369, 2.6457, 2.2490, 2.0126,\n",
       "         1.7356, 1.0314],\n",
       "        [8.5211, 8.3952, 7.3212, 7.0743, 6.4691, 6.2438, 5.4540, 5.1610, 4.7454,\n",
       "         4.5168, 4.2895, 3.6356, 3.2762, 3.0083, 2.8101, 2.4978, 2.2369, 1.8635,\n",
       "         1.0972, 0.8741]]),\n",
       "V=tensor([[[-5.7628e-02, -2.5614e-01, -1.3344e-01,  ...,  3.7685e-01,\n",
       "           6.0296e-02, -7.0970e-02],\n",
       "         [ 9.1367e-03,  3.2892e-02,  4.5667e-03,  ..., -3.4136e-01,\n",
       "          -3.4962e-01,  1.1416e-01],\n",
       "         [ 1.5895e-02, -1.7240e-01, -3.1130e-03,  ..., -1.4803e-01,\n",
       "           1.7261e-02,  4.1105e-01],\n",
       "         ...,\n",
       "         [ 3.5800e-01,  1.1247e-01, -8.4908e-02,  ...,  1.8675e-01,\n",
       "          -1.3269e-01,  3.7921e-01],\n",
       "         [ 4.4650e-02, -2.4948e-02,  3.2830e-01,  ...,  9.4934e-03,\n",
       "           1.6064e-01,  2.0001e-01],\n",
       "         [ 2.9328e-01,  9.1866e-02, -1.5579e-01,  ..., -4.5976e-02,\n",
       "           7.3588e-02,  2.0417e-01]],\n",
       "\n",
       "        [[-2.0249e-02, -3.6780e-01,  7.6391e-02,  ..., -9.8815e-02,\n",
       "           2.7571e-04, -4.1973e-01],\n",
       "         [ 6.2009e-02, -1.0880e-01,  2.8588e-01,  ...,  3.7012e-02,\n",
       "           2.2057e-01, -2.3486e-01],\n",
       "         [-7.0174e-02, -1.1216e-01,  8.2535e-02,  ...,  2.0531e-01,\n",
       "           4.7594e-01, -2.6714e-01],\n",
       "         ...,\n",
       "         [-2.0647e-01,  2.1381e-01, -1.8208e-01,  ...,  2.6272e-01,\n",
       "           1.1650e-01, -3.0104e-01],\n",
       "         [-3.1995e-01, -3.0933e-02,  9.1226e-02,  ..., -1.2092e-01,\n",
       "          -1.2446e-02, -5.6006e-03],\n",
       "         [ 2.0082e-01, -1.5377e-02,  8.1168e-02,  ...,  1.0726e-01,\n",
       "          -1.4797e-01,  1.0317e-01]],\n",
       "\n",
       "        [[-8.6949e-02,  9.7788e-02,  3.0967e-02,  ...,  1.4485e-01,\n",
       "          -1.1923e-01,  2.1103e-02],\n",
       "         [-7.7621e-02, -2.3611e-01, -1.0530e-01,  ..., -3.4150e-01,\n",
       "          -1.1972e-01,  3.2979e-01],\n",
       "         [ 4.7149e-02,  2.8771e-02,  2.4226e-01,  ...,  6.6581e-03,\n",
       "           4.3277e-01,  3.0554e-01],\n",
       "         ...,\n",
       "         [ 6.8171e-02, -2.4774e-01,  3.0396e-01,  ..., -2.0811e-01,\n",
       "          -2.6977e-02, -1.0014e-01],\n",
       "         [-4.4753e-02,  7.5793e-03, -1.0643e-01,  ..., -1.7436e-01,\n",
       "          -1.1948e-01, -3.3773e-01],\n",
       "         [ 2.5921e-01,  2.4722e-01, -1.6624e-01,  ..., -2.6018e-01,\n",
       "          -1.7340e-01, -2.1902e-01]],\n",
       "\n",
       "        ...,\n",
       "\n",
       "        [[-3.3465e-02, -5.5957e-02, -7.1815e-02,  ..., -1.5989e-01,\n",
       "           2.5565e-01, -3.4586e-01],\n",
       "         [ 2.2459e-01, -6.3051e-02, -2.8147e-01,  ...,  6.9233e-02,\n",
       "          -9.4143e-03, -1.2903e-01],\n",
       "         [ 3.4344e-02, -2.1337e-01,  7.1558e-02,  ..., -1.7312e-01,\n",
       "          -4.4595e-01,  2.5095e-01],\n",
       "         ...,\n",
       "         [ 2.0670e-01,  5.1704e-02,  3.6883e-01,  ...,  2.1037e-01,\n",
       "           1.1533e-01, -1.6317e-01],\n",
       "         [-4.1671e-02, -3.2484e-01,  6.1296e-02,  ...,  7.9149e-02,\n",
       "           1.4928e-01, -8.5985e-02],\n",
       "         [ 1.6000e-01,  2.9565e-01, -5.6582e-02,  ..., -8.8354e-02,\n",
       "          -2.2551e-02,  2.6077e-01]],\n",
       "\n",
       "        [[-1.6449e-01,  1.8746e-01,  2.6232e-01,  ..., -1.5287e-01,\n",
       "           1.5354e-01, -2.2270e-01],\n",
       "         [ 1.4067e-01,  1.9700e-01, -2.7614e-02,  ..., -1.5253e-01,\n",
       "          -1.2317e-01,  4.1419e-02],\n",
       "         [ 1.6781e-01,  3.6755e-01,  1.9149e-01,  ...,  2.0374e-01,\n",
       "          -3.1760e-01, -5.2614e-02],\n",
       "         ...,\n",
       "         [ 2.2318e-01, -1.3280e-02,  9.9783e-02,  ...,  1.9740e-01,\n",
       "          -1.3616e-02, -1.0085e-01],\n",
       "         [-4.4338e-02,  8.5358e-02,  9.2836e-03,  ..., -3.0592e-01,\n",
       "           3.3632e-02,  6.4045e-02],\n",
       "         [-2.2100e-01, -1.1884e-02,  4.7222e-02,  ..., -6.0056e-02,\n",
       "          -6.7001e-03,  1.3371e-01]],\n",
       "\n",
       "        [[-2.0035e-01, -1.1280e-01, -1.2819e-01,  ...,  4.2163e-02,\n",
       "           1.8264e-01,  1.4886e-01],\n",
       "         [-1.0805e-01, -1.2512e-01, -2.0510e-01,  ..., -1.0243e-01,\n",
       "          -1.0192e-01, -1.7275e-01],\n",
       "         [-1.8057e-01,  8.3414e-03, -5.3148e-01,  ..., -1.6493e-01,\n",
       "          -7.1958e-02, -1.0560e-01],\n",
       "         ...,\n",
       "         [-1.0267e-01, -4.7554e-02, -8.3572e-04,  ..., -2.2327e-01,\n",
       "           3.0567e-03,  7.4047e-02],\n",
       "         [ 1.0278e-01, -1.8155e-01, -9.7515e-03,  ...,  2.6912e-02,\n",
       "          -7.1022e-02, -5.7914e-02],\n",
       "         [ 1.2640e-01, -3.1763e-01, -8.8352e-02,  ..., -8.8743e-02,\n",
       "           3.2289e-01,  4.1099e-01]]]))"
      ]
     },
     "execution_count": 45,
     "metadata": {},
     "output_type": "execute_result"
    }
   ],
   "source": [
    "x.svd()"
   ]
  },
  {
   "cell_type": "code",
   "execution_count": 46,
   "id": "8cf5acc2-7cfb-4309-a848-dd19c87f75e7",
   "metadata": {},
   "outputs": [
    {
     "data": {
      "text/plain": [
       "['H',\n",
       " 'T',\n",
       " '__abs__',\n",
       " '__add__',\n",
       " '__and__',\n",
       " '__array__',\n",
       " '__array_priority__',\n",
       " '__array_wrap__',\n",
       " '__bool__',\n",
       " '__class__',\n",
       " '__complex__',\n",
       " '__contains__',\n",
       " '__cuda_array_interface__',\n",
       " '__deepcopy__',\n",
       " '__delattr__',\n",
       " '__delitem__',\n",
       " '__dict__',\n",
       " '__dir__',\n",
       " '__div__',\n",
       " '__dlpack__',\n",
       " '__dlpack_device__',\n",
       " '__doc__',\n",
       " '__eq__',\n",
       " '__float__',\n",
       " '__floordiv__',\n",
       " '__format__',\n",
       " '__ge__',\n",
       " '__getattribute__',\n",
       " '__getitem__',\n",
       " '__gt__',\n",
       " '__hash__',\n",
       " '__iadd__',\n",
       " '__iand__',\n",
       " '__idiv__',\n",
       " '__ifloordiv__',\n",
       " '__ilshift__',\n",
       " '__imod__',\n",
       " '__imul__',\n",
       " '__index__',\n",
       " '__init__',\n",
       " '__init_subclass__',\n",
       " '__int__',\n",
       " '__invert__',\n",
       " '__ior__',\n",
       " '__ipow__',\n",
       " '__irshift__',\n",
       " '__isub__',\n",
       " '__iter__',\n",
       " '__itruediv__',\n",
       " '__ixor__',\n",
       " '__le__',\n",
       " '__len__',\n",
       " '__long__',\n",
       " '__lshift__',\n",
       " '__lt__',\n",
       " '__matmul__',\n",
       " '__mod__',\n",
       " '__module__',\n",
       " '__mul__',\n",
       " '__ne__',\n",
       " '__neg__',\n",
       " '__new__',\n",
       " '__nonzero__',\n",
       " '__or__',\n",
       " '__pos__',\n",
       " '__pow__',\n",
       " '__radd__',\n",
       " '__rand__',\n",
       " '__rdiv__',\n",
       " '__reduce__',\n",
       " '__reduce_ex__',\n",
       " '__repr__',\n",
       " '__reversed__',\n",
       " '__rfloordiv__',\n",
       " '__rlshift__',\n",
       " '__rmatmul__',\n",
       " '__rmod__',\n",
       " '__rmul__',\n",
       " '__ror__',\n",
       " '__rpow__',\n",
       " '__rrshift__',\n",
       " '__rshift__',\n",
       " '__rsub__',\n",
       " '__rtruediv__',\n",
       " '__rxor__',\n",
       " '__setattr__',\n",
       " '__setitem__',\n",
       " '__setstate__',\n",
       " '__sizeof__',\n",
       " '__str__',\n",
       " '__sub__',\n",
       " '__subclasshook__',\n",
       " '__torch_dispatch__',\n",
       " '__torch_function__',\n",
       " '__truediv__',\n",
       " '__weakref__',\n",
       " '__xor__',\n",
       " '_addmm_activation',\n",
       " '_autocast_to_full_precision',\n",
       " '_autocast_to_reduced_precision',\n",
       " '_backward_hooks',\n",
       " '_base',\n",
       " '_cdata',\n",
       " '_coalesced_',\n",
       " '_conj',\n",
       " '_conj_physical',\n",
       " '_dimI',\n",
       " '_dimV',\n",
       " '_fix_weakref',\n",
       " '_grad',\n",
       " '_grad_fn',\n",
       " '_indices',\n",
       " '_is_view',\n",
       " '_is_zerotensor',\n",
       " '_make_subclass',\n",
       " '_make_wrapper_subclass',\n",
       " '_neg_view',\n",
       " '_nested_tensor_layer_norm',\n",
       " '_nnz',\n",
       " '_python_dispatch',\n",
       " '_reduce_ex_internal',\n",
       " '_storage',\n",
       " '_to_dense',\n",
       " '_update_names',\n",
       " '_values',\n",
       " '_version',\n",
       " 'abs',\n",
       " 'abs_',\n",
       " 'absolute',\n",
       " 'absolute_',\n",
       " 'acos',\n",
       " 'acos_',\n",
       " 'acosh',\n",
       " 'acosh_',\n",
       " 'add',\n",
       " 'add_',\n",
       " 'addbmm',\n",
       " 'addbmm_',\n",
       " 'addcdiv',\n",
       " 'addcdiv_',\n",
       " 'addcmul',\n",
       " 'addcmul_',\n",
       " 'addmm',\n",
       " 'addmm_',\n",
       " 'addmv',\n",
       " 'addmv_',\n",
       " 'addr',\n",
       " 'addr_',\n",
       " 'adjoint',\n",
       " 'align_as',\n",
       " 'align_to',\n",
       " 'all',\n",
       " 'allclose',\n",
       " 'amax',\n",
       " 'amin',\n",
       " 'aminmax',\n",
       " 'angle',\n",
       " 'any',\n",
       " 'apply_',\n",
       " 'arccos',\n",
       " 'arccos_',\n",
       " 'arccosh',\n",
       " 'arccosh_',\n",
       " 'arcsin',\n",
       " 'arcsin_',\n",
       " 'arcsinh',\n",
       " 'arcsinh_',\n",
       " 'arctan',\n",
       " 'arctan2',\n",
       " 'arctan2_',\n",
       " 'arctan_',\n",
       " 'arctanh',\n",
       " 'arctanh_',\n",
       " 'argmax',\n",
       " 'argmin',\n",
       " 'argsort',\n",
       " 'argwhere',\n",
       " 'as_strided',\n",
       " 'as_strided_',\n",
       " 'as_subclass',\n",
       " 'asin',\n",
       " 'asin_',\n",
       " 'asinh',\n",
       " 'asinh_',\n",
       " 'atan',\n",
       " 'atan2',\n",
       " 'atan2_',\n",
       " 'atan_',\n",
       " 'atanh',\n",
       " 'atanh_',\n",
       " 'backward',\n",
       " 'baddbmm',\n",
       " 'baddbmm_',\n",
       " 'bernoulli',\n",
       " 'bernoulli_',\n",
       " 'bfloat16',\n",
       " 'bincount',\n",
       " 'bitwise_and',\n",
       " 'bitwise_and_',\n",
       " 'bitwise_left_shift',\n",
       " 'bitwise_left_shift_',\n",
       " 'bitwise_not',\n",
       " 'bitwise_not_',\n",
       " 'bitwise_or',\n",
       " 'bitwise_or_',\n",
       " 'bitwise_right_shift',\n",
       " 'bitwise_right_shift_',\n",
       " 'bitwise_xor',\n",
       " 'bitwise_xor_',\n",
       " 'bmm',\n",
       " 'bool',\n",
       " 'broadcast_to',\n",
       " 'byte',\n",
       " 'cauchy_',\n",
       " 'ccol_indices',\n",
       " 'cdouble',\n",
       " 'ceil',\n",
       " 'ceil_',\n",
       " 'cfloat',\n",
       " 'chalf',\n",
       " 'char',\n",
       " 'cholesky',\n",
       " 'cholesky_inverse',\n",
       " 'cholesky_solve',\n",
       " 'chunk',\n",
       " 'clamp',\n",
       " 'clamp_',\n",
       " 'clamp_max',\n",
       " 'clamp_max_',\n",
       " 'clamp_min',\n",
       " 'clamp_min_',\n",
       " 'clip',\n",
       " 'clip_',\n",
       " 'clone',\n",
       " 'coalesce',\n",
       " 'col_indices',\n",
       " 'conj',\n",
       " 'conj_physical',\n",
       " 'conj_physical_',\n",
       " 'contiguous',\n",
       " 'copy_',\n",
       " 'copysign',\n",
       " 'copysign_',\n",
       " 'corrcoef',\n",
       " 'cos',\n",
       " 'cos_',\n",
       " 'cosh',\n",
       " 'cosh_',\n",
       " 'count_nonzero',\n",
       " 'cov',\n",
       " 'cpu',\n",
       " 'cross',\n",
       " 'crow_indices',\n",
       " 'cuda',\n",
       " 'cummax',\n",
       " 'cummin',\n",
       " 'cumprod',\n",
       " 'cumprod_',\n",
       " 'cumsum',\n",
       " 'cumsum_',\n",
       " 'data',\n",
       " 'data_ptr',\n",
       " 'deg2rad',\n",
       " 'deg2rad_',\n",
       " 'dense_dim',\n",
       " 'dequantize',\n",
       " 'det',\n",
       " 'detach',\n",
       " 'detach_',\n",
       " 'device',\n",
       " 'diag',\n",
       " 'diag_embed',\n",
       " 'diagflat',\n",
       " 'diagonal',\n",
       " 'diagonal_scatter',\n",
       " 'diff',\n",
       " 'digamma',\n",
       " 'digamma_',\n",
       " 'dim',\n",
       " 'dist',\n",
       " 'div',\n",
       " 'div_',\n",
       " 'divide',\n",
       " 'divide_',\n",
       " 'dot',\n",
       " 'double',\n",
       " 'dsplit',\n",
       " 'dtype',\n",
       " 'eig',\n",
       " 'element_size',\n",
       " 'eq',\n",
       " 'eq_',\n",
       " 'equal',\n",
       " 'erf',\n",
       " 'erf_',\n",
       " 'erfc',\n",
       " 'erfc_',\n",
       " 'erfinv',\n",
       " 'erfinv_',\n",
       " 'exp',\n",
       " 'exp2',\n",
       " 'exp2_',\n",
       " 'exp_',\n",
       " 'expand',\n",
       " 'expand_as',\n",
       " 'expm1',\n",
       " 'expm1_',\n",
       " 'exponential_',\n",
       " 'fill_',\n",
       " 'fill_diagonal_',\n",
       " 'fix',\n",
       " 'fix_',\n",
       " 'flatten',\n",
       " 'flip',\n",
       " 'fliplr',\n",
       " 'flipud',\n",
       " 'float',\n",
       " 'float_power',\n",
       " 'float_power_',\n",
       " 'floor',\n",
       " 'floor_',\n",
       " 'floor_divide',\n",
       " 'floor_divide_',\n",
       " 'fmax',\n",
       " 'fmin',\n",
       " 'fmod',\n",
       " 'fmod_',\n",
       " 'frac',\n",
       " 'frac_',\n",
       " 'frexp',\n",
       " 'gather',\n",
       " 'gcd',\n",
       " 'gcd_',\n",
       " 'ge',\n",
       " 'ge_',\n",
       " 'geometric_',\n",
       " 'geqrf',\n",
       " 'ger',\n",
       " 'get_device',\n",
       " 'grad',\n",
       " 'grad_fn',\n",
       " 'greater',\n",
       " 'greater_',\n",
       " 'greater_equal',\n",
       " 'greater_equal_',\n",
       " 'gt',\n",
       " 'gt_',\n",
       " 'half',\n",
       " 'hardshrink',\n",
       " 'has_names',\n",
       " 'heaviside',\n",
       " 'heaviside_',\n",
       " 'histc',\n",
       " 'histogram',\n",
       " 'hsplit',\n",
       " 'hypot',\n",
       " 'hypot_',\n",
       " 'i0',\n",
       " 'i0_',\n",
       " 'igamma',\n",
       " 'igamma_',\n",
       " 'igammac',\n",
       " 'igammac_',\n",
       " 'imag',\n",
       " 'index_add',\n",
       " 'index_add_',\n",
       " 'index_copy',\n",
       " 'index_copy_',\n",
       " 'index_fill',\n",
       " 'index_fill_',\n",
       " 'index_put',\n",
       " 'index_put_',\n",
       " 'index_reduce',\n",
       " 'index_reduce_',\n",
       " 'index_select',\n",
       " 'indices',\n",
       " 'inner',\n",
       " 'int',\n",
       " 'int_repr',\n",
       " 'inverse',\n",
       " 'ipu',\n",
       " 'is_coalesced',\n",
       " 'is_complex',\n",
       " 'is_conj',\n",
       " 'is_contiguous',\n",
       " 'is_cuda',\n",
       " 'is_distributed',\n",
       " 'is_floating_point',\n",
       " 'is_inference',\n",
       " 'is_ipu',\n",
       " 'is_leaf',\n",
       " 'is_meta',\n",
       " 'is_mkldnn',\n",
       " 'is_mps',\n",
       " 'is_neg',\n",
       " 'is_nested',\n",
       " 'is_nonzero',\n",
       " 'is_ort',\n",
       " 'is_pinned',\n",
       " 'is_quantized',\n",
       " 'is_same_size',\n",
       " 'is_set_to',\n",
       " 'is_shared',\n",
       " 'is_signed',\n",
       " 'is_sparse',\n",
       " 'is_sparse_csr',\n",
       " 'is_vulkan',\n",
       " 'is_xpu',\n",
       " 'isclose',\n",
       " 'isfinite',\n",
       " 'isinf',\n",
       " 'isnan',\n",
       " 'isneginf',\n",
       " 'isposinf',\n",
       " 'isreal',\n",
       " 'istft',\n",
       " 'item',\n",
       " 'kron',\n",
       " 'kthvalue',\n",
       " 'layout',\n",
       " 'lcm',\n",
       " 'lcm_',\n",
       " 'ldexp',\n",
       " 'ldexp_',\n",
       " 'le',\n",
       " 'le_',\n",
       " 'lerp',\n",
       " 'lerp_',\n",
       " 'less',\n",
       " 'less_',\n",
       " 'less_equal',\n",
       " 'less_equal_',\n",
       " 'lgamma',\n",
       " 'lgamma_',\n",
       " 'log',\n",
       " 'log10',\n",
       " 'log10_',\n",
       " 'log1p',\n",
       " 'log1p_',\n",
       " 'log2',\n",
       " 'log2_',\n",
       " 'log_',\n",
       " 'log_normal_',\n",
       " 'log_softmax',\n",
       " 'logaddexp',\n",
       " 'logaddexp2',\n",
       " 'logcumsumexp',\n",
       " 'logdet',\n",
       " 'logical_and',\n",
       " 'logical_and_',\n",
       " 'logical_not',\n",
       " 'logical_not_',\n",
       " 'logical_or',\n",
       " 'logical_or_',\n",
       " 'logical_xor',\n",
       " 'logical_xor_',\n",
       " 'logit',\n",
       " 'logit_',\n",
       " 'logsumexp',\n",
       " 'long',\n",
       " 'lstsq',\n",
       " 'lt',\n",
       " 'lt_',\n",
       " 'lu',\n",
       " 'lu_solve',\n",
       " 'mH',\n",
       " 'mT',\n",
       " 'map2_',\n",
       " 'map_',\n",
       " 'masked_fill',\n",
       " 'masked_fill_',\n",
       " 'masked_scatter',\n",
       " 'masked_scatter_',\n",
       " 'masked_select',\n",
       " 'matmul',\n",
       " 'matrix_exp',\n",
       " 'matrix_power',\n",
       " 'max',\n",
       " 'maximum',\n",
       " 'mean',\n",
       " 'median',\n",
       " 'min',\n",
       " 'minimum',\n",
       " 'mm',\n",
       " 'mode',\n",
       " 'moveaxis',\n",
       " 'movedim',\n",
       " 'msort',\n",
       " 'mul',\n",
       " 'mul_',\n",
       " 'multinomial',\n",
       " 'multiply',\n",
       " 'multiply_',\n",
       " 'mv',\n",
       " 'mvlgamma',\n",
       " 'mvlgamma_',\n",
       " 'name',\n",
       " 'names',\n",
       " 'nan_to_num',\n",
       " 'nan_to_num_',\n",
       " 'nanmean',\n",
       " 'nanmedian',\n",
       " 'nanquantile',\n",
       " 'nansum',\n",
       " 'narrow',\n",
       " 'narrow_copy',\n",
       " 'ndim',\n",
       " 'ndimension',\n",
       " 'ne',\n",
       " 'ne_',\n",
       " 'neg',\n",
       " 'neg_',\n",
       " 'negative',\n",
       " 'negative_',\n",
       " 'nelement',\n",
       " 'new',\n",
       " 'new_empty',\n",
       " 'new_empty_strided',\n",
       " 'new_full',\n",
       " 'new_ones',\n",
       " 'new_tensor',\n",
       " 'new_zeros',\n",
       " 'nextafter',\n",
       " 'nextafter_',\n",
       " 'nonzero',\n",
       " 'norm',\n",
       " 'normal_',\n",
       " 'not_equal',\n",
       " 'not_equal_',\n",
       " 'numel',\n",
       " 'numpy',\n",
       " 'orgqr',\n",
       " 'ormqr',\n",
       " 'outer',\n",
       " 'output_nr',\n",
       " 'permute',\n",
       " 'pin_memory',\n",
       " 'pinverse',\n",
       " 'polygamma',\n",
       " 'polygamma_',\n",
       " 'positive',\n",
       " 'pow',\n",
       " 'pow_',\n",
       " 'prelu',\n",
       " 'prod',\n",
       " 'put',\n",
       " 'put_',\n",
       " 'q_per_channel_axis',\n",
       " 'q_per_channel_scales',\n",
       " 'q_per_channel_zero_points',\n",
       " 'q_scale',\n",
       " 'q_zero_point',\n",
       " 'qr',\n",
       " 'qscheme',\n",
       " 'quantile',\n",
       " 'rad2deg',\n",
       " 'rad2deg_',\n",
       " 'random_',\n",
       " 'ravel',\n",
       " 'real',\n",
       " 'reciprocal',\n",
       " 'reciprocal_',\n",
       " 'record_stream',\n",
       " 'refine_names',\n",
       " 'register_hook',\n",
       " 'reinforce',\n",
       " 'relu',\n",
       " 'relu_',\n",
       " 'remainder',\n",
       " 'remainder_',\n",
       " 'rename',\n",
       " 'rename_',\n",
       " 'renorm',\n",
       " 'renorm_',\n",
       " 'repeat',\n",
       " 'repeat_interleave',\n",
       " 'requires_grad',\n",
       " 'requires_grad_',\n",
       " 'reshape',\n",
       " 'reshape_as',\n",
       " 'resize',\n",
       " 'resize_',\n",
       " 'resize_as',\n",
       " 'resize_as_',\n",
       " 'resize_as_sparse_',\n",
       " 'resolve_conj',\n",
       " 'resolve_neg',\n",
       " 'retain_grad',\n",
       " 'retains_grad',\n",
       " 'roll',\n",
       " 'rot90',\n",
       " 'round',\n",
       " 'round_',\n",
       " 'row_indices',\n",
       " 'rsqrt',\n",
       " 'rsqrt_',\n",
       " 'scatter',\n",
       " 'scatter_',\n",
       " 'scatter_add',\n",
       " 'scatter_add_',\n",
       " 'scatter_reduce',\n",
       " 'scatter_reduce_',\n",
       " 'select',\n",
       " 'select_scatter',\n",
       " 'set_',\n",
       " 'sgn',\n",
       " 'sgn_',\n",
       " 'shape',\n",
       " 'share_memory_',\n",
       " 'short',\n",
       " 'sigmoid',\n",
       " 'sigmoid_',\n",
       " 'sign',\n",
       " 'sign_',\n",
       " 'signbit',\n",
       " 'sin',\n",
       " 'sin_',\n",
       " 'sinc',\n",
       " 'sinc_',\n",
       " 'sinh',\n",
       " 'sinh_',\n",
       " 'size',\n",
       " 'slice_scatter',\n",
       " 'slogdet',\n",
       " 'smm',\n",
       " 'softmax',\n",
       " 'solve',\n",
       " 'sort',\n",
       " 'sparse_dim',\n",
       " 'sparse_mask',\n",
       " 'sparse_resize_',\n",
       " 'sparse_resize_and_clear_',\n",
       " 'split',\n",
       " 'split_with_sizes',\n",
       " 'sqrt',\n",
       " 'sqrt_',\n",
       " 'square',\n",
       " 'square_',\n",
       " 'squeeze',\n",
       " 'squeeze_',\n",
       " 'sspaddmm',\n",
       " 'std',\n",
       " 'stft',\n",
       " 'storage',\n",
       " 'storage_offset',\n",
       " 'storage_type',\n",
       " 'stride',\n",
       " 'sub',\n",
       " 'sub_',\n",
       " 'subtract',\n",
       " 'subtract_',\n",
       " 'sum',\n",
       " 'sum_to_size',\n",
       " 'svd',\n",
       " 'swapaxes',\n",
       " 'swapaxes_',\n",
       " 'swapdims',\n",
       " 'swapdims_',\n",
       " 'symeig',\n",
       " 't',\n",
       " 't_',\n",
       " 'take',\n",
       " 'take_along_dim',\n",
       " 'tan',\n",
       " 'tan_',\n",
       " 'tanh',\n",
       " 'tanh_',\n",
       " 'tensor_split',\n",
       " 'tile',\n",
       " 'to',\n",
       " 'to_dense',\n",
       " 'to_mkldnn',\n",
       " 'to_padded_tensor',\n",
       " 'to_sparse',\n",
       " 'to_sparse_bsc',\n",
       " 'to_sparse_bsr',\n",
       " 'to_sparse_coo',\n",
       " 'to_sparse_csc',\n",
       " 'to_sparse_csr',\n",
       " 'tolist',\n",
       " 'topk',\n",
       " 'trace',\n",
       " 'transpose',\n",
       " 'transpose_',\n",
       " 'triangular_solve',\n",
       " 'tril',\n",
       " 'tril_',\n",
       " 'triu',\n",
       " 'triu_',\n",
       " 'true_divide',\n",
       " 'true_divide_',\n",
       " 'trunc',\n",
       " 'trunc_',\n",
       " 'type',\n",
       " 'type_as',\n",
       " 'unbind',\n",
       " 'unflatten',\n",
       " 'unfold',\n",
       " 'uniform_',\n",
       " 'unique',\n",
       " 'unique_consecutive',\n",
       " 'unsafe_chunk',\n",
       " 'unsafe_split',\n",
       " 'unsafe_split_with_sizes',\n",
       " 'unsqueeze',\n",
       " 'unsqueeze_',\n",
       " 'values',\n",
       " 'var',\n",
       " 'vdot',\n",
       " 'view',\n",
       " 'view_as',\n",
       " 'volatile',\n",
       " 'vsplit',\n",
       " 'where',\n",
       " 'xlogy',\n",
       " 'xlogy_',\n",
       " 'xpu',\n",
       " 'zero_']"
      ]
     },
     "execution_count": 46,
     "metadata": {},
     "output_type": "execute_result"
    }
   ],
   "source": [
    "dir(torch.Tensor)"
   ]
  },
  {
   "cell_type": "code",
   "execution_count": 47,
   "id": "27a89797-eb6d-49e8-b264-4af3e6811e6c",
   "metadata": {},
   "outputs": [],
   "source": [
    "x = torch.tensor([[2., -1.], [1., 1.]], requires_grad = True)"
   ]
  },
  {
   "cell_type": "code",
   "execution_count": 48,
   "id": "623ce39e-3d51-4da2-97cc-229c33aa0ba9",
   "metadata": {},
   "outputs": [
    {
     "name": "stdout",
     "output_type": "stream",
     "text": [
      "tensor([[ 2., -1.],\n",
      "        [ 1.,  1.]], requires_grad=True)\n"
     ]
    }
   ],
   "source": [
    "print(x)"
   ]
  },
  {
   "cell_type": "code",
   "execution_count": 49,
   "id": "a7f4003a-4cf0-480b-a1ee-59bee10a31bf",
   "metadata": {},
   "outputs": [],
   "source": [
    "out = x.pow(2).sum()"
   ]
  },
  {
   "cell_type": "code",
   "execution_count": 50,
   "id": "9e740809-8cb7-403f-8022-288d07392519",
   "metadata": {},
   "outputs": [
    {
     "data": {
      "text/plain": [
       "tensor(7., grad_fn=<SumBackward0>)"
      ]
     },
     "execution_count": 50,
     "metadata": {},
     "output_type": "execute_result"
    }
   ],
   "source": [
    "out"
   ]
  },
  {
   "cell_type": "code",
   "execution_count": 51,
   "id": "b23fe7b5-fe9c-46c3-bf59-8660a14ab51c",
   "metadata": {},
   "outputs": [],
   "source": [
    "out.backward()"
   ]
  },
  {
   "cell_type": "code",
   "execution_count": 52,
   "id": "fcccf467-5033-4518-92cf-de11db620824",
   "metadata": {},
   "outputs": [
    {
     "data": {
      "text/plain": [
       "tensor([[ 4., -2.],\n",
       "        [ 2.,  2.]])"
      ]
     },
     "execution_count": 52,
     "metadata": {},
     "output_type": "execute_result"
    }
   ],
   "source": [
    "x.grad"
   ]
  },
  {
   "cell_type": "code",
   "execution_count": 55,
   "id": "0a2d7fe6-c3a5-404b-a9fe-8bfde305a1ca",
   "metadata": {},
   "outputs": [],
   "source": [
    "x = np.array([[1,1]]); y = np.array([[0]])  \n",
    "W = [\n",
    "    np.array([[-0.0053, 0.3793],\n",
    "              [-0.5820, -0.5204],\n",
    "              [-0.2723, 0.1896]], dtype=np.float32).T, \n",
    "    np.array([-0.0140, 0.5607, -0.0628], dtype=np.float32), \n",
    "    np.array([[ 0.1528, -0.1745, -0.1135]], dtype=np.float32).T, \n",
    "    np.array([-0.5516], dtype=np.float32)]"
   ]
  },
  {
   "cell_type": "code",
   "execution_count": 64,
   "id": "763f21d2-eb59-4c2f-a8e1-8efa9a9aeca1",
   "metadata": {},
   "outputs": [],
   "source": [
    "xTensor = x.clone().detach()"
   ]
  },
  {
   "cell_type": "code",
   "execution_count": 67,
   "id": "5d8a7cce-d460-4469-aa54-6a95d504e4b6",
   "metadata": {},
   "outputs": [
    {
     "data": {
      "text/plain": [
       "tensor([[1, 1]], dtype=torch.int32)"
      ]
     },
     "execution_count": 67,
     "metadata": {},
     "output_type": "execute_result"
    }
   ],
   "source": [
    "xTensor"
   ]
  },
  {
   "cell_type": "code",
   "execution_count": 69,
   "id": "9f11dddc-0720-42e5-8389-15db695860d8",
   "metadata": {},
   "outputs": [],
   "source": [
    "yTensor = torch.tensor(y).detach()"
   ]
  },
  {
   "cell_type": "code",
   "execution_count": 70,
   "id": "fcbaf584-c3de-49f5-9499-41ed18fcda64",
   "metadata": {},
   "outputs": [
    {
     "data": {
      "text/plain": [
       "tensor([[0]], dtype=torch.int32)"
      ]
     },
     "execution_count": 70,
     "metadata": {},
     "output_type": "execute_result"
    }
   ],
   "source": [
    "yTensor"
   ]
  },
  {
   "cell_type": "code",
   "execution_count": 76,
   "id": "f93b4439-c1f4-4df4-8194-42cdefe7f55c",
   "metadata": {},
   "outputs": [],
   "source": [
    "w1Tensor = torch.tensor(W[0], requires_grad = True)"
   ]
  },
  {
   "cell_type": "code",
   "execution_count": 77,
   "id": "32ff674a-dde1-407c-92dc-dfde47a79c81",
   "metadata": {},
   "outputs": [],
   "source": [
    "b1Tensor = torch.tensor(W[1], requires_grad = True)"
   ]
  },
  {
   "cell_type": "code",
   "execution_count": 78,
   "id": "1a60ca9f-91e5-4585-84e6-24f7f57eb1d0",
   "metadata": {},
   "outputs": [],
   "source": [
    "w2Tensor = torch.tensor(W[2], requires_grad = True)"
   ]
  },
  {
   "cell_type": "code",
   "execution_count": 79,
   "id": "5e85c4d1-66e1-412d-b627-ed4b119c5a7a",
   "metadata": {},
   "outputs": [],
   "source": [
    "b2Tensor = torch.tensor(W[3], requires_grad = True)"
   ]
  },
  {
   "cell_type": "code",
   "execution_count": 80,
   "id": "47b6435d-6fb5-4843-9367-5dc39b8536db",
   "metadata": {},
   "outputs": [
    {
     "data": {
      "text/plain": [
       "tensor([[-0.0053, -0.5820, -0.2723],\n",
       "        [ 0.3793, -0.5204,  0.1896]], requires_grad=True)"
      ]
     },
     "execution_count": 80,
     "metadata": {},
     "output_type": "execute_result"
    }
   ],
   "source": [
    "w1Tensor"
   ]
  },
  {
   "cell_type": "code",
   "execution_count": 81,
   "id": "8e6fe314-1096-4e82-a1ca-bc0483528c44",
   "metadata": {},
   "outputs": [
    {
     "data": {
      "text/plain": [
       "tensor([-0.0140,  0.5607, -0.0628], requires_grad=True)"
      ]
     },
     "execution_count": 81,
     "metadata": {},
     "output_type": "execute_result"
    }
   ],
   "source": [
    "b1Tensor"
   ]
  },
  {
   "cell_type": "code",
   "execution_count": 82,
   "id": "c9caaedf-ba74-4291-905a-dcb6e9dbac37",
   "metadata": {},
   "outputs": [
    {
     "data": {
      "text/plain": [
       "tensor([[ 0.1528],\n",
       "        [-0.1745],\n",
       "        [-0.1135]], requires_grad=True)"
      ]
     },
     "execution_count": 82,
     "metadata": {},
     "output_type": "execute_result"
    }
   ],
   "source": [
    "w2Tensor"
   ]
  },
  {
   "cell_type": "code",
   "execution_count": 83,
   "id": "d077c4b5-7e43-41c1-9879-3e894155c029",
   "metadata": {},
   "outputs": [
    {
     "data": {
      "text/plain": [
       "tensor([-0.5516], requires_grad=True)"
      ]
     },
     "execution_count": 83,
     "metadata": {},
     "output_type": "execute_result"
    }
   ],
   "source": [
    "b2Tensor"
   ]
  },
  {
   "cell_type": "code",
   "execution_count": 85,
   "id": "04be288a-0588-4ddb-a253-e398308a8db5",
   "metadata": {},
   "outputs": [
    {
     "data": {
      "text/plain": [
       "tensor([[1, 1]], dtype=torch.int32)"
      ]
     },
     "execution_count": 85,
     "metadata": {},
     "output_type": "execute_result"
    }
   ],
   "source": [
    "xTensor"
   ]
  },
  {
   "cell_type": "code",
   "execution_count": 88,
   "id": "0ce9917e-93e3-4ee2-a447-907bc95c2367",
   "metadata": {},
   "outputs": [
    {
     "data": {
      "text/plain": [
       "tensor([[0]], dtype=torch.int32)"
      ]
     },
     "execution_count": 88,
     "metadata": {},
     "output_type": "execute_result"
    }
   ],
   "source": [
    "yTensor"
   ]
  },
  {
   "cell_type": "code",
   "execution_count": 91,
   "id": "d8ea67f4-9806-4c74-af6a-1a4cf5a91419",
   "metadata": {},
   "outputs": [],
   "source": [
    "def feed_forward(inputs, outputs, w1, b1, w2, b2):     \n",
    "    pre_hidden = torch.mm(inputs,w1)+ b1\n",
    "    hidden = 1/(1+torch.exp(-pre_hidden))\n",
    "    out = torch.mm(hidden, w2) + b2\n",
    "    mean_squared_error = (out - outputs).square().mean()\n",
    "    return mean_squared_error"
   ]
  },
  {
   "cell_type": "code",
   "execution_count": 92,
   "id": "fb364940-14ce-4276-b548-6605a07ce346",
   "metadata": {},
   "outputs": [
    {
     "ename": "RuntimeError",
     "evalue": "expected scalar type Int but found Float",
     "output_type": "error",
     "traceback": [
      "\u001b[1;31m---------------------------------------------------------------------------\u001b[0m",
      "\u001b[1;31mRuntimeError\u001b[0m                              Traceback (most recent call last)",
      "Input \u001b[1;32mIn [92]\u001b[0m, in \u001b[0;36m<cell line: 1>\u001b[1;34m()\u001b[0m\n\u001b[1;32m----> 1\u001b[0m loss \u001b[38;5;241m=\u001b[39m \u001b[43mfeed_forward\u001b[49m\u001b[43m(\u001b[49m\u001b[43mxTensor\u001b[49m\u001b[43m,\u001b[49m\u001b[43m \u001b[49m\u001b[43myTensor\u001b[49m\u001b[43m,\u001b[49m\u001b[43m \u001b[49m\u001b[43mw1Tensor\u001b[49m\u001b[43m,\u001b[49m\u001b[43m \u001b[49m\u001b[43mb1Tensor\u001b[49m\u001b[43m,\u001b[49m\u001b[43m \u001b[49m\u001b[43mw2Tensor\u001b[49m\u001b[43m,\u001b[49m\u001b[43m \u001b[49m\u001b[43mb2Tensor\u001b[49m\u001b[43m)\u001b[49m\n",
      "Input \u001b[1;32mIn [91]\u001b[0m, in \u001b[0;36mfeed_forward\u001b[1;34m(inputs, outputs, w1, b1, w2, b2)\u001b[0m\n\u001b[0;32m      1\u001b[0m \u001b[38;5;28;01mdef\u001b[39;00m \u001b[38;5;21mfeed_forward\u001b[39m(inputs, outputs, w1, b1, w2, b2):     \n\u001b[1;32m----> 2\u001b[0m     pre_hidden \u001b[38;5;241m=\u001b[39m \u001b[43mtorch\u001b[49m\u001b[38;5;241;43m.\u001b[39;49m\u001b[43mmm\u001b[49m\u001b[43m(\u001b[49m\u001b[43minputs\u001b[49m\u001b[43m,\u001b[49m\u001b[43mw1\u001b[49m\u001b[43m)\u001b[49m\u001b[38;5;241m+\u001b[39m b1\n\u001b[0;32m      3\u001b[0m     hidden \u001b[38;5;241m=\u001b[39m \u001b[38;5;241m1\u001b[39m\u001b[38;5;241m/\u001b[39m(\u001b[38;5;241m1\u001b[39m\u001b[38;5;241m+\u001b[39mtorch\u001b[38;5;241m.\u001b[39mexp(\u001b[38;5;241m-\u001b[39mpre_hidden))\n\u001b[0;32m      4\u001b[0m     out \u001b[38;5;241m=\u001b[39m torch\u001b[38;5;241m.\u001b[39mmm(hidden, w2) \u001b[38;5;241m+\u001b[39m b2\n",
      "\u001b[1;31mRuntimeError\u001b[0m: expected scalar type Int but found Float"
     ]
    }
   ],
   "source": [
    "loss = feed_forward(xTensor, yTensor, w1Tensor, b1Tensor, w2Tensor, b2Tensor)"
   ]
  },
  {
   "cell_type": "code",
   "execution_count": 93,
   "id": "c8865988-12f0-4785-9398-c1cb127a5e8c",
   "metadata": {},
   "outputs": [
    {
     "data": {
      "text/plain": [
       "torch.int32"
      ]
     },
     "execution_count": 93,
     "metadata": {},
     "output_type": "execute_result"
    }
   ],
   "source": [
    "xTensor.dtype"
   ]
  },
  {
   "cell_type": "code",
   "execution_count": 106,
   "id": "2e501578-7831-4ba4-92cc-32a7821143ce",
   "metadata": {},
   "outputs": [
    {
     "data": {
      "text/plain": [
       "torch.float32"
      ]
     },
     "execution_count": 106,
     "metadata": {},
     "output_type": "execute_result"
    }
   ],
   "source": [
    "b2Tensor.dtype"
   ]
  },
  {
   "cell_type": "code",
   "execution_count": 99,
   "id": "32ae75b3-8c3e-462e-a793-b2ab8b39f199",
   "metadata": {},
   "outputs": [],
   "source": [
    "xTensor = xTensor.to(dtype=torch.float32)"
   ]
  },
  {
   "cell_type": "code",
   "execution_count": 100,
   "id": "914815d5-051c-401d-b488-4afbf0349d53",
   "metadata": {},
   "outputs": [
    {
     "data": {
      "text/plain": [
       "torch.float32"
      ]
     },
     "execution_count": 100,
     "metadata": {},
     "output_type": "execute_result"
    }
   ],
   "source": [
    "xTensor.dtype"
   ]
  },
  {
   "cell_type": "code",
   "execution_count": 101,
   "id": "445c0eac-2969-410a-bf19-3ed7c7ff01de",
   "metadata": {},
   "outputs": [],
   "source": [
    "yTensor = yTensor.to(dtype=torch.float32)"
   ]
  },
  {
   "cell_type": "code",
   "execution_count": 103,
   "id": "9ff15d71-120d-4683-a828-1442c195a3b7",
   "metadata": {},
   "outputs": [
    {
     "data": {
      "text/plain": [
       "torch.float32"
      ]
     },
     "execution_count": 103,
     "metadata": {},
     "output_type": "execute_result"
    }
   ],
   "source": [
    "yTensor.dtype"
   ]
  },
  {
   "cell_type": "code",
   "execution_count": 107,
   "id": "ab3dd5e3-d40f-4ba2-8a28-d0de4ec4f231",
   "metadata": {},
   "outputs": [],
   "source": [
    "loss = feed_forward(xTensor, yTensor, w1Tensor, b1Tensor, w2Tensor, b2Tensor)"
   ]
  },
  {
   "cell_type": "code",
   "execution_count": 108,
   "id": "38056d83-89d4-4362-a2da-2e547dfb8e1b",
   "metadata": {},
   "outputs": [],
   "source": [
    "loss.backward()"
   ]
  },
  {
   "cell_type": "code",
   "execution_count": 109,
   "id": "6c415e7d-aedf-4d7c-ac4a-d1f83cce8571",
   "metadata": {},
   "outputs": [
    {
     "data": {
      "text/plain": [
       "tensor([[-0.0428,  0.0469,  0.0327],\n",
       "        [-0.0428,  0.0469,  0.0327]])"
      ]
     },
     "execution_count": 109,
     "metadata": {},
     "output_type": "execute_result"
    }
   ],
   "source": [
    "w1Tensor.grad"
   ]
  },
  {
   "cell_type": "code",
   "execution_count": 111,
   "id": "120270e5-245d-4a2c-a3cf-270e7b4c48c4",
   "metadata": {},
   "outputs": [
    {
     "data": {
      "text/plain": [
       "torch.Size([2, 3])"
      ]
     },
     "execution_count": 111,
     "metadata": {},
     "output_type": "execute_result"
    }
   ],
   "source": [
    "w1Tensor.shape"
   ]
  },
  {
   "cell_type": "code",
   "execution_count": 112,
   "id": "abc527f6-23a0-48f1-b780-95e054c5a716",
   "metadata": {},
   "outputs": [
    {
     "data": {
      "text/plain": [
       "torch.Size([2, 3])"
      ]
     },
     "execution_count": 112,
     "metadata": {},
     "output_type": "execute_result"
    }
   ],
   "source": [
    "w1Tensor.grad.shape"
   ]
  },
  {
   "cell_type": "code",
   "execution_count": 114,
   "id": "0b398205-60f1-48b2-b822-d6ecfbfe87f5",
   "metadata": {},
   "outputs": [
    {
     "data": {
      "text/plain": [
       "tensor([[1.0002, 0.9727, 0.9911],\n",
       "        [0.9838, 0.9756, 1.0062]], grad_fn=<AddBackward0>)"
      ]
     },
     "execution_count": 114,
     "metadata": {},
     "output_type": "execute_result"
    }
   ],
   "source": [
    "(w1Tensor * w1Tensor.grad) + 1"
   ]
  },
  {
   "cell_type": "code",
   "execution_count": 115,
   "id": "d77a6671-887d-4f06-bd00-94bdf69797b6",
   "metadata": {},
   "outputs": [
    {
     "data": {
      "text/plain": [
       "tensor([-0.0428,  0.0469,  0.0327])"
      ]
     },
     "execution_count": 115,
     "metadata": {},
     "output_type": "execute_result"
    }
   ],
   "source": [
    "b1Tensor.grad"
   ]
  },
  {
   "cell_type": "code",
   "execution_count": 121,
   "id": "1824adc3-5788-41b4-8d96-337e41a01581",
   "metadata": {},
   "outputs": [
    {
     "data": {
      "text/plain": [
       "tensor([[0., 0., 0.],\n",
       "        [0., 0., 0.]])"
      ]
     },
     "execution_count": 121,
     "metadata": {},
     "output_type": "execute_result"
    }
   ],
   "source": [
    "w1Tensor.grad.zero_()"
   ]
  },
  {
   "cell_type": "code",
   "execution_count": 122,
   "id": "7c238e75-f49e-4701-8876-b2e07259a566",
   "metadata": {},
   "outputs": [
    {
     "data": {
      "text/plain": [
       "tensor([[0.],\n",
       "        [0.],\n",
       "        [0.]])"
      ]
     },
     "execution_count": 122,
     "metadata": {},
     "output_type": "execute_result"
    }
   ],
   "source": [
    "w2Tensor.grad.zero_()"
   ]
  },
  {
   "cell_type": "code",
   "execution_count": 123,
   "id": "90acde31-4cda-40b1-98ab-f317f85e926b",
   "metadata": {},
   "outputs": [
    {
     "data": {
      "text/plain": [
       "tensor([0., 0., 0.])"
      ]
     },
     "execution_count": 123,
     "metadata": {},
     "output_type": "execute_result"
    }
   ],
   "source": [
    "b1Tensor.grad.zero_()"
   ]
  },
  {
   "cell_type": "code",
   "execution_count": 124,
   "id": "17652342-60b6-4db7-839d-fdaaf7a3043e",
   "metadata": {},
   "outputs": [
    {
     "data": {
      "text/plain": [
       "tensor([0.])"
      ]
     },
     "execution_count": 124,
     "metadata": {},
     "output_type": "execute_result"
    }
   ],
   "source": [
    "b2Tensor.grad.zero_()"
   ]
  },
  {
   "cell_type": "code",
   "execution_count": 125,
   "id": "1d2a4fdc-5b71-4f5c-ba43-1fe0fb811733",
   "metadata": {},
   "outputs": [],
   "source": [
    "loss = feed_forward(xTensor, yTensor, w1Tensor, b1Tensor, w2Tensor, b2Tensor)"
   ]
  },
  {
   "cell_type": "code",
   "execution_count": 126,
   "id": "9c39323b-b901-4d74-924c-9dd1570dd0c2",
   "metadata": {},
   "outputs": [
    {
     "data": {
      "text/plain": [
       "tensor(0.3346, grad_fn=<MeanBackward0>)"
      ]
     },
     "execution_count": 126,
     "metadata": {},
     "output_type": "execute_result"
    }
   ],
   "source": [
    "loss"
   ]
  },
  {
   "cell_type": "code",
   "execution_count": 127,
   "id": "ba12a4df-b9ed-4c29-bfc5-5d1f73ca8376",
   "metadata": {},
   "outputs": [],
   "source": [
    "loss.backward()"
   ]
  },
  {
   "cell_type": "code",
   "execution_count": 131,
   "id": "247bbaf4-6b88-40cd-9ac9-d9fa18804ad8",
   "metadata": {},
   "outputs": [
    {
     "data": {
      "text/plain": [
       "tensor(-0.0052, grad_fn=<AddBackward0>)"
      ]
     },
     "execution_count": 131,
     "metadata": {},
     "output_type": "execute_result"
    }
   ],
   "source": [
    "w1Tensor[0][0] + 0.0001"
   ]
  },
  {
   "cell_type": "code",
   "execution_count": 132,
   "id": "0c141c78-7793-46cd-a05c-053564189ea0",
   "metadata": {},
   "outputs": [
    {
     "data": {
      "text/plain": [
       "tensor([[-0.0428,  0.0469,  0.0327],\n",
       "        [-0.0428,  0.0469,  0.0327]])"
      ]
     },
     "execution_count": 132,
     "metadata": {},
     "output_type": "execute_result"
    }
   ],
   "source": [
    "w1Tensor.grad"
   ]
  },
  {
   "cell_type": "code",
   "execution_count": 133,
   "id": "d6b23012-ad54-4946-bfcb-7be7e68c83cb",
   "metadata": {},
   "outputs": [
    {
     "data": {
      "text/plain": [
       "tensor(0.3346, grad_fn=<MeanBackward0>)"
      ]
     },
     "execution_count": 133,
     "metadata": {},
     "output_type": "execute_result"
    }
   ],
   "source": [
    "loss"
   ]
  },
  {
   "cell_type": "code",
   "execution_count": 135,
   "id": "28a30c58-c1d4-4095-9542-f0f02e1922ac",
   "metadata": {},
   "outputs": [
    {
     "data": {
      "text/plain": [
       "tensor([[ 0.0375, -0.6289, -0.3050],\n",
       "        [ 0.4221, -0.5673,  0.1569]], grad_fn=<SubBackward0>)"
      ]
     },
     "execution_count": 135,
     "metadata": {},
     "output_type": "execute_result"
    }
   ],
   "source": [
    "w1Tensor - w1Tensor.grad*1"
   ]
  },
  {
   "cell_type": "code",
   "execution_count": 136,
   "id": "cbf8fdd3-0030-4e35-8381-a3f97c703b93",
   "metadata": {},
   "outputs": [
    {
     "data": {
      "text/plain": [
       "tensor([[-0.0053, -0.5820, -0.2723],\n",
       "        [ 0.3793, -0.5204,  0.1896]], requires_grad=True)"
      ]
     },
     "execution_count": 136,
     "metadata": {},
     "output_type": "execute_result"
    }
   ],
   "source": [
    "w1Tensor"
   ]
  },
  {
   "cell_type": "code",
   "execution_count": 138,
   "id": "f12762fa-bd5c-432f-a58d-b679a43c2823",
   "metadata": {},
   "outputs": [
    {
     "data": {
      "text/plain": [
       "tensor([ 0.0288,  0.5138, -0.0955], grad_fn=<SubBackward0>)"
      ]
     },
     "execution_count": 138,
     "metadata": {},
     "output_type": "execute_result"
    }
   ],
   "source": [
    "b1Tensor - b1Tensor.grad*1"
   ]
  },
  {
   "cell_type": "code",
   "execution_count": 139,
   "id": "dd4f0f4e-5dc2-436a-884a-7de4c47ae489",
   "metadata": {},
   "outputs": [
    {
     "data": {
      "text/plain": [
       "tensor([[0.8342],\n",
       "        [0.2510],\n",
       "        [0.4229]], grad_fn=<SubBackward0>)"
      ]
     },
     "execution_count": 139,
     "metadata": {},
     "output_type": "execute_result"
    }
   ],
   "source": [
    "w2Tensor - w2Tensor.grad*1"
   ]
  },
  {
   "cell_type": "code",
   "execution_count": 140,
   "id": "014aa107-0a1c-4af1-8baa-67a711d4cbe4",
   "metadata": {},
   "outputs": [
    {
     "data": {
      "text/plain": [
       "tensor([0.6052], grad_fn=<SubBackward0>)"
      ]
     },
     "execution_count": 140,
     "metadata": {},
     "output_type": "execute_result"
    }
   ],
   "source": [
    "b2Tensor - b2Tensor.grad*1"
   ]
  },
  {
   "cell_type": "code",
   "execution_count": 141,
   "id": "62c1fea1-db04-4e54-9bab-4385bfea010c",
   "metadata": {},
   "outputs": [],
   "source": [
    "x = torch.rand(1, 6400)\n",
    "y = torch.rand(6400, 5000)"
   ]
  },
  {
   "cell_type": "code",
   "execution_count": 142,
   "id": "4755ddcf-3445-452a-847d-566a04a03ebe",
   "metadata": {},
   "outputs": [],
   "source": [
    "device = 'cude' if torch.cuda.is_available() else 'cpu'"
   ]
  },
  {
   "cell_type": "code",
   "execution_count": 143,
   "id": "ef0b3c1c-53f6-43b2-98d2-5b9d7f855725",
   "metadata": {},
   "outputs": [
    {
     "data": {
      "text/plain": [
       "'cpu'"
      ]
     },
     "execution_count": 143,
     "metadata": {},
     "output_type": "execute_result"
    }
   ],
   "source": [
    "device"
   ]
  },
  {
   "cell_type": "code",
   "execution_count": 144,
   "id": "fef62653-69bc-4b75-9460-6788d63986d2",
   "metadata": {},
   "outputs": [],
   "source": [
    "x, y = x.to(device), y.to(device)"
   ]
  },
  {
   "cell_type": "code",
   "execution_count": 145,
   "id": "755abed6-7ad9-45b6-9b3e-be72f5b476ef",
   "metadata": {},
   "outputs": [
    {
     "name": "stdout",
     "output_type": "stream",
     "text": [
      "11.6 ms ± 650 µs per loop (mean ± std. dev. of 7 runs, 100 loops each)\n"
     ]
    }
   ],
   "source": [
    "%timeit z=(x@y)"
   ]
  },
  {
   "cell_type": "code",
   "execution_count": 146,
   "id": "a0cd6e9a-7a78-45e2-b0a2-f08c6d5759dc",
   "metadata": {},
   "outputs": [
    {
     "name": "stdout",
     "output_type": "stream",
     "text": [
      "25.5 ms ± 1.39 ms per loop (mean ± std. dev. of 7 runs, 1 loop each)\n"
     ]
    }
   ],
   "source": [
    "x = np.random.random((1, 6400))\n",
    "y = np.random.random((6400, 5000))\n",
    "%timeit z = np.matmul(x,y)"
   ]
  },
  {
   "cell_type": "markdown",
   "id": "23b7d333-5547-44c0-981c-f4b3efd0608c",
   "metadata": {
    "jp-MarkdownHeadingCollapsed": true,
    "tags": []
   },
   "source": [
    "# Build Neural Network using PyTorch"
   ]
  },
  {
   "cell_type": "code",
   "execution_count": 73,
   "id": "93eacb39-c900-4cca-baff-96f7a106b83c",
   "metadata": {},
   "outputs": [],
   "source": [
    "import torch\n",
    "\n",
    "x = [[1,2],[3,4],[5,6],[7,8]]\n",
    "y = [[3],[7],[11],[15]]"
   ]
  },
  {
   "cell_type": "code",
   "execution_count": 74,
   "id": "df73ba14-4baf-44cb-b3c3-5906bbc4d6ab",
   "metadata": {},
   "outputs": [],
   "source": [
    "X = torch.tensor(x).float()\n",
    "Y = torch.tensor(y).float()"
   ]
  },
  {
   "cell_type": "code",
   "execution_count": 75,
   "id": "7f3bf23b-91c3-4315-a0c5-9c9baf40c4a4",
   "metadata": {},
   "outputs": [
    {
     "data": {
      "text/plain": [
       "tensor([[1., 2.],\n",
       "        [3., 4.],\n",
       "        [5., 6.],\n",
       "        [7., 8.]])"
      ]
     },
     "execution_count": 75,
     "metadata": {},
     "output_type": "execute_result"
    }
   ],
   "source": [
    "X"
   ]
  },
  {
   "cell_type": "code",
   "execution_count": 76,
   "id": "cfb59cc9-f747-41c8-be8c-13248bdc748b",
   "metadata": {},
   "outputs": [
    {
     "data": {
      "text/plain": [
       "tensor([[ 3.],\n",
       "        [ 7.],\n",
       "        [11.],\n",
       "        [15.]])"
      ]
     },
     "execution_count": 76,
     "metadata": {},
     "output_type": "execute_result"
    }
   ],
   "source": [
    "Y"
   ]
  },
  {
   "cell_type": "code",
   "execution_count": 5,
   "id": "061c0547-9eb5-4ac5-8388-2295f71407fc",
   "metadata": {},
   "outputs": [
    {
     "data": {
      "text/plain": [
       "torch.float32"
      ]
     },
     "execution_count": 5,
     "metadata": {},
     "output_type": "execute_result"
    }
   ],
   "source": [
    "X.dtype"
   ]
  },
  {
   "cell_type": "code",
   "execution_count": 6,
   "id": "642508de-23c0-4cd5-9a13-9a6cf8cbca00",
   "metadata": {},
   "outputs": [
    {
     "data": {
      "text/plain": [
       "'cpu'"
      ]
     },
     "execution_count": 6,
     "metadata": {},
     "output_type": "execute_result"
    }
   ],
   "source": [
    "device = 'cuda' if torch.cuda.is_available() else 'cpu'\n",
    "device"
   ]
  },
  {
   "cell_type": "code",
   "execution_count": 77,
   "id": "815a1ee0-5886-4fe5-8273-1f2f921a820a",
   "metadata": {},
   "outputs": [],
   "source": [
    "X = X.to(device)\n",
    "Y = Y.to(device)"
   ]
  },
  {
   "cell_type": "code",
   "execution_count": 8,
   "id": "4f7184b7-a42f-4ddd-ae6f-32f2bf8f155e",
   "metadata": {},
   "outputs": [
    {
     "data": {
      "text/plain": [
       "Linear(in_features=1, out_features=10, bias=True)"
      ]
     },
     "execution_count": 8,
     "metadata": {},
     "output_type": "execute_result"
    }
   ],
   "source": [
    "import torch.nn as nn\n",
    "nn.Linear(1,10)"
   ]
  },
  {
   "cell_type": "code",
   "execution_count": 78,
   "id": "af596c89-9bd3-4a1f-8073-cdec576ba6b4",
   "metadata": {},
   "outputs": [],
   "source": [
    "import torch.nn as nn\n",
    "\n",
    "class MyNeuralNet(nn.Module):\n",
    "    def __init__(self):\n",
    "        super().__init__()\n",
    "        self.input_to_hidden_layer = nn.Linear(2, 8)\n",
    "        self.hidden_layer_activation = nn.ReLU()\n",
    "        self.hidden_to_output_layer = nn.Linear(8, 1)\n",
    "    def forward(self, x):\n",
    "        x = self.input_to_hidden_layer(x)\n",
    "        x = self.hidden_layer_activation(x)\n",
    "        x = self.hidden_to_output_layer(x)\n",
    "        return x"
   ]
  },
  {
   "cell_type": "code",
   "execution_count": 79,
   "id": "17105a81-7f3a-4d7e-a972-aadb48eb8b3e",
   "metadata": {},
   "outputs": [],
   "source": [
    "mynet = MyNeuralNet().to(device)"
   ]
  },
  {
   "cell_type": "code",
   "execution_count": 15,
   "id": "db2fa65f-7386-4f64-a215-6914dd10c617",
   "metadata": {},
   "outputs": [
    {
     "data": {
      "text/plain": [
       "Parameter containing:\n",
       "tensor([[-0.0421, -0.0431],\n",
       "        [-0.6146,  0.1653],\n",
       "        [ 0.3274, -0.2240],\n",
       "        [ 0.4971,  0.2651],\n",
       "        [ 0.6910,  0.6277],\n",
       "        [-0.6533, -0.6403],\n",
       "        [-0.5760,  0.2250],\n",
       "        [-0.6842,  0.4810]], requires_grad=True)"
      ]
     },
     "execution_count": 15,
     "metadata": {},
     "output_type": "execute_result"
    }
   ],
   "source": [
    "mynet.input_to_hidden_layer.weight"
   ]
  },
  {
   "cell_type": "code",
   "execution_count": 16,
   "id": "b68426cb-9baf-4290-8648-8aa8948d1fca",
   "metadata": {},
   "outputs": [
    {
     "data": {
      "text/plain": [
       "Parameter containing:\n",
       "tensor([ 0.6214, -0.0857,  0.1845, -0.3230,  0.3189,  0.5282,  0.1505, -0.6591],\n",
       "       requires_grad=True)"
      ]
     },
     "execution_count": 16,
     "metadata": {},
     "output_type": "execute_result"
    }
   ],
   "source": [
    "mynet.input_to_hidden_layer.bias"
   ]
  },
  {
   "cell_type": "code",
   "execution_count": 17,
   "id": "54c44429-a490-485e-9109-3b03ca3a7455",
   "metadata": {},
   "outputs": [
    {
     "data": {
      "text/plain": [
       "<generator object Module.parameters at 0x000001DA7E5C60B0>"
      ]
     },
     "execution_count": 17,
     "metadata": {},
     "output_type": "execute_result"
    }
   ],
   "source": [
    "mynet.parameters()"
   ]
  },
  {
   "cell_type": "code",
   "execution_count": 18,
   "id": "ac30fe2a-c2cd-4403-950c-b65fd938a1c6",
   "metadata": {},
   "outputs": [
    {
     "name": "stdout",
     "output_type": "stream",
     "text": [
      "Parameter containing:\n",
      "tensor([[-0.0421, -0.0431],\n",
      "        [-0.6146,  0.1653],\n",
      "        [ 0.3274, -0.2240],\n",
      "        [ 0.4971,  0.2651],\n",
      "        [ 0.6910,  0.6277],\n",
      "        [-0.6533, -0.6403],\n",
      "        [-0.5760,  0.2250],\n",
      "        [-0.6842,  0.4810]], requires_grad=True)\n",
      "Parameter containing:\n",
      "tensor([ 0.6214, -0.0857,  0.1845, -0.3230,  0.3189,  0.5282,  0.1505, -0.6591],\n",
      "       requires_grad=True)\n",
      "Parameter containing:\n",
      "tensor([[ 0.3259, -0.1242, -0.0533, -0.2525, -0.1593, -0.2475,  0.2307,  0.1386]],\n",
      "       requires_grad=True)\n",
      "Parameter containing:\n",
      "tensor([-0.3389], requires_grad=True)\n"
     ]
    }
   ],
   "source": [
    "for params in mynet.parameters():\n",
    "    print(params)"
   ]
  },
  {
   "cell_type": "code",
   "execution_count": 19,
   "id": "873e548a-c9aa-47cf-a9eb-546f4086aaec",
   "metadata": {},
   "outputs": [],
   "source": [
    "## for illustartion only\n",
    "\n",
    "class MyNeuralNetParams(nn.Module):\n",
    "    def __init__(self):\n",
    "        super().__init__()\n",
    "        self.input_to_hidden_layer = nn.Parameter(torch.rand(2,8))\n",
    "        self.hidden_layer_activation = nn.ReLU()\n",
    "        self.hidden_to_output_layer = nn.Parameter(torch.rand(8,1))\n",
    "    def forward(self, x):\n",
    "        x = x @ self.input_to_hidden_layer\n",
    "        x = self.hidden_layer_activation(x)\n",
    "        x = x @ self.hidden_to_output_layer\n",
    "        return x"
   ]
  },
  {
   "cell_type": "code",
   "execution_count": 20,
   "id": "ef13d29d-17bb-4495-8713-fc2c43e8ff48",
   "metadata": {},
   "outputs": [],
   "source": [
    "net = MyNeuralNetParams().to(device)"
   ]
  },
  {
   "cell_type": "code",
   "execution_count": 23,
   "id": "17a849e3-98f1-40d5-a56e-0d82326ad836",
   "metadata": {},
   "outputs": [
    {
     "name": "stdout",
     "output_type": "stream",
     "text": [
      "Parameter containing:\n",
      "tensor([[0.3575, 0.1768, 0.2866, 0.4307, 0.6623, 0.8450, 0.7876, 0.9297],\n",
      "        [0.8416, 0.6412, 0.7568, 0.6986, 0.2340, 0.1172, 0.6605, 0.2298]],\n",
      "       requires_grad=True)\n",
      "Parameter containing:\n",
      "tensor([[0.7076],\n",
      "        [0.0700],\n",
      "        [0.6464],\n",
      "        [0.8801],\n",
      "        [0.4714],\n",
      "        [0.9664],\n",
      "        [0.5441],\n",
      "        [0.2406]], requires_grad=True)\n"
     ]
    }
   ],
   "source": [
    "net.parameters()\n",
    "for params in net.parameters():\n",
    "    print(params)"
   ]
  },
  {
   "cell_type": "code",
   "execution_count": 80,
   "id": "218c6cdb-749b-44a6-b450-a8901fb4be23",
   "metadata": {},
   "outputs": [],
   "source": [
    "loss_func = nn.MSELoss()"
   ]
  },
  {
   "cell_type": "code",
   "execution_count": 81,
   "id": "bba3bc16-9b9f-4570-9738-3306bece5da8",
   "metadata": {},
   "outputs": [],
   "source": [
    "_Y = mynet(X)"
   ]
  },
  {
   "cell_type": "code",
   "execution_count": 82,
   "id": "ce1bf17f-2b47-423f-8deb-ae31e864a09b",
   "metadata": {},
   "outputs": [
    {
     "name": "stdout",
     "output_type": "stream",
     "text": [
      "tensor(101.7587, grad_fn=<MseLossBackward0>)\n"
     ]
    }
   ],
   "source": [
    "loss_value = loss_func(_Y, Y)\n",
    "print(loss_value)"
   ]
  },
  {
   "cell_type": "code",
   "execution_count": 83,
   "id": "80201734-d529-4d23-a9ae-d1b17d0ba43c",
   "metadata": {},
   "outputs": [],
   "source": [
    "from torch.optim import SGD\n",
    "opt = SGD(mynet.parameters(), lr = 0.001)"
   ]
  },
  {
   "cell_type": "code",
   "execution_count": 84,
   "id": "f2d4e405-6620-49cb-8361-b86d3891979b",
   "metadata": {},
   "outputs": [],
   "source": [
    "loss_history = []\n",
    "for _ in range(50):\n",
    "    opt.zero_grad()\n",
    "    loss_value = loss_func(mynet(X), Y)\n",
    "    loss_value.backward()\n",
    "    opt.step()\n",
    "    loss_history.append(loss_value.detach().numpy())"
   ]
  },
  {
   "cell_type": "code",
   "execution_count": 85,
   "id": "73d3930c-1267-4cdf-8762-78cfc085083b",
   "metadata": {},
   "outputs": [
    {
     "data": {
      "text/plain": [
       "[array(101.75873, dtype=float32),\n",
       " array(92.21834, dtype=float32),\n",
       " array(83.7876, dtype=float32),\n",
       " array(77.441666, dtype=float32),\n",
       " array(71.41217, dtype=float32),\n",
       " array(64.91332, dtype=float32),\n",
       " array(57.768124, dtype=float32),\n",
       " array(50.08662, dtype=float32),\n",
       " array(42.085163, dtype=float32),\n",
       " array(34.096912, dtype=float32),\n",
       " array(26.515308, dtype=float32),\n",
       " array(19.720795, dtype=float32),\n",
       " array(13.999169, dtype=float32),\n",
       " array(9.483078, dtype=float32),\n",
       " array(6.1411467, dtype=float32),\n",
       " array(3.815616, dtype=float32),\n",
       " array(2.2857857, dtype=float32),\n",
       " array(1.3277998, dtype=float32),\n",
       " array(0.7523768, dtype=float32),\n",
       " array(0.41831163, dtype=float32),\n",
       " array(0.22954828, dtype=float32),\n",
       " array(0.12510532, dtype=float32),\n",
       " array(0.06823508, dtype=float32),\n",
       " array(0.03763934, dtype=float32),\n",
       " array(0.02132343, dtype=float32),\n",
       " array(0.01267871, dtype=float32),\n",
       " array(0.00811836, dtype=float32),\n",
       " array(0.00571946, dtype=float32),\n",
       " array(0.00445866, dtype=float32),\n",
       " array(0.00379551, dtype=float32),\n",
       " array(0.00344519, dtype=float32),\n",
       " array(0.00325837, dtype=float32),\n",
       " array(0.00315698, dtype=float32),\n",
       " array(0.00310013, dtype=float32),\n",
       " array(0.00306652, dtype=float32),\n",
       " array(0.00304501, dtype=float32),\n",
       " array(0.00302985, dtype=float32),\n",
       " array(0.003018, dtype=float32),\n",
       " array(0.00300793, dtype=float32),\n",
       " array(0.00299871, dtype=float32),\n",
       " array(0.00299006, dtype=float32),\n",
       " array(0.00298167, dtype=float32),\n",
       " array(0.00297342, dtype=float32),\n",
       " array(0.00296529, dtype=float32),\n",
       " array(0.0029572, dtype=float32),\n",
       " array(0.00294917, dtype=float32),\n",
       " array(0.00294117, dtype=float32),\n",
       " array(0.00293326, dtype=float32),\n",
       " array(0.00292536, dtype=float32),\n",
       " array(0.00291749, dtype=float32)]"
      ]
     },
     "execution_count": 85,
     "metadata": {},
     "output_type": "execute_result"
    }
   ],
   "source": [
    "loss_history"
   ]
  },
  {
   "cell_type": "code",
   "execution_count": 86,
   "id": "6dc828f8-147b-43d9-be0f-38f0eb4a555a",
   "metadata": {},
   "outputs": [
    {
     "data": {
      "text/plain": [
       "Text(0, 0.5, 'Loss Value')"
      ]
     },
     "execution_count": 86,
     "metadata": {},
     "output_type": "execute_result"
    },
    {
     "data": {
      "image/png": "[encoded data removed]",
      "text/plain": [
       "<Figure size 432x288 with 1 Axes>"
      ]
     },
     "metadata": {
      "needs_background": "light"
     },
     "output_type": "display_data"
    }
   ],
   "source": [
    "import matplotlib.pyplot as plt\n",
    "\n",
    "plt.plot(loss_history)\n",
    "plt.title(\"Loss variation over increasing epochs\")\n",
    "plt.xlabel(\"Epochs\")\n",
    "plt.ylabel(\"Loss Value\")"
   ]
  },
  {
   "cell_type": "markdown",
   "id": "6cd1cc1a-aed9-4c42-a40d-9bec194b8b05",
   "metadata": {
    "jp-MarkdownHeadingCollapsed": true,
    "tags": []
   },
   "source": [
    "# Datasets and DataLoaders"
   ]
  },
  {
   "cell_type": "code",
   "execution_count": 87,
   "id": "a7d931f0-d0eb-4d1a-b296-7a2f71c5f5d3",
   "metadata": {},
   "outputs": [],
   "source": [
    "from torch.utils.data import Dataset, DataLoader\n",
    "import torch\n",
    "import torch.nn as nn"
   ]
  },
  {
   "cell_type": "code",
   "execution_count": 88,
   "id": "7b2bc14f-3f99-4fe1-bee0-6a836a40f3c3",
   "metadata": {},
   "outputs": [],
   "source": [
    "x = [[1,2],[3,4],[5,6],[7,8]]\n",
    "y = [[3],[7],[11],[15]]"
   ]
  },
  {
   "cell_type": "code",
   "execution_count": 89,
   "id": "374c06a6-306a-4468-a841-778c776153d1",
   "metadata": {},
   "outputs": [],
   "source": [
    "X = torch.tensor(x).float()\n",
    "Y = torch.tensor(y).float()"
   ]
  },
  {
   "cell_type": "code",
   "execution_count": 90,
   "id": "1bc4367a-b952-4056-93bc-9c4987c7da55",
   "metadata": {},
   "outputs": [
    {
     "data": {
      "text/plain": [
       "'cpu'"
      ]
     },
     "execution_count": 90,
     "metadata": {},
     "output_type": "execute_result"
    }
   ],
   "source": [
    "device = 'cuda' if torch.cuda.is_available() else 'cpu'\n",
    "device"
   ]
  },
  {
   "cell_type": "code",
   "execution_count": 91,
   "id": "bf29f4be-3870-4ad3-8aae-ee5194649b16",
   "metadata": {},
   "outputs": [],
   "source": [
    "X = X.to(device)\n",
    "Y = Y.to(device)"
   ]
  },
  {
   "cell_type": "code",
   "execution_count": 94,
   "id": "e333da5c-37ff-49f0-8c83-d2d9cd670d58",
   "metadata": {},
   "outputs": [
    {
     "name": "stderr",
     "output_type": "stream",
     "text": [
      "C:\\Users\\Nagendra.NAGENDRA\\AppData\\Local\\Temp\\ipykernel_4432\\1267447530.py:3: UserWarning: To copy construct from a tensor, it is recommended to use sourceTensor.clone().detach() or sourceTensor.clone().detach().requires_grad_(True), rather than torch.tensor(sourceTensor).\n",
      "  self.x = torch.tensor(x).float()\n",
      "C:\\Users\\Nagendra.NAGENDRA\\AppData\\Local\\Temp\\ipykernel_4432\\1267447530.py:4: UserWarning: To copy construct from a tensor, it is recommended to use sourceTensor.clone().detach() or sourceTensor.clone().detach().requires_grad_(True), rather than torch.tensor(sourceTensor).\n",
      "  self.y = torch.tensor(y).float()\n"
     ]
    }
   ],
   "source": [
    "class MyDataset(Dataset):\n",
    "    def __init__(self, x, y):\n",
    "        self.x = torch.tensor(x).float()\n",
    "        self.y = torch.tensor(y).float()\n",
    "    def __len__(self):\n",
    "        return len(self.x)\n",
    "    def __getitem__(self, ix):\n",
    "        return self.x[ix], self.y[ix]\n",
    "\n",
    "ds = MyDataset(X, Y)"
   ]
  },
  {
   "cell_type": "code",
   "execution_count": 95,
   "id": "ba3379bd-b1da-469d-b929-291a030c9253",
   "metadata": {},
   "outputs": [],
   "source": [
    "dl = DataLoader(ds, batch_size = 2, shuffle = True)"
   ]
  },
  {
   "cell_type": "code",
   "execution_count": 96,
   "id": "b7b03a6b-f13d-4f6f-aa4e-57f9f8f72cbf",
   "metadata": {},
   "outputs": [
    {
     "name": "stdout",
     "output_type": "stream",
     "text": [
      "tensor([[5., 6.],\n",
      "        [7., 8.]]) tensor([[11.],\n",
      "        [15.]])\n",
      "tensor([[1., 2.],\n",
      "        [3., 4.]]) tensor([[3.],\n",
      "        [7.]])\n"
     ]
    }
   ],
   "source": [
    "for x, y in dl:\n",
    "    print(x, y)"
   ]
  },
  {
   "cell_type": "code",
   "execution_count": 97,
   "id": "861f2278-fc4f-4dd4-8dce-b87af2a4c11c",
   "metadata": {},
   "outputs": [],
   "source": [
    "class MyNeuralNet(nn.Module):\n",
    "    def __init__(self):\n",
    "        super().__init__()\n",
    "        self.input_to_hidden_layer = nn.Linear(2,8)\n",
    "        self.hidden_layer_activation = nn.ReLU()\n",
    "        self.hidden_to_output_layer = nn.Linear(8, 1)\n",
    "    def forward(self, x):\n",
    "        x = self.input_to_hidden_layer(x)\n",
    "        x = self.hidden_layer_activation(x)\n",
    "        x = self.hidden_to_output_layer(x)\n",
    "        return x"
   ]
  },
  {
   "cell_type": "code",
   "execution_count": 99,
   "id": "6517272b-964b-48c2-90ae-463eb330456e",
   "metadata": {},
   "outputs": [],
   "source": [
    "mynet = MyNeuralNet().to(device)\n",
    "loss_func = nn.MSELoss()\n",
    "\n",
    "from torch.optim import SGD\n",
    "\n",
    "opt = SGD(mynet.parameters(), lr=0.001)"
   ]
  },
  {
   "cell_type": "code",
   "execution_count": 100,
   "id": "74ab097a-b949-4612-a7c3-439ad4f17455",
   "metadata": {},
   "outputs": [
    {
     "name": "stdout",
     "output_type": "stream",
     "text": [
      "Time taken:  0.13199567794799805\n"
     ]
    }
   ],
   "source": [
    "import time\n",
    "\n",
    "loss_history = []\n",
    "start = time.time()\n",
    "for _ in range(50):\n",
    "    for x, y in dl:\n",
    "        opt.zero_grad()\n",
    "        loss_value = loss_func(mynet(x), y)\n",
    "        loss_value.backward()\n",
    "        opt.step()\n",
    "        loss_history.append(loss_value.detach().numpy())\n",
    "end = time.time()\n",
    "print(\"Time taken: \", end-start)"
   ]
  },
  {
   "cell_type": "markdown",
   "id": "5b0480a0-8079-44c0-9826-64f66d7ece4d",
   "metadata": {
    "jp-MarkdownHeadingCollapsed": true,
    "tags": []
   },
   "source": [
    "## Prediction on new data points"
   ]
  },
  {
   "cell_type": "code",
   "execution_count": 101,
   "id": "239bf010-8bf9-4cc4-88c1-3b05c2024644",
   "metadata": {},
   "outputs": [],
   "source": [
    "val_x = [[10, 11]]"
   ]
  },
  {
   "cell_type": "code",
   "execution_count": 102,
   "id": "e727f66e-3c99-40ba-9d2f-e71007243d90",
   "metadata": {},
   "outputs": [],
   "source": [
    "val_X = torch.tensor(val_x).float().to(device)"
   ]
  },
  {
   "cell_type": "code",
   "execution_count": 103,
   "id": "c1c1a97e-1f77-4427-a8e3-08b80cd8eebb",
   "metadata": {},
   "outputs": [
    {
     "data": {
      "text/plain": [
       "tensor([[10., 11.]])"
      ]
     },
     "execution_count": 103,
     "metadata": {},
     "output_type": "execute_result"
    }
   ],
   "source": [
    "val_X"
   ]
  },
  {
   "cell_type": "code",
   "execution_count": 104,
   "id": "34f51e0d-655a-4be9-ab32-b7c4c9401c00",
   "metadata": {},
   "outputs": [
    {
     "data": {
      "text/plain": [
       "tensor([[21.1032]], grad_fn=<AddmmBackward0>)"
      ]
     },
     "execution_count": 104,
     "metadata": {},
     "output_type": "execute_result"
    }
   ],
   "source": [
    "mynet(val_X)"
   ]
  },
  {
   "cell_type": "markdown",
   "id": "ae8bc8d9-341b-4520-97b8-f7b0de27dfe1",
   "metadata": {
    "jp-MarkdownHeadingCollapsed": true,
    "tags": []
   },
   "source": [
    "# Implementing Custom Loss Function"
   ]
  },
  {
   "cell_type": "code",
   "execution_count": 105,
   "id": "1b5d4541-6fff-4dc1-b1c7-4c272f7a5230",
   "metadata": {},
   "outputs": [],
   "source": [
    "x = [[1,2],[3,4],[5,6],[7,8]]\n",
    "y = [[3],[7],[11],[15]]\n",
    "\n",
    "X = torch.tensor(x).float().to(device)\n",
    "Y = torch.tensor(y).float().to(device)"
   ]
  },
  {
   "cell_type": "code",
   "execution_count": 107,
   "id": "0b7dbddc-6f84-4f00-a355-9f0c23481b8c",
   "metadata": {},
   "outputs": [],
   "source": [
    "import torch.nn as nn\n",
    "from torch.utils.data import Dataset, DataLoader"
   ]
  },
  {
   "cell_type": "code",
   "execution_count": 109,
   "id": "4228b3bc-c62c-41ec-8df9-fcdb06323775",
   "metadata": {},
   "outputs": [
    {
     "name": "stderr",
     "output_type": "stream",
     "text": [
      "C:\\Users\\Nagendra.NAGENDRA\\AppData\\Local\\Temp\\ipykernel_4432\\1267447530.py:3: UserWarning: To copy construct from a tensor, it is recommended to use sourceTensor.clone().detach() or sourceTensor.clone().detach().requires_grad_(True), rather than torch.tensor(sourceTensor).\n",
      "  self.x = torch.tensor(x).float()\n",
      "C:\\Users\\Nagendra.NAGENDRA\\AppData\\Local\\Temp\\ipykernel_4432\\1267447530.py:4: UserWarning: To copy construct from a tensor, it is recommended to use sourceTensor.clone().detach() or sourceTensor.clone().detach().requires_grad_(True), rather than torch.tensor(sourceTensor).\n",
      "  self.y = torch.tensor(y).float()\n"
     ]
    }
   ],
   "source": [
    "class MyDataset(Dataset):\n",
    "    def __init__(self, x, y):\n",
    "        self.x = torch.tensor(x).float()\n",
    "        self.y = torch.tensor(y).float()\n",
    "    def __len__(self):\n",
    "        return len(self.x)\n",
    "    def __getitem__(self, ix):\n",
    "        return self.x[ix], self.y[ix]\n",
    "\n",
    "ds = MyDataset(X, Y)"
   ]
  },
  {
   "cell_type": "code",
   "execution_count": 110,
   "id": "1d617d5f-5a26-46ba-9034-d36ce02a7943",
   "metadata": {},
   "outputs": [],
   "source": [
    "dl = DataLoader(ds, batch_size = 2, shuffle = True)"
   ]
  },
  {
   "cell_type": "code",
   "execution_count": 111,
   "id": "c607d4aa-0453-4e2b-8f1a-7479b675a630",
   "metadata": {},
   "outputs": [
    {
     "name": "stdout",
     "output_type": "stream",
     "text": [
      "tensor([[5., 6.],\n",
      "        [3., 4.]]) tensor([[11.],\n",
      "        [ 7.]])\n",
      "tensor([[7., 8.],\n",
      "        [1., 2.]]) tensor([[15.],\n",
      "        [ 3.]])\n"
     ]
    }
   ],
   "source": [
    "for x,y in dl:\n",
    "    print(x, y)"
   ]
  },
  {
   "cell_type": "code",
   "execution_count": 112,
   "id": "9b023d50-18d2-40ef-bec1-f5e9cce4f200",
   "metadata": {},
   "outputs": [],
   "source": [
    "class MyNueralNetwork(nn.Module):\n",
    "    def __init__(self):\n",
    "        super().__init__()\n",
    "        self.input_to_hidden_layer = nn.Linear(2, 8)\n",
    "        self.hidden_activation = nn.ReLU()\n",
    "        self.hidden_to_output_layer = nn.Linear(8, 1)\n",
    "    def forward(self, x):\n",
    "        x = self.input_to_hidden_layer(x)\n",
    "        x = self.hidden_activation(x)\n",
    "        x = self.hidden_to_output_layer(x)\n",
    "        return x"
   ]
  },
  {
   "cell_type": "code",
   "execution_count": 113,
   "id": "1aaf639f-1fce-4a5f-afe4-3665cbececc2",
   "metadata": {},
   "outputs": [],
   "source": [
    "mynet = MyNueralNetwork().to(device)"
   ]
  },
  {
   "cell_type": "code",
   "execution_count": 114,
   "id": "04265d51-eaa5-48a0-9f52-b9d98b1916f7",
   "metadata": {},
   "outputs": [],
   "source": [
    "def my_mean_squared_error(_y, y):\n",
    "    loss = (_y - y) ** 2\n",
    "    loss = loss.mean()\n",
    "    return loss"
   ]
  },
  {
   "cell_type": "code",
   "execution_count": 115,
   "id": "17390f44-3d4c-4c8f-98c5-b1d372e1725b",
   "metadata": {},
   "outputs": [
    {
     "data": {
      "text/plain": [
       "tensor(114.4715, grad_fn=<MseLossBackward0>)"
      ]
     },
     "execution_count": 115,
     "metadata": {},
     "output_type": "execute_result"
    }
   ],
   "source": [
    "loss_func = nn.MSELoss()\n",
    "loss_func(mynet(X), Y)"
   ]
  },
  {
   "cell_type": "code",
   "execution_count": 116,
   "id": "9ca06c80-37d0-4ef6-a008-2fc37719e8ad",
   "metadata": {},
   "outputs": [
    {
     "data": {
      "text/plain": [
       "tensor(114.4715, grad_fn=<MeanBackward0>)"
      ]
     },
     "execution_count": 116,
     "metadata": {},
     "output_type": "execute_result"
    }
   ],
   "source": [
    "my_mean_squared_error(mynet(X), Y)"
   ]
  },
  {
   "cell_type": "markdown",
   "id": "0cda7704-7598-42d6-9dc1-022f39e8d880",
   "metadata": {
    "jp-MarkdownHeadingCollapsed": true,
    "tags": []
   },
   "source": [
    "# Fetching the values of intermediate layers"
   ]
  },
  {
   "cell_type": "code",
   "execution_count": 118,
   "id": "0d8eed2a-9421-4363-a0b8-b5894b41bf08",
   "metadata": {},
   "outputs": [
    {
     "name": "stdout",
     "output_type": "stream",
     "text": [
      "tensor([[0.0000, 0.0000, 0.3345, 0.0000, 0.7607, 0.0000, 0.0000, 0.7284],\n",
      "        [0.0000, 0.0000, 1.4028, 0.3681, 0.9034, 0.0000, 0.0000, 0.9234],\n",
      "        [0.0000, 0.0000, 2.4711, 0.9866, 1.0461, 0.0000, 0.0000, 1.1184],\n",
      "        [0.0000, 0.0000, 3.5393, 1.6050, 1.1888, 0.0000, 0.0000, 1.3134]],\n",
      "       grad_fn=<ReluBackward0>)\n"
     ]
    }
   ],
   "source": [
    "# First Way\n",
    "\n",
    "input_to_hidden = mynet.input_to_hidden_layer(X)\n",
    "hidden_activation = mynet.hidden_activation(input_to_hidden)\n",
    "print(hidden_activation)"
   ]
  },
  {
   "cell_type": "code",
   "execution_count": 137,
   "id": "4c2f5e7f-ecbe-46ad-9fe3-48d050261a27",
   "metadata": {},
   "outputs": [],
   "source": [
    "# Second Way\n",
    "\n",
    "class neuralNet(nn.Module):\n",
    "    def __init__(self):\n",
    "        super().__init__()\n",
    "        self.input_to_hidden_layer = nn.Linear(2,8)\n",
    "        self.hidden_activation = nn.ReLU()\n",
    "        self.hidden_to_output_layer = nn.Linear(8,1)\n",
    "    def forward(self, x):\n",
    "        hidden1 = self.input_to_hidden_layer(x)\n",
    "        hidden2 = self.hidden_activation(hidden1)\n",
    "        output = self.hidden_to_output_layer(hidden2)\n",
    "        return output, hidden1, hidden2\n",
    "\n",
    "mynet = neuralNet().to(device)"
   ]
  },
  {
   "cell_type": "code",
   "execution_count": 138,
   "id": "57ba72e0-4aa2-4bbd-9cdc-309d0257a8f5",
   "metadata": {},
   "outputs": [
    {
     "data": {
      "text/plain": [
       "Text(0, 0.5, 'loss value')"
      ]
     },
     "execution_count": 138,
     "metadata": {},
     "output_type": "execute_result"
    },
    {
     "data": {
      "image/png": "[encoded data removed]",
      "text/plain": [
       "<Figure size 432x288 with 1 Axes>"
      ]
     },
     "metadata": {
      "needs_background": "light"
     },
     "output_type": "display_data"
    }
   ],
   "source": [
    "loss_func = nn.MSELoss()\n",
    "_Y, _Y_hidden1, _Y_hidden2 = mynet(X)\n",
    "loss_value = loss_func(_Y,Y)\n",
    "opt = SGD(mynet.parameters(), lr = 0.001)\n",
    "loss_history = []\n",
    "for _ in range(50):\n",
    "    opt.zero_grad()\n",
    "    loss_value = loss_func(mynet(X)[0],Y)\n",
    "    loss_value.backward()\n",
    "    opt.step()\n",
    "    loss_history.append(loss_value.detach().numpy())\n",
    "\n",
    "import matplotlib.pyplot as plt\n",
    "%matplotlib inline\n",
    "plt.plot(loss_history)\n",
    "plt.title('Loss variation over increasing epochs')\n",
    "plt.xlabel('epochs')\n",
    "plt.ylabel('loss value')"
   ]
  },
  {
   "cell_type": "code",
   "execution_count": 134,
   "id": "3f2cd4b2-d0e5-49b5-8243-cbb584bb4dba",
   "metadata": {},
   "outputs": [
    {
     "data": {
      "text/plain": [
       "tensor([[ 1.1617, -0.4479, -1.7778,  0.5632,  0.9037,  2.1291, -0.6482, -1.6011],\n",
       "        [ 1.9132, -1.3199, -3.3142,  1.9991,  2.5527,  4.7564, -1.0307, -3.7726],\n",
       "        [ 2.6646, -2.1918, -4.8507,  3.4350,  4.2017,  7.3837, -1.4133, -5.9442],\n",
       "        [ 3.4160, -3.0638, -6.3872,  4.8708,  5.8507, 10.0110, -1.7959, -8.1157]],\n",
       "       grad_fn=<AddmmBackward0>)"
      ]
     },
     "execution_count": 134,
     "metadata": {},
     "output_type": "execute_result"
    }
   ],
   "source": [
    "mynet(X)[1]"
   ]
  },
  {
   "cell_type": "code",
   "execution_count": 139,
   "id": "c6e8534c-5861-4d53-8d32-cece60fa7e84",
   "metadata": {},
   "outputs": [
    {
     "data": {
      "text/plain": [
       "(tensor([[ 2.8060],\n",
       "         [ 6.9123],\n",
       "         [10.9977],\n",
       "         [15.0830]], grad_fn=<AddmmBackward0>),\n",
       " tensor([[ 2.1360, -0.6099, -1.9216,  0.1497, -0.3617,  1.3387,  0.1492,  0.2736],\n",
       "         [ 5.0495, -1.0129, -3.7829,  0.4916, -0.3004,  3.3041, -0.0314,  0.4833],\n",
       "         [ 7.9630, -1.4159, -5.6441,  0.8334, -0.2391,  5.2695, -0.2120,  0.6930],\n",
       "         [10.8764, -1.8188, -7.5053,  1.1752, -0.1778,  7.2350, -0.3926,  0.9027]],\n",
       "        grad_fn=<AddmmBackward0>),\n",
       " tensor([[ 2.1360,  0.0000,  0.0000,  0.1497,  0.0000,  1.3387,  0.1492,  0.2736],\n",
       "         [ 5.0495,  0.0000,  0.0000,  0.4916,  0.0000,  3.3041,  0.0000,  0.4833],\n",
       "         [ 7.9630,  0.0000,  0.0000,  0.8334,  0.0000,  5.2695,  0.0000,  0.6930],\n",
       "         [10.8764,  0.0000,  0.0000,  1.1752,  0.0000,  7.2350,  0.0000,  0.9027]],\n",
       "        grad_fn=<ReluBackward0>))"
      ]
     },
     "execution_count": 139,
     "metadata": {},
     "output_type": "execute_result"
    }
   ],
   "source": [
    "mynet(X)"
   ]
  },
  {
   "cell_type": "markdown",
   "id": "b0d8e61b-d657-42be-9efd-fa196a43c87a",
   "metadata": {
    "jp-MarkdownHeadingCollapsed": true,
    "tags": []
   },
   "source": [
    "# Sequential Method to Build Neural Network"
   ]
  },
  {
   "cell_type": "code",
   "execution_count": 140,
   "id": "1446f55f-636b-47a3-a9ff-09ebb003cc59",
   "metadata": {},
   "outputs": [],
   "source": [
    "x = [[1,2],[3,4],[5,6],[7,8]]\n",
    "y = [[3],[7],[11],[15]]\n",
    "\n",
    "X = torch.tensor(x).float().to(device)\n",
    "Y = torch.tensor(y).float().to(device)"
   ]
  },
  {
   "cell_type": "code",
   "execution_count": 141,
   "id": "ed28df04-6579-4316-a89a-d0b6b47dd337",
   "metadata": {},
   "outputs": [],
   "source": [
    "import torch.nn as nn\n",
    "from torch.utils.data import Dataset, DataLoader\n",
    "import numpy as np\n",
    "import torch"
   ]
  },
  {
   "cell_type": "code",
   "execution_count": 146,
   "id": "b3fba18e-b7f5-4ba7-9416-a34bdf90fd34",
   "metadata": {},
   "outputs": [
    {
     "name": "stderr",
     "output_type": "stream",
     "text": [
      "C:\\Users\\Nagendra.NAGENDRA\\AppData\\Local\\Temp\\ipykernel_4432\\3072411652.py:3: UserWarning: To copy construct from a tensor, it is recommended to use sourceTensor.clone().detach() or sourceTensor.clone().detach().requires_grad_(True), rather than torch.tensor(sourceTensor).\n",
      "  self.x = torch.tensor(x).float().to(device)\n",
      "C:\\Users\\Nagendra.NAGENDRA\\AppData\\Local\\Temp\\ipykernel_4432\\3072411652.py:4: UserWarning: To copy construct from a tensor, it is recommended to use sourceTensor.clone().detach() or sourceTensor.clone().detach().requires_grad_(True), rather than torch.tensor(sourceTensor).\n",
      "  self.y = torch.tensor(y).float().to(device)\n"
     ]
    }
   ],
   "source": [
    "class MyDataset(Dataset):\n",
    "    def __init__(self, x, y):\n",
    "        self.x = torch.tensor(x).float().to(device)\n",
    "        self.y = torch.tensor(y).float().to(device)\n",
    "    def __len__(self):\n",
    "        return len(self.x)\n",
    "    def __getitem__(self, ix):\n",
    "        return self.x[ix], self.y[ix]\n",
    "    \n",
    "ds = MyDataset(X, Y)"
   ]
  },
  {
   "cell_type": "code",
   "execution_count": 147,
   "id": "8e73b03c-281d-47c9-9bd4-1644a4bfd775",
   "metadata": {},
   "outputs": [],
   "source": [
    "dl = DataLoader(ds, batch_size = 2, shuffle = True)"
   ]
  },
  {
   "cell_type": "code",
   "execution_count": 148,
   "id": "e5d707eb-a55b-4c25-851c-a61396a3e5d4",
   "metadata": {},
   "outputs": [],
   "source": [
    "model = nn.Sequential(\n",
    "    nn.Linear(2,8),\n",
    "    nn.ReLU(),\n",
    "    nn.Linear(8,1)\n",
    ").to(device)"
   ]
  },
  {
   "cell_type": "code",
   "execution_count": 150,
   "id": "c8565054-7277-4f53-afeb-f4cc2dd3f9a6",
   "metadata": {},
   "outputs": [
    {
     "name": "stdout",
     "output_type": "stream",
     "text": [
      "Collecting torch_summary\n",
      "  Downloading torch_summary-1.4.5-py3-none-any.whl (16 kB)\n",
      "Installing collected packages: torch-summary\n",
      "Successfully installed torch-summary-1.4.5\n"
     ]
    }
   ],
   "source": [
    "!pip install torch_summary\n",
    "from torchsummary import summary"
   ]
  },
  {
   "cell_type": "code",
   "execution_count": 151,
   "id": "054f437a-6acd-4408-8f80-baf99b3b9d0c",
   "metadata": {},
   "outputs": [
    {
     "name": "stdout",
     "output_type": "stream",
     "text": [
      "==========================================================================================\n",
      "Layer (type:depth-idx)                   Output Shape              Param #\n",
      "==========================================================================================\n",
      "├─Linear: 1-1                            [-1, 8]                   24\n",
      "├─ReLU: 1-2                              [-1, 8]                   --\n",
      "├─Linear: 1-3                            [-1, 1]                   9\n",
      "==========================================================================================\n",
      "Total params: 33\n",
      "Trainable params: 33\n",
      "Non-trainable params: 0\n",
      "Total mult-adds (M): 0.00\n",
      "==========================================================================================\n",
      "Input size (MB): 0.00\n",
      "Forward/backward pass size (MB): 0.00\n",
      "Params size (MB): 0.00\n",
      "Estimated Total Size (MB): 0.00\n",
      "==========================================================================================\n"
     ]
    },
    {
     "data": {
      "text/plain": [
       "==========================================================================================\n",
       "Layer (type:depth-idx)                   Output Shape              Param #\n",
       "==========================================================================================\n",
       "├─Linear: 1-1                            [-1, 8]                   24\n",
       "├─ReLU: 1-2                              [-1, 8]                   --\n",
       "├─Linear: 1-3                            [-1, 1]                   9\n",
       "==========================================================================================\n",
       "Total params: 33\n",
       "Trainable params: 33\n",
       "Non-trainable params: 0\n",
       "Total mult-adds (M): 0.00\n",
       "==========================================================================================\n",
       "Input size (MB): 0.00\n",
       "Forward/backward pass size (MB): 0.00\n",
       "Params size (MB): 0.00\n",
       "Estimated Total Size (MB): 0.00\n",
       "=========================================================================================="
      ]
     },
     "execution_count": 151,
     "metadata": {},
     "output_type": "execute_result"
    }
   ],
   "source": [
    "summary(model, torch.zeros(1,2))"
   ]
  },
  {
   "cell_type": "code",
   "execution_count": 152,
   "id": "70fb8a50-2cf3-44b6-9709-38b5b91fdc79",
   "metadata": {},
   "outputs": [],
   "source": [
    "loss_func = nn.MSELoss()\n",
    "\n",
    "from torch.optim import SGD\n",
    "\n",
    "opt = SGD(model.parameters(), lr = 0.001)"
   ]
  },
  {
   "cell_type": "code",
   "execution_count": 153,
   "id": "b8e54ff9-489e-4f24-92f8-1546efc74d40",
   "metadata": {},
   "outputs": [
    {
     "name": "stdout",
     "output_type": "stream",
     "text": [
      "Time in ms: -0.1339881420135498 ms\n"
     ]
    }
   ],
   "source": [
    "import time\n",
    "\n",
    "loss_history = []\n",
    "start = time.time()\n",
    "for _ in range(50):\n",
    "    for ix, iy in dl:\n",
    "        opt.zero_grad()\n",
    "        loss_value = loss_func(model(ix), iy)\n",
    "        loss_value.backward()\n",
    "        opt.step()\n",
    "        loss_history.append(loss_value.detach().numpy())\n",
    "end = time.time()\n",
    "print(f\"Time in ms: {start-end} ms\")"
   ]
  },
  {
   "cell_type": "code",
   "execution_count": 154,
   "id": "43fe62ee-1698-46b6-991f-6d61b39a10e7",
   "metadata": {},
   "outputs": [],
   "source": [
    "val = [[8,9],[10,11],[1.5,2.5]]"
   ]
  },
  {
   "cell_type": "code",
   "execution_count": 155,
   "id": "14502e53-2fc0-433f-adf8-ef414b4dd52b",
   "metadata": {},
   "outputs": [
    {
     "data": {
      "text/plain": [
       "tensor([[16.8745],\n",
       "        [20.7780],\n",
       "        [ 4.1710]], grad_fn=<AddmmBackward0>)"
      ]
     },
     "execution_count": 155,
     "metadata": {},
     "output_type": "execute_result"
    }
   ],
   "source": [
    "model(torch.tensor(val).float().to(device))"
   ]
  },
  {
   "cell_type": "markdown",
   "id": "6152ffb2-813b-4b5f-9513-c700a39da350",
   "metadata": {
    "jp-MarkdownHeadingCollapsed": true,
    "tags": []
   },
   "source": [
    "# Saving and Loading a PyTorch Model"
   ]
  },
  {
   "cell_type": "code",
   "execution_count": 156,
   "id": "4adf01ad-6f21-4440-8d1c-c541f8e6fbe8",
   "metadata": {},
   "outputs": [
    {
     "data": {
      "text/plain": [
       "OrderedDict([('0.weight',\n",
       "              tensor([[ 0.0565,  0.3335],\n",
       "                      [-0.5786,  0.2260],\n",
       "                      [-0.4406, -0.6544],\n",
       "                      [ 0.2181,  0.3269],\n",
       "                      [ 0.4088, -0.5368],\n",
       "                      [-0.2406,  0.6203],\n",
       "                      [ 0.6647,  0.9832],\n",
       "                      [-0.0708, -0.3026]])),\n",
       "             ('0.bias',\n",
       "              tensor([ 0.3116,  0.4424, -0.3095, -0.5152, -0.1473, -0.3551,  0.0486,  0.6501])),\n",
       "             ('2.weight',\n",
       "              tensor([[ 0.1427, -0.1230,  0.0134,  0.2027, -0.0476,  0.2612,  1.0234, -0.1952]])),\n",
       "             ('2.bias', tensor([0.0815]))])"
      ]
     },
     "execution_count": 156,
     "metadata": {},
     "output_type": "execute_result"
    }
   ],
   "source": [
    "model.state_dict()"
   ]
  },
  {
   "cell_type": "code",
   "execution_count": 161,
   "id": "00dadd7c-fb23-41a2-94c1-73eb0a7fbe78",
   "metadata": {},
   "outputs": [],
   "source": [
    "torch.save(model.to('cpu').state_dict(), './mymodel.pth')"
   ]
  },
  {
   "cell_type": "code",
   "execution_count": 162,
   "id": "708f95ed-2e9f-4b7b-b45a-2fbecd2a1074",
   "metadata": {},
   "outputs": [],
   "source": [
    "# Loading a saved model\n",
    "\n",
    "model = nn.Sequential(\n",
    "    nn.Linear(2,8),\n",
    "    nn.ReLU(),\n",
    "    nn.Linear(8,1)\n",
    ").to(device)\n",
    "\n",
    "state_dict = torch.load('./mymodel.pth')"
   ]
  },
  {
   "cell_type": "code",
   "execution_count": 163,
   "id": "2c453c78-7b27-476c-b96e-54de916cf068",
   "metadata": {},
   "outputs": [
    {
     "data": {
      "text/plain": [
       "<All keys matched successfully>"
      ]
     },
     "execution_count": 163,
     "metadata": {},
     "output_type": "execute_result"
    }
   ],
   "source": [
    "model.load_state_dict(state_dict)"
   ]
  },
  {
   "cell_type": "code",
   "execution_count": 164,
   "id": "6e62a773-d93a-461b-a099-178130c68f3f",
   "metadata": {},
   "outputs": [
    {
     "data": {
      "text/plain": [
       "Sequential(\n",
       "  (0): Linear(in_features=2, out_features=8, bias=True)\n",
       "  (1): ReLU()\n",
       "  (2): Linear(in_features=8, out_features=1, bias=True)\n",
       ")"
      ]
     },
     "execution_count": 164,
     "metadata": {},
     "output_type": "execute_result"
    }
   ],
   "source": [
    "model.to(device)"
   ]
  },
  {
   "cell_type": "code",
   "execution_count": 165,
   "id": "2a0eed28-18d9-4613-b32f-72284c2bb52f",
   "metadata": {},
   "outputs": [
    {
     "data": {
      "text/plain": [
       "tensor([[16.8745],\n",
       "        [20.7780],\n",
       "        [ 4.1710]], grad_fn=<AddmmBackward0>)"
      ]
     },
     "execution_count": 165,
     "metadata": {},
     "output_type": "execute_result"
    }
   ],
   "source": [
    "model(torch.tensor(val).float().to(device))"
   ]
  },
  {
   "cell_type": "code",
   "execution_count": null,
   "id": "41883f2d-309a-48cc-adcf-190aed69bd18",
   "metadata": {},
   "outputs": [],
   "source": []
  }
 ],
 "metadata": {
  "kernelspec": {
   "display_name": "Python 3 (ipykernel)",
   "language": "python",
   "name": "python3"
  },
  "language_info": {
   "codemirror_mode": {
    "name": "ipython",
    "version": 3
   },
   "file_extension": ".py",
   "mimetype": "text/x-python",
   "name": "python",
   "nbconvert_exporter": "python",
   "pygments_lexer": "ipython3",
   "version": "3.9.12"
  }
 },
 "nbformat": 4,
 "nbformat_minor": 5
}
