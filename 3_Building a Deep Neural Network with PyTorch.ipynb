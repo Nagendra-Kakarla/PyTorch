{
 "cells": [
  {
   "cell_type": "markdown",
   "id": "e736e02d-1015-48be-86ad-3f082f9162f7",
   "metadata": {
    "jp-MarkdownHeadingCollapsed": true,
    "tags": []
   },
   "source": [
    "# Converting Images into Structured Arrays and Scalars"
   ]
  },
  {
   "cell_type": "code",
   "execution_count": null,
   "id": "3319fa7c-e504-4d3c-ae20-d3aded149013",
   "metadata": {},
   "outputs": [],
   "source": [
    "!pip install wget\n",
    "import wget\n",
    "wget.download('https://www.dropbox.com/s/l98leemr7r5stnm/Hemanvi.jpeg')"
   ]
  },
  {
   "cell_type": "code",
   "execution_count": null,
   "id": "bfe602fd-2ffa-443b-9869-c2d06de1b9d0",
   "metadata": {},
   "outputs": [],
   "source": [
    "!pip install opencv-python"
   ]
  },
  {
   "cell_type": "code",
   "execution_count": null,
   "id": "7dd04d56-f2d5-49d2-988e-8d35c0313d4e",
   "metadata": {},
   "outputs": [],
   "source": [
    "import cv2\n",
    "import matplotlib.pyplot as plt\n",
    "\n",
    "img = cv2.imread('./Hemanvi.jpeg')"
   ]
  },
  {
   "cell_type": "code",
   "execution_count": null,
   "id": "0b023a25-cee2-4cc6-b5f9-82a000158344",
   "metadata": {},
   "outputs": [],
   "source": [
    "img.shape"
   ]
  },
  {
   "cell_type": "code",
   "execution_count": null,
   "id": "9de03393-5ffa-4a6e-bfb1-7e0a536b1626",
   "metadata": {},
   "outputs": [],
   "source": [
    "img = img[50:250, 40:240]\n",
    "img_gray = cv2.cvtColor(img, cv2.COLOR_BGR2GRAY)\n",
    "plt.imshow(img_gray, cmap = 'gray')"
   ]
  },
  {
   "cell_type": "code",
   "execution_count": null,
   "id": "03d915ce-0d9f-4099-9dff-1c08b4f12e70",
   "metadata": {},
   "outputs": [],
   "source": [
    "img_gray.shape"
   ]
  },
  {
   "cell_type": "code",
   "execution_count": null,
   "id": "2241be80-c7f7-46ae-807c-9f242d5164d9",
   "metadata": {},
   "outputs": [],
   "source": [
    "img_gray_small = cv2.resize(img_gray, (50, 50))\n",
    "plt.imshow(img_gray_small, cmap = 'gray')"
   ]
  },
  {
   "cell_type": "code",
   "execution_count": null,
   "id": "5970a01b-951e-4e51-9d1e-1020d2ea4cbf",
   "metadata": {},
   "outputs": [],
   "source": [
    "print(img_gray_small)"
   ]
  },
  {
   "cell_type": "code",
   "execution_count": null,
   "id": "9aadd9dd-4d5b-4b35-9701-cee53b94e3c1",
   "metadata": {},
   "outputs": [],
   "source": [
    "print(img_gray)"
   ]
  },
  {
   "cell_type": "code",
   "execution_count": null,
   "id": "7ba0d21d-dd7c-4ee6-88fb-e4ec32ff581f",
   "metadata": {},
   "outputs": [],
   "source": [
    "import cv2\n",
    "import matplotlib.pyplot as plt\n",
    "\n",
    "img = cv2.imread('./Hemanvi.jpeg')"
   ]
  },
  {
   "cell_type": "code",
   "execution_count": null,
   "id": "bc847ce8-3eeb-4d39-9c6f-b6e57e58a50a",
   "metadata": {},
   "outputs": [],
   "source": [
    "img = img[50:250, 40:240, :]\n",
    "img = cv2.cvtColor(img, cv2.COLOR_BGR2RGB)"
   ]
  },
  {
   "cell_type": "code",
   "execution_count": null,
   "id": "ca4bc461-8619-4e1e-a56a-55d666c4abb8",
   "metadata": {},
   "outputs": [],
   "source": [
    "plt.imshow(img)\n",
    "print(img.shape)"
   ]
  },
  {
   "cell_type": "code",
   "execution_count": null,
   "id": "43ceff33-d7e2-4d3e-9c4f-d130918160c0",
   "metadata": {},
   "outputs": [],
   "source": [
    "crop = img[-3:, -3:, :]\n",
    "plt.imshow(crop)\n",
    "print(crop)"
   ]
  },
  {
   "cell_type": "code",
   "execution_count": null,
   "id": "13f22dc8-5887-4322-95a6-7c531a05316c",
   "metadata": {},
   "outputs": [],
   "source": [
    "plt.imshow(img[:,:,2])"
   ]
  },
  {
   "cell_type": "markdown",
   "id": "c5cd4a0c-6c8b-4aac-bc6a-cc6ab4985f97",
   "metadata": {
    "jp-MarkdownHeadingCollapsed": true,
    "tags": []
   },
   "source": [
    "# FashionMNIST Dataset"
   ]
  },
  {
   "cell_type": "code",
   "execution_count": null,
   "id": "88c23115-63ab-48dc-b422-a8be746dcf13",
   "metadata": {},
   "outputs": [],
   "source": [
    "from torchvision import datasets\n",
    "import torch\n",
    "\n",
    "data_folder = './data/FMNIST'\n",
    "fmnist = datasets.FashionMNIST(data_folder,\n",
    "                               download = True,\n",
    "                               train = True)"
   ]
  },
  {
   "cell_type": "code",
   "execution_count": null,
   "id": "a347e327-a213-4e1a-b139-0af62f4cf679",
   "metadata": {},
   "outputs": [],
   "source": [
    "fmnist"
   ]
  },
  {
   "cell_type": "code",
   "execution_count": null,
   "id": "33043443-872a-4fa9-8b61-85b597088b84",
   "metadata": {},
   "outputs": [],
   "source": [
    "tr_images = fmnist.data\n",
    "tr_targets = fmnist.targets"
   ]
  },
  {
   "cell_type": "code",
   "execution_count": null,
   "id": "13ed798b-57e8-4922-94a9-0e6cbe4babc2",
   "metadata": {},
   "outputs": [],
   "source": [
    "tr_images.shape"
   ]
  },
  {
   "cell_type": "code",
   "execution_count": null,
   "id": "32be0176-8b4f-44db-8377-8d8979ab1afa",
   "metadata": {},
   "outputs": [],
   "source": [
    "tr_targets.shape"
   ]
  },
  {
   "cell_type": "code",
   "execution_count": null,
   "id": "71130bd4-679f-413b-a0bc-6e29b9d56c0f",
   "metadata": {},
   "outputs": [],
   "source": [
    "tr_targets.unique()"
   ]
  },
  {
   "cell_type": "code",
   "execution_count": null,
   "id": "29b52252-90c9-4213-a0ba-b95bcc67d757",
   "metadata": {},
   "outputs": [],
   "source": [
    "fmnist.classes"
   ]
  },
  {
   "cell_type": "code",
   "execution_count": null,
   "id": "87836e50-451a-464d-a8ac-a9cf9ef3746d",
   "metadata": {},
   "outputs": [],
   "source": [
    "dir(fmnist)"
   ]
  },
  {
   "cell_type": "code",
   "execution_count": null,
   "id": "92e84b47-673a-421e-9f53-3c95a22e4b23",
   "metadata": {},
   "outputs": [],
   "source": [
    "import matplotlib.pyplot as plt\n",
    "import numpy as np"
   ]
  },
  {
   "cell_type": "code",
   "execution_count": null,
   "id": "98f038de-9d47-48e9-af7c-3c006fe29d66",
   "metadata": {},
   "outputs": [],
   "source": [
    "R, C = len(tr_targets.unique()), 10\n",
    "fig, ax = plt.subplots(R, C, figsize=(10,10))\n",
    "for label_class, plot_row in enumerate(ax):\n",
    "    label_x_rows = np.where(tr_targets == label_class)[0]\n",
    "    for plot_cell in plot_row:\n",
    "        plot_cell.grid(False); plot_cell.axis('off')\n",
    "        ix = np.random.choice(label_x_rows)\n",
    "        x, y = tr_images[ix], tr_targets[ix]\n",
    "        plot_cell.imshow(x, cmap='gray')\n",
    "plt.tight_layout()"
   ]
  },
  {
   "cell_type": "markdown",
   "id": "bae10171-91f3-49dd-84f1-41e1aca1c26e",
   "metadata": {
    "jp-MarkdownHeadingCollapsed": true,
    "tags": []
   },
   "source": [
    "# Training a Neural Network"
   ]
  },
  {
   "cell_type": "code",
   "execution_count": null,
   "id": "c54ee0f0-8ae4-42a2-9a69-51d2ec03d15e",
   "metadata": {},
   "outputs": [],
   "source": [
    "from torch.utils.data import Dataset, DataLoader\n",
    "import torch\n",
    "import torch.nn as nn\n",
    "import numpy as np\n",
    "import matplotlib.pyplot as plt\n",
    "from torchvision import datasets\n",
    "\n",
    "device = 'cuda' if torch.cuda.is_available() else 'cpu'"
   ]
  },
  {
   "cell_type": "code",
   "execution_count": null,
   "id": "23a4b592-e4bb-4731-b65a-a45e437c918d",
   "metadata": {},
   "outputs": [],
   "source": [
    "data_folder = './data/FMNIST'\n",
    "fmnist = datasets.FashionMNIST(data_folder,\n",
    "                               download = True,\n",
    "                               train = True)"
   ]
  },
  {
   "cell_type": "code",
   "execution_count": null,
   "id": "e336de3f-c3ce-47d2-a7e5-118114c2bb7e",
   "metadata": {},
   "outputs": [],
   "source": [
    "tr_images = fmnist.data\n",
    "tr_targets = fmnist.targets"
   ]
  },
  {
   "cell_type": "code",
   "execution_count": null,
   "id": "e1850e51-6c06-4409-9361-8999a4a0be7b",
   "metadata": {},
   "outputs": [],
   "source": [
    "class FMNISTDataset(Dataset):\n",
    "    def __init__(self, x, y):\n",
    "        x = x.float()\n",
    "        x = x.view(-1, 28*28)\n",
    "        self.x = x\n",
    "        self.y = y\n",
    "    def __getitem__(self, ix):\n",
    "        x = self.x[ix]\n",
    "        y = self.y[ix]\n",
    "        return x.to(device), y.to(device)\n",
    "    def __len__(self):\n",
    "        return len(self.x)        "
   ]
  },
  {
   "cell_type": "code",
   "execution_count": null,
   "id": "d03f0f5e-f278-46df-b070-6a341d6e82de",
   "metadata": {},
   "outputs": [],
   "source": [
    "def get_data():\n",
    "    train = FMNISTDataset(tr_images, tr_targets)\n",
    "    trn_dl = DataLoader(train, batch_size = 32, shuffle = True)\n",
    "    return trn_dl"
   ]
  },
  {
   "cell_type": "code",
   "execution_count": null,
   "id": "440470eb-a795-4459-ad6b-e44c4ddad636",
   "metadata": {},
   "outputs": [],
   "source": [
    "from torch.optim import SGD\n",
    "\n",
    "def get_model():\n",
    "    model = nn.Sequential(\n",
    "        nn.Linear(28*28, 1000),\n",
    "        nn.ReLU(),\n",
    "        nn.Linear(1000, 10)\n",
    "    ).to(device)\n",
    "    \n",
    "    loss_func = nn.CrossEntropyLoss()\n",
    "    optimizer = SGD(model.parameters(), lr = 1e-2)\n",
    "    \n",
    "    return model, loss_func, optimizer"
   ]
  },
  {
   "cell_type": "code",
   "execution_count": null,
   "id": "2baea5f0-19dd-4fe8-99ea-343de8b67ec3",
   "metadata": {},
   "outputs": [],
   "source": [
    "def train_batch(x, y, model, opt, loss_fn):\n",
    "    model.train()\n",
    "    prediction = model(x)\n",
    "    batch_loss = loss_fn(prediction, y)\n",
    "    batch_loss.backward()\n",
    "    opt.step()\n",
    "    opt.zero_grad()\n",
    "    return batch_loss.item()"
   ]
  },
  {
   "cell_type": "code",
   "execution_count": null,
   "id": "c7be00c9-d23f-4b48-9cb6-58d6f0a65e82",
   "metadata": {},
   "outputs": [],
   "source": [
    "@torch.no_grad()\n",
    "\n",
    "def accuracy(x, y, model):\n",
    "    model.eval()\n",
    "    prediction = model(x)\n",
    "    max_values, argmaxes = prediction.max(-1)\n",
    "    is_correct = argmaxes == y\n",
    "    return is_correct.cpu().numpy().tolist()"
   ]
  },
  {
   "cell_type": "code",
   "execution_count": null,
   "id": "542bc72a-78c9-4d8e-93ab-b9347bacfb78",
   "metadata": {},
   "outputs": [],
   "source": [
    "trn_dl = get_data()"
   ]
  },
  {
   "cell_type": "code",
   "execution_count": null,
   "id": "d3196bd5-5270-4bf7-9cd3-dac24e437049",
   "metadata": {},
   "outputs": [],
   "source": [
    "model, loss_fn, optimizer = get_model()"
   ]
  },
  {
   "cell_type": "code",
   "execution_count": null,
   "id": "f07af22a-b134-441e-82ed-35df76e7193e",
   "metadata": {},
   "outputs": [],
   "source": [
    "losses, accuracies = [], []"
   ]
  },
  {
   "cell_type": "code",
   "execution_count": null,
   "id": "c68f41d4-19e5-4ff5-9590-f2403516cbb2",
   "metadata": {},
   "outputs": [],
   "source": [
    "for epoch in range(5):\n",
    "    print(epoch)\n",
    "    epoch_losses, epoch_accuracies = [], []\n",
    "    for ix, batch in enumerate(iter(trn_dl)):\n",
    "        x, y = batch\n",
    "        batch_loss = train_batch(x, y, model, optimizer, loss_fn)\n",
    "        epoch_losses.append(batch_loss)\n",
    "    epoch_loss = np.array(epoch_losses).mean()\n",
    "    \n",
    "    for ix, batch in enumerate(iter(trn_dl)):\n",
    "        x, y = batch\n",
    "        is_correct = accuracy(x, y, model)\n",
    "        epoch_accuracies.extend(is_correct)\n",
    "    epoch_accuracy = np.mean(epoch_accuracies)\n",
    "    \n",
    "    losses.append(epoch_loss)\n",
    "    accuracies.append(epoch_accuracy)"
   ]
  },
  {
   "cell_type": "code",
   "execution_count": null,
   "id": "0b13d9bc-d30f-47fc-834d-f55eddbd0098",
   "metadata": {},
   "outputs": [],
   "source": [
    "epochs = np.arange(5) + 1\n",
    "plt.plot(epochs, losses, label = 'Training Loss')\n",
    "plt.title('Loss Value over incresing Epochs')\n",
    "plt.legend()"
   ]
  },
  {
   "cell_type": "code",
   "execution_count": null,
   "id": "265e729a-6534-4911-a5b4-b73228ec4beb",
   "metadata": {},
   "outputs": [],
   "source": [
    "epochs = np.arange(5) + 1\n",
    "plt.plot(epochs, accuracies, label = 'Training Accuracy')\n",
    "plt.legend()\n",
    "plt.title('Accuracy Value over incresing Epochs')"
   ]
  },
  {
   "cell_type": "markdown",
   "id": "5a6353f2-76b3-45fa-839e-b7acabeb5f01",
   "metadata": {
    "jp-MarkdownHeadingCollapsed": true,
    "tags": []
   },
   "source": [
    "# Scaling Dataset to improve Model Accuracy"
   ]
  },
  {
   "cell_type": "code",
   "execution_count": null,
   "id": "2e2d487e-0615-4706-9cf0-9830c187c461",
   "metadata": {},
   "outputs": [],
   "source": [
    "from torchvision import datasets\n",
    "import torch\n",
    "import torch.nn as nn\n",
    "from torch.utils.data import Dataset, DataLoader\n",
    "import numpy\n",
    "import matplotlib.pyplot as plt"
   ]
  },
  {
   "cell_type": "code",
   "execution_count": null,
   "id": "8564fbd0-1ff9-41ba-86e8-633e886e4f43",
   "metadata": {},
   "outputs": [],
   "source": [
    "device = 'cuda' if torch.cuda.is_available() else 'cpu'"
   ]
  },
  {
   "cell_type": "code",
   "execution_count": null,
   "id": "9d7a094d-c75a-4c14-a8d6-3a5d7340a3d0",
   "metadata": {},
   "outputs": [],
   "source": [
    "data_folder = './data/FMNIST'\n",
    "fmnist = datasets.FashionMNIST(data_folder,\n",
    "                               download = True,\n",
    "                               train = True)"
   ]
  },
  {
   "cell_type": "code",
   "execution_count": null,
   "id": "b15a6227-2bed-405f-9f95-3a2ea2801729",
   "metadata": {},
   "outputs": [],
   "source": [
    "tr_images = fmnist.data\n",
    "tr_targets = fmnist.targets"
   ]
  },
  {
   "cell_type": "code",
   "execution_count": null,
   "id": "c34e2f61-bcf9-4fb9-8cc8-85c882030461",
   "metadata": {},
   "outputs": [],
   "source": [
    "class FMNISTDataset(Dataset):\n",
    "    def __init__(self, x, y):\n",
    "        x = x.float() / 255.0\n",
    "        x = x.view(-1, 28*28)\n",
    "        self.x = x\n",
    "        self.y = y\n",
    "    def __getitem__(self, ix):\n",
    "        x = self.x[ix]\n",
    "        y = self.y[ix]\n",
    "        return x.to(device), y.to(device)\n",
    "    def __len__(self):\n",
    "        return len(self.x)"
   ]
  },
  {
   "cell_type": "code",
   "execution_count": null,
   "id": "c44023fc-b59a-478b-9b2f-5eefb205e649",
   "metadata": {},
   "outputs": [],
   "source": [
    "def get_data():\n",
    "    train = FMNISTDataset(tr_images, tr_targets)\n",
    "    trn_dl = DataLoader(train, batch_size = 32, shuffle = True)\n",
    "    return trn_dl"
   ]
  },
  {
   "cell_type": "code",
   "execution_count": null,
   "id": "fb46a30d-c580-4d7a-99d5-29a8c2682575",
   "metadata": {},
   "outputs": [],
   "source": [
    "from torch.optim import SGD\n",
    "\n",
    "def get_model():\n",
    "    model = nn.Sequential(nn.Linear(28*28, 1000),\n",
    "                          nn.ReLU(),\n",
    "                          nn.Linear(1000, 10)).to(device)\n",
    "    loss_fn = nn.CrossEntropyLoss()\n",
    "    optimizer = SGD(model.parameters(), lr = 1e-2)\n",
    "    return model, loss_fn, optimizer"
   ]
  },
  {
   "cell_type": "code",
   "execution_count": null,
   "id": "5a11833b-aa65-4d9a-ad33-5c3c06db6622",
   "metadata": {},
   "outputs": [],
   "source": [
    "def train_batch(x, y, model, opt, loss_fn):\n",
    "    model.train()\n",
    "    prediction = model(x)\n",
    "    batch_loss = loss_fn(prediction, y)\n",
    "    batch_loss.backward()\n",
    "    opt.step()\n",
    "    opt.zero_grad()\n",
    "    return batch_loss.item()"
   ]
  },
  {
   "cell_type": "code",
   "execution_count": null,
   "id": "1f97d701-32e0-4e0f-bf99-411a41763441",
   "metadata": {},
   "outputs": [],
   "source": [
    "@torch.no_grad()\n",
    "\n",
    "def accuracy(x, y, model):\n",
    "    model.eval()\n",
    "    prediction = model(x)\n",
    "    max_values, argmaxes = prediction.max(-1)\n",
    "    is_correct = argmaxes == y\n",
    "    return is_correct.cpu().numpy().tolist()"
   ]
  },
  {
   "cell_type": "code",
   "execution_count": null,
   "id": "4bd723ff-350d-439f-8cf0-49fd5eddcf42",
   "metadata": {},
   "outputs": [],
   "source": [
    "trn_dl = get_data()\n",
    "model, loss_fn, optimizer = get_model()\n",
    "losses, accuracies = [], []\n",
    "\n",
    "for epoch in range(1, 6, 1):\n",
    "    print(f\"Epoch - {epoch}\")\n",
    "    epoch_losses, epoch_accuracies = [], []\n",
    "    for ix, batch in enumerate(iter(trn_dl)):\n",
    "        x, y = batch\n",
    "        batch_loss = train_batch(x, y, model, optimizer, loss_fn)\n",
    "        epoch_losses.append(batch_loss)\n",
    "    epoch_loss = np.array(epoch_losses).mean()\n",
    "    for ix, batch in enumerate(iter(trn_dl)):\n",
    "        x, y = batch\n",
    "        is_correct = accuracy(x, y, model)\n",
    "        epoch_accuracies.extend(is_correct)\n",
    "    epoch_accuracy = np.mean(epoch_accuracies)\n",
    "    losses.append(epoch_loss)\n",
    "    accuracies.append(epoch_accuracy)"
   ]
  },
  {
   "cell_type": "code",
   "execution_count": null,
   "id": "c5f50566-83a1-46c0-b919-3d8a4d01c208",
   "metadata": {},
   "outputs": [],
   "source": [
    "import matplotlib.pyplot as plt\n",
    "\n",
    "epochs = np.arange(5) + 1\n",
    "plt.plot(epochs, losses, label = 'Traing Loss')\n",
    "plt.legend()"
   ]
  },
  {
   "cell_type": "code",
   "execution_count": null,
   "id": "f549f23c-e2e9-40b5-8f35-39d5a3b92044",
   "metadata": {},
   "outputs": [],
   "source": [
    "epochs = np.arange(5) + 1\n",
    "plt.plot(epochs, accuracies, label = 'Traing Accuracy')\n",
    "plt.legend()"
   ]
  },
  {
   "cell_type": "markdown",
   "id": "d3192657-bdc5-4b16-81b0-79a0bc027a93",
   "metadata": {
    "jp-MarkdownHeadingCollapsed": true,
    "tags": []
   },
   "source": [
    "# Understanding the impact of varying the batch size = 32"
   ]
  },
  {
   "cell_type": "code",
   "execution_count": null,
   "id": "55e3a84e-cfea-4acf-942f-d67637975c79",
   "metadata": {},
   "outputs": [],
   "source": [
    "from torchvision import datasets\n",
    "import torch\n",
    "\n",
    "data_folder = './data/FMNIST'\n",
    "fmnist = datasets.FashionMNIST(data_folder,\n",
    "                               download = True,\n",
    "                               train = True)\n",
    "tr_images = fmnist.data\n",
    "tr_targets = fmnist.targets"
   ]
  },
  {
   "cell_type": "code",
   "execution_count": null,
   "id": "2112ddc8-8fce-4ea2-baac-f2b0cdc4b89d",
   "metadata": {},
   "outputs": [],
   "source": [
    "val_fmnist = datasets.FashionMNIST(data_folder,\n",
    "                                   download = True,\n",
    "                                   train = False)\n",
    "val_images = val_fmnist.data\n",
    "val_targets = val_fmnist.targets"
   ]
  },
  {
   "cell_type": "code",
   "execution_count": null,
   "id": "8a1efcec-65fc-4104-a835-b9181c7dbb46",
   "metadata": {},
   "outputs": [],
   "source": [
    "import matplotlib.pyplot as plt\n",
    "import numpy as np\n",
    "from torch.utils.data import Dataset, DataLoader\n",
    "import torch.nn as nn\n",
    "from torch.optim import SGD, Adam\n",
    "\n",
    "device = 'cuda' if torch.cuda.is_available() else 'cpu'"
   ]
  },
  {
   "cell_type": "code",
   "execution_count": null,
   "id": "e397a12b-1a05-4891-9bf0-7cc949284f6d",
   "metadata": {},
   "outputs": [],
   "source": [
    "class FashionMNIST(Dataset):\n",
    "    def __init__(self, x, y):\n",
    "        x = x.float() / 255.0\n",
    "        x = x.view(-1, 28*28)\n",
    "        self.x, self.y = x, y\n",
    "    def __getitem__(self, ix):\n",
    "        x, y = self.x[ix], self.y[ix]\n",
    "        return x.to(device), y.to(device)\n",
    "    def __len__(self):\n",
    "        return len(self.x)"
   ]
  },
  {
   "cell_type": "code",
   "execution_count": null,
   "id": "4d9bc47d-dd0a-40d5-9e05-281a0b5da6f3",
   "metadata": {},
   "outputs": [],
   "source": [
    "def get_model():\n",
    "    model = nn.Sequential(nn.Linear(28*28, 1000),\n",
    "                          nn.ReLU(),\n",
    "                          nn.Linear(1000, 10).to(device)\n",
    "                         )\n",
    "    loss_fn = nn.CrossEntropyLoss()\n",
    "    optimizer = Adam(model.parameters(), lr = 1e-2)\n",
    "    return model, loss_fn, optimizer"
   ]
  },
  {
   "cell_type": "code",
   "execution_count": null,
   "id": "01f181be-009b-4416-bfab-1e61864b9bf4",
   "metadata": {},
   "outputs": [],
   "source": [
    "def train_batch(x, y, model, loss_fn, optimizer):\n",
    "    model.train()\n",
    "    prediction = model(x)\n",
    "    batch_loss = loss_fn(prediction, y)\n",
    "    batch_loss.backward()\n",
    "    optimizer.step()\n",
    "    optimizer.zero_grad()\n",
    "    return batch_loss.item()"
   ]
  },
  {
   "cell_type": "code",
   "execution_count": null,
   "id": "754a537f-0c68-40a9-8022-9c8f0ac3d7f6",
   "metadata": {},
   "outputs": [],
   "source": [
    "def accuracy(x, y, model):\n",
    "    model.eval()\n",
    "    with torch.no_grad():\n",
    "        prediction = model(x)\n",
    "    max_values, argmaxes = prediction.max(-1)\n",
    "    is_correct = argmaxes == y\n",
    "    return is_correct.cpu().numpy().tolist()"
   ]
  },
  {
   "cell_type": "code",
   "execution_count": null,
   "id": "6a3efca7-f6eb-42fc-ba0e-efc6b7e21a6f",
   "metadata": {},
   "outputs": [],
   "source": [
    "def get_data():\n",
    "    train = FashionMNIST(tr_images, tr_targets)\n",
    "    trn_dl = DataLoader(train, batch_size = 32, shuffle = True)\n",
    "    val = FashionMNIST(val_images, val_targets)\n",
    "    val_dl = DataLoader(val, batch_size = len(val_images), shuffle = False)\n",
    "    return trn_dl, val_dl"
   ]
  },
  {
   "cell_type": "code",
   "execution_count": null,
   "id": "95d883b3-64d1-4442-9b26-c041a3bb27dd",
   "metadata": {},
   "outputs": [],
   "source": [
    "@torch.no_grad()\n",
    "def val_loss(x, y, model, loss_fn):\n",
    "    model.eval()\n",
    "    prediction = model(x)\n",
    "    val_loss = loss_fn(prediction, y)\n",
    "    return val_loss.item()"
   ]
  },
  {
   "cell_type": "code",
   "execution_count": null,
   "id": "849d4fd4-7f16-4a4b-8d9e-a641133ae846",
   "metadata": {},
   "outputs": [],
   "source": [
    "trn_dl, val_dl = get_data()\n",
    "model, loss_fn, optimizer = get_model()"
   ]
  },
  {
   "cell_type": "code",
   "execution_count": null,
   "id": "20be8dfa-c842-4941-b28c-612dc1592c05",
   "metadata": {},
   "outputs": [],
   "source": [
    "train_losses, val_losses = [], []\n",
    "train_accuracies, val_accuracies = [], []"
   ]
  },
  {
   "cell_type": "code",
   "execution_count": null,
   "id": "577e6d6e-61bd-4244-8597-1d7d16648cd6",
   "metadata": {},
   "outputs": [],
   "source": [
    "for epoch in range(5):\n",
    "    print(f'epoch# {epoch}')\n",
    "    train_epoch_losses, train_epoch_accuracies = [], []\n",
    "    \n",
    "    for ix, batch in enumerate(iter(trn_dl)):\n",
    "        x, y = batch\n",
    "        batch_loss = train_batch(x, y, model, loss_fn, optimizer)\n",
    "        train_epoch_losses.append(batch_loss)\n",
    "    train_epoch_loss = np.array(train_epoch_losses).mean()\n",
    "    \n",
    "    for ix, batch in enumerate(iter(trn_dl)):\n",
    "        x, y = batch\n",
    "        is_correct = accuracy(x, y, model)\n",
    "        train_epoch_accuracies.extend(is_correct)\n",
    "    train_epoch_accuracy = np.mean(train_epoch_accuracies)\n",
    "    \n",
    "    for ix, batch in enumerate(iter(val_dl)):\n",
    "        x, y = batch\n",
    "        val_is_correct = accuracy(x, y, model)\n",
    "        validation_loss = val_loss(x, y, model, loss_fn)\n",
    "    val_epoch_accuracy = np.mean(val_is_correct)\n",
    "    \n",
    "    train_losses.append(train_epoch_loss)\n",
    "    train_accuracies.append(train_epoch_accuracy)\n",
    "    val_losses.append(validation_loss)\n",
    "    val_accuracies.append(val_epoch_accuracy)"
   ]
  },
  {
   "cell_type": "code",
   "execution_count": null,
   "id": "93c61363-ca01-45a8-a9c8-80132c999847",
   "metadata": {},
   "outputs": [],
   "source": [
    "import matplotlib.pyplot as plt\n",
    "\n",
    "epochs = np.arange(5) + 1\n",
    "#plt.subplot(2,1,1)\n",
    "plt.figure(figsize=(12,5))\n",
    "plt.plot(epochs, train_losses, 'r', label = 'Training Loss')\n",
    "plt.plot(epochs, val_losses, 'b', label = 'Validation Loss')\n",
    "plt.legend()\n",
    "plt.xlabel('Epochs')\n",
    "plt.ylabel('Loss')\n",
    "plt.title('Train/Val Losses when batch size=32')\n",
    "plt.grid('off')\n",
    "\n",
    "#plt.subplot(2,1,2)\n",
    "plt.figure(figsize=(12,5))\n",
    "plt.plot(epochs, train_accuracies, 'r', label = 'Training Accuracy')\n",
    "plt.plot(epochs, val_accuracies, 'b', label = 'Validation Acurracy')\n",
    "plt.legend()\n",
    "plt.xlabel('Epochs')\n",
    "plt.ylabel('Accuracies')\n",
    "plt.title('Train/Val Accuracies when batch size=32')\n",
    "plt.grid('off')\n",
    "plt.show()"
   ]
  },
  {
   "cell_type": "markdown",
   "id": "5b4573c8-42e7-4d93-9ae4-093d2221147a",
   "metadata": {
    "jp-MarkdownHeadingCollapsed": true,
    "tags": []
   },
   "source": [
    "# Understanding the impact of varying the batch size = 10000"
   ]
  },
  {
   "cell_type": "code",
   "execution_count": null,
   "id": "ac6fa920-8a99-4c59-993d-a5ca56e3e578",
   "metadata": {},
   "outputs": [],
   "source": [
    "def getdata():\n",
    "    train = FashionMNIST(tr_images, tr_targets)\n",
    "    trn_dl = DataLoader(train, batch_size = 10000, shuffle = True)\n",
    "    val = FashionMNIST(val_images, val_targets)\n",
    "    val_dl = DataLoader(val, batch_size = len(val_images), shuffle = False)\n",
    "    return trn_dl, val_dl"
   ]
  },
  {
   "cell_type": "code",
   "execution_count": null,
   "id": "fbfb385f-5e8a-47a5-82aa-2545972d2dae",
   "metadata": {},
   "outputs": [],
   "source": [
    "trn_dl, val_dl = getdata()\n",
    "model, loss_fn, optimizer = get_model()"
   ]
  },
  {
   "cell_type": "code",
   "execution_count": null,
   "id": "b921f628-f338-40b3-84a9-b1e110e6e95e",
   "metadata": {},
   "outputs": [],
   "source": [
    "train_losses, val_losses = [], []\n",
    "train_accuracies, val_accuracies = [], []"
   ]
  },
  {
   "cell_type": "code",
   "execution_count": null,
   "id": "66dec65f-4331-467d-98fd-0b8cacfa05af",
   "metadata": {},
   "outputs": [],
   "source": [
    "for epoch in range(20):\n",
    "    print(f'epoch# {epoch+1}')\n",
    "    train_epoch_losses, train_epoch_accuracies = [], []\n",
    "    \n",
    "    for ix, batch in enumerate(iter(trn_dl)):\n",
    "        x, y = batch\n",
    "        batch_loss = train_batch(x, y, model, loss_fn, optimizer)\n",
    "        train_epoch_losses.append(batch_loss)\n",
    "    train_epoch_loss = np.array(train_epoch_losses).mean()\n",
    "    \n",
    "    for ix, batch in enumerate(iter(trn_dl)):\n",
    "        x, y = batch\n",
    "        is_correct = accuracy(x, y, model)\n",
    "        train_epoch_accuracies.extend(is_correct)\n",
    "    train_epoch_accuracy = np.mean(train_epoch_accuracies)\n",
    "    \n",
    "    for ix, batch in enumerate(iter(val_dl)):\n",
    "        x, y = batch\n",
    "        val_is_correct = accuracy(x, y, model)\n",
    "        validation_loss = val_loss(x, y, model, loss_fn)\n",
    "    val_epoch_accuracy = np.mean(val_is_correct)\n",
    "    \n",
    "    train_losses.append(train_epoch_loss)\n",
    "    train_accuracies.append(train_epoch_accuracy)\n",
    "    val_losses.append(validation_loss)\n",
    "    val_accuracies.append(val_epoch_accuracy)"
   ]
  },
  {
   "cell_type": "code",
   "execution_count": null,
   "id": "c1df3591-5b79-4357-afaf-0c6f8762170d",
   "metadata": {},
   "outputs": [],
   "source": [
    "import matplotlib.pyplot as plt\n",
    "\n",
    "epochs = np.arange(20) + 1\n",
    "#plt.subplot(2,1,1)\n",
    "plt.figure(figsize=(12,5))\n",
    "plt.plot(epochs, train_losses, 'r', label = 'Training Loss')\n",
    "plt.plot(epochs, val_losses, 'b', label = 'Validation Loss')\n",
    "plt.legend()\n",
    "plt.xlabel('Epochs')\n",
    "plt.ylabel('Loss')\n",
    "plt.title('Train/Val Losses when batch size=10000')\n",
    "plt.grid('off')\n",
    "\n",
    "#plt.subplot(2,1,2)\n",
    "plt.figure(figsize=(12,5))\n",
    "plt.plot(epochs, train_accuracies, 'r', label = 'Training Accuracy')\n",
    "plt.plot(epochs, val_accuracies, 'b', label = 'Validation Acurracy')\n",
    "plt.legend()\n",
    "plt.xlabel('Epochs')\n",
    "plt.ylabel('Accuracies')\n",
    "plt.title('Train/Val Accuracies when batch size=10000')\n",
    "plt.grid('off')\n",
    "plt.show()"
   ]
  },
  {
   "cell_type": "markdown",
   "id": "7807e7cf-dd84-4b57-b71c-43fe2e19b56b",
   "metadata": {
    "jp-MarkdownHeadingCollapsed": true,
    "tags": []
   },
   "source": [
    "# Understanding the impact of varying the loss optimizer (SGD)"
   ]
  },
  {
   "cell_type": "code",
   "execution_count": null,
   "id": "c4782913-be46-4368-a30b-3cd668048a4b",
   "metadata": {},
   "outputs": [],
   "source": [
    "from torch.optim import SGD, Adam\n",
    "\n",
    "def get_model():\n",
    "    model = nn.Sequential(nn.Linear(28*28, 1000),\n",
    "                          nn.ReLU(),\n",
    "                          nn.Linear(1000, 10).to(device)\n",
    "                         )\n",
    "    loss_fn = nn.CrossEntropyLoss()\n",
    "    optimizer = SGD(model.parameters(), lr = 1e-2)\n",
    "    return model, loss_fn, optimizer"
   ]
  },
  {
   "cell_type": "code",
   "execution_count": null,
   "id": "b4b206f8-e5e0-494a-9710-74f3327d51bd",
   "metadata": {},
   "outputs": [],
   "source": [
    "def getdata():\n",
    "    train = FashionMNIST(tr_images, tr_targets)\n",
    "    trn_dl = DataLoader(train, batch_size = 32, shuffle = True)\n",
    "    val = FashionMNIST(val_images, val_targets)\n",
    "    val_dl = DataLoader(val, batch_size = len(val_images), shuffle = False)\n",
    "    return trn_dl, val_dl"
   ]
  },
  {
   "cell_type": "code",
   "execution_count": null,
   "id": "02beda56-f5cb-42eb-aaff-1e6fb323b4f4",
   "metadata": {},
   "outputs": [],
   "source": [
    "trn_dl, val_dl = getdata()\n",
    "model, loss_fn, optimizer = get_model()"
   ]
  },
  {
   "cell_type": "code",
   "execution_count": null,
   "id": "e1e3927f-bf37-4366-b26a-05f441fd6643",
   "metadata": {},
   "outputs": [],
   "source": [
    "train_losses, val_losses = [], []\n",
    "train_accuracies, val_accuracies = [], []"
   ]
  },
  {
   "cell_type": "code",
   "execution_count": null,
   "id": "be5398a8-f5b5-4e84-bb4d-fb9fbe6ce3b9",
   "metadata": {},
   "outputs": [],
   "source": [
    "for epoch in range(10):\n",
    "    print(f'epoch# {epoch+1}')\n",
    "    train_epoch_losses, train_epoch_accuracies = [], []\n",
    "    \n",
    "    for ix, batch in enumerate(iter(trn_dl)):\n",
    "        x, y = batch\n",
    "        batch_loss = train_batch(x, y, model, loss_fn, optimizer)\n",
    "        train_epoch_losses.append(batch_loss)\n",
    "    train_epoch_loss = np.array(train_epoch_losses).mean()\n",
    "    \n",
    "    for ix, batch in enumerate(iter(trn_dl)):\n",
    "        x, y = batch\n",
    "        is_correct = accuracy(x, y, model)\n",
    "        train_epoch_accuracies.extend(is_correct)\n",
    "    train_epoch_accuracy = np.mean(train_epoch_accuracies)\n",
    "    \n",
    "    for ix, batch in enumerate(iter(val_dl)):\n",
    "        x, y = batch\n",
    "        val_is_correct = accuracy(x, y, model)\n",
    "        validation_loss = val_loss(x, y, model, loss_fn)\n",
    "    val_epoch_accuracy = np.mean(val_is_correct)\n",
    "    \n",
    "    train_losses.append(train_epoch_loss)\n",
    "    train_accuracies.append(train_epoch_accuracy)\n",
    "    val_losses.append(validation_loss)\n",
    "    val_accuracies.append(val_epoch_accuracy)"
   ]
  },
  {
   "cell_type": "code",
   "execution_count": null,
   "id": "f1ad9c5c-5851-4d39-9f9d-aab7e2e554cb",
   "metadata": {},
   "outputs": [],
   "source": [
    "import matplotlib.pyplot as plt\n",
    "\n",
    "epochs = np.arange(10) + 1\n",
    "#plt.subplot(2,1,1)\n",
    "plt.figure(figsize=(12,5))\n",
    "plt.plot(epochs, train_losses, 'bo', label = 'Training Loss')\n",
    "plt.plot(epochs, val_losses, 'r', label = 'Validation Loss')\n",
    "plt.legend()\n",
    "plt.xlabel('Epochs')\n",
    "plt.ylabel('Loss')\n",
    "plt.title('Train/Val Losses when batch size=32 & Opt is SGD')\n",
    "plt.grid('off')\n",
    "\n",
    "#plt.subplot(2,1,2)\n",
    "plt.figure(figsize=(12,5))\n",
    "plt.plot(epochs, train_accuracies, 'bo', label = 'Training Accuracy')\n",
    "plt.plot(epochs, val_accuracies, 'r', label = 'Validation Acurracy')\n",
    "plt.legend()\n",
    "plt.xlabel('Epochs')\n",
    "plt.ylabel('Accuracies')\n",
    "plt.title('Train/Val Accuracies when batch size=32 & Opt is SGD')\n",
    "plt.grid('off')\n",
    "plt.show()"
   ]
  },
  {
   "cell_type": "markdown",
   "id": "7a3b784c-e3aa-4289-a651-b3381fadd3aa",
   "metadata": {
    "jp-MarkdownHeadingCollapsed": true,
    "tags": []
   },
   "source": [
    "# Understanding the impact of varying the loss optimizer (Adam)"
   ]
  },
  {
   "cell_type": "code",
   "execution_count": null,
   "id": "6cb15a9c-dd7b-4c94-b34d-77580cf0dba8",
   "metadata": {},
   "outputs": [],
   "source": [
    "from torch.optim import SGD, Adam\n",
    "\n",
    "def get_model():\n",
    "    model = nn.Sequential(nn.Linear(28*28, 1000),\n",
    "                          nn.ReLU(),\n",
    "                          nn.Linear(1000, 10).to(device)\n",
    "                         )\n",
    "    loss_fn = nn.CrossEntropyLoss()\n",
    "    optimizer = Adam(model.parameters(), lr = 1e-2)\n",
    "    return model, loss_fn, optimizer"
   ]
  },
  {
   "cell_type": "code",
   "execution_count": null,
   "id": "92b4778d-7b11-4011-8794-a4a1d4ef8545",
   "metadata": {},
   "outputs": [],
   "source": [
    "def getdata():\n",
    "    train = FashionMNIST(tr_images, tr_targets)\n",
    "    trn_dl = DataLoader(train, batch_size = 32, shuffle = True)\n",
    "    val = FashionMNIST(val_images, val_targets)\n",
    "    val_dl = DataLoader(val, batch_size = len(val_images), shuffle = False)\n",
    "    return trn_dl, val_dl"
   ]
  },
  {
   "cell_type": "code",
   "execution_count": null,
   "id": "d3042da5-83f1-4981-8c9c-753a9c5deb4d",
   "metadata": {},
   "outputs": [],
   "source": [
    "trn_dl, val_dl = getdata()\n",
    "model, loss_fn, optimizer = get_model()"
   ]
  },
  {
   "cell_type": "code",
   "execution_count": null,
   "id": "0fb1776f-ac50-4946-be84-57eb115753d7",
   "metadata": {},
   "outputs": [],
   "source": [
    "train_losses, val_losses = [], []\n",
    "train_accuracies, val_accuracies = [], []\n",
    "\n",
    "for epoch in range(10):\n",
    "    print(f'epoch# {epoch+1}')\n",
    "    train_epoch_losses, train_epoch_accuracies = [], []\n",
    "    \n",
    "    for ix, batch in enumerate(iter(trn_dl)):\n",
    "        x, y = batch\n",
    "        batch_loss = train_batch(x, y, model, loss_fn, optimizer)\n",
    "        train_epoch_losses.append(batch_loss)\n",
    "    train_epoch_loss = np.array(train_epoch_losses).mean()\n",
    "    \n",
    "    for ix, batch in enumerate(iter(trn_dl)):\n",
    "        x, y = batch\n",
    "        is_correct = accuracy(x, y, model)\n",
    "        train_epoch_accuracies.extend(is_correct)\n",
    "    train_epoch_accuracy = np.mean(train_epoch_accuracies)\n",
    "    \n",
    "    for ix, batch in enumerate(iter(val_dl)):\n",
    "        x, y = batch\n",
    "        val_is_correct = accuracy(x, y, model)\n",
    "        validation_loss = val_loss(x, y, model, loss_fn)\n",
    "    val_epoch_accuracy = np.mean(val_is_correct)\n",
    "    \n",
    "    train_losses.append(train_epoch_loss)\n",
    "    train_accuracies.append(train_epoch_accuracy)\n",
    "    val_losses.append(validation_loss)\n",
    "    val_accuracies.append(val_epoch_accuracy)"
   ]
  },
  {
   "cell_type": "code",
   "execution_count": null,
   "id": "ee9c625b-b550-44e8-b8b8-230666b84501",
   "metadata": {},
   "outputs": [],
   "source": [
    "import matplotlib.pyplot as plt\n",
    "\n",
    "epochs = np.arange(10) + 1\n",
    "#plt.subplot(2,1,1)\n",
    "plt.figure(figsize=(12,5))\n",
    "plt.plot(epochs, train_losses, 'bo', label = 'Training Loss')\n",
    "plt.plot(epochs, val_losses, 'r', label = 'Validation Loss')\n",
    "plt.legend()\n",
    "plt.xlabel('Epochs')\n",
    "plt.ylabel('Loss')\n",
    "plt.title('Train/Val Losses when batch size=32 & Opt is Adam')\n",
    "plt.grid('off')\n",
    "\n",
    "#plt.subplot(2,1,2)\n",
    "plt.figure(figsize=(12,5))\n",
    "plt.plot(epochs, train_accuracies, 'bo', label = 'Training Accuracy')\n",
    "plt.plot(epochs, val_accuracies, 'r', label = 'Validation Acurracy')\n",
    "plt.legend()\n",
    "plt.xlabel('Epochs')\n",
    "plt.ylabel('Accuracy')\n",
    "plt.title('Train/Val Accuracies when batch size=32 & Opt is Adam')\n",
    "plt.grid('off')\n",
    "plt.show()"
   ]
  },
  {
   "cell_type": "markdown",
   "id": "e17256eb-ba53-46b9-bd6b-18987b534d11",
   "metadata": {
    "jp-MarkdownHeadingCollapsed": true,
    "tags": []
   },
   "source": [
    "# Impact of learning rate on scaled dataset (lr=0.1, Opt=Adam, Batch_Size=32)"
   ]
  },
  {
   "cell_type": "code",
   "execution_count": null,
   "id": "99a31f5f-96f7-422e-a80c-ad3784b75dce",
   "metadata": {},
   "outputs": [],
   "source": [
    "from torch.optim import SGD, Adam\n",
    "\n",
    "def get_model():\n",
    "    model = nn.Sequential(nn.Linear(28*28, 1000),\n",
    "                          nn.ReLU(),\n",
    "                          nn.Linear(1000, 10).to(device)\n",
    "                         )\n",
    "    loss_fn = nn.CrossEntropyLoss()\n",
    "    optimizer = Adam(model.parameters(), lr = 1e-1)\n",
    "    return model, loss_fn, optimizer"
   ]
  },
  {
   "cell_type": "code",
   "execution_count": null,
   "id": "c4658519-7093-4e6e-a39e-49dc56ac6d79",
   "metadata": {},
   "outputs": [],
   "source": [
    "def getdata():\n",
    "    train = FashionMNIST(tr_images, tr_targets)\n",
    "    trn_dl = DataLoader(train, batch_size = 32, shuffle = True)\n",
    "    val = FashionMNIST(val_images, val_targets)\n",
    "    val_dl = DataLoader(val, batch_size = len(val_images), shuffle = False)\n",
    "    return trn_dl, val_dl"
   ]
  },
  {
   "cell_type": "code",
   "execution_count": null,
   "id": "9be5283c-773d-420d-8bb6-ae94ab9e0695",
   "metadata": {},
   "outputs": [],
   "source": [
    "trn_dl, val_dl = getdata()\n",
    "model, loss_fn, optimizer = get_model()"
   ]
  },
  {
   "cell_type": "code",
   "execution_count": null,
   "id": "0106205f-a530-4a65-ad28-46243c60ee2c",
   "metadata": {},
   "outputs": [],
   "source": [
    "train_losses, val_losses = [], []\n",
    "train_accuracies, val_accuracies = [], []\n",
    "\n",
    "for epoch in range(10):\n",
    "    print(f'epoch# {epoch+1}')\n",
    "    train_epoch_losses, train_epoch_accuracies = [], []\n",
    "    \n",
    "    for ix, batch in enumerate(iter(trn_dl)):\n",
    "        x, y = batch\n",
    "        batch_loss = train_batch(x, y, model, loss_fn, optimizer)\n",
    "        train_epoch_losses.append(batch_loss)\n",
    "    train_epoch_loss = np.array(train_epoch_losses).mean()\n",
    "    \n",
    "    for ix, batch in enumerate(iter(trn_dl)):\n",
    "        x, y = batch\n",
    "        is_correct = accuracy(x, y, model)\n",
    "        train_epoch_accuracies.extend(is_correct)\n",
    "    train_epoch_accuracy = np.mean(train_epoch_accuracies)\n",
    "    \n",
    "    for ix, batch in enumerate(iter(val_dl)):\n",
    "        x, y = batch\n",
    "        val_is_correct = accuracy(x, y, model)\n",
    "        validation_loss = val_loss(x, y, model, loss_fn)\n",
    "    val_epoch_accuracy = np.mean(val_is_correct)\n",
    "    \n",
    "    train_losses.append(train_epoch_loss)\n",
    "    train_accuracies.append(train_epoch_accuracy)\n",
    "    val_losses.append(validation_loss)\n",
    "    val_accuracies.append(val_epoch_accuracy)"
   ]
  },
  {
   "cell_type": "code",
   "execution_count": null,
   "id": "0f9807ad-86c4-4355-9bfb-755c675ec834",
   "metadata": {},
   "outputs": [],
   "source": [
    "import matplotlib.pyplot as plt\n",
    "\n",
    "epochs = np.arange(10) + 1\n",
    "#plt.subplot(2,1,1)\n",
    "plt.figure(figsize=(12,5))\n",
    "plt.plot(epochs, train_losses, 'bo', label = 'Training Loss')\n",
    "plt.plot(epochs, val_losses, 'r', label = 'Validation Loss')\n",
    "plt.legend()\n",
    "plt.xlabel('Epochs')\n",
    "plt.ylabel('Loss')\n",
    "plt.title('Train/Val Losses when batch size=32 & Opt is Adam & lr=1e-1')\n",
    "plt.grid('off')\n",
    "\n",
    "#plt.subplot(2,1,2)\n",
    "plt.figure(figsize=(12,5))\n",
    "plt.plot(epochs, train_accuracies, 'bo', label = 'Training Accuracy')\n",
    "plt.plot(epochs, val_accuracies, 'r', label = 'Validation Acurracy')\n",
    "plt.legend()\n",
    "plt.xlabel('Epochs')\n",
    "plt.ylabel('Accuracy')\n",
    "plt.title('Train/Val Accuracies when batch size=32 & Opt is Adam & lr=1e-1')\n",
    "plt.grid('off')\n",
    "plt.show()"
   ]
  },
  {
   "cell_type": "markdown",
   "id": "a3fe41f4-2b3c-460a-85af-2d6a586040a3",
   "metadata": {
    "jp-MarkdownHeadingCollapsed": true,
    "tags": []
   },
   "source": [
    "# Impact of learning rate on scaled dataset (lr=0.001, Opt=Adam, Batch_Size=32)"
   ]
  },
  {
   "cell_type": "code",
   "execution_count": null,
   "id": "dfc65db0-407c-479d-bcfc-4281a14abdeb",
   "metadata": {},
   "outputs": [],
   "source": [
    "from torch.optim import SGD, Adam\n",
    "\n",
    "def get_model():\n",
    "    model = nn.Sequential(nn.Linear(28*28, 1000),\n",
    "                          nn.ReLU(),\n",
    "                          nn.Linear(1000, 10).to(device)\n",
    "                         )\n",
    "    loss_fn = nn.CrossEntropyLoss()\n",
    "    optimizer = Adam(model.parameters(), lr = 1e-3)\n",
    "    return model, loss_fn, optimizer"
   ]
  },
  {
   "cell_type": "code",
   "execution_count": null,
   "id": "45b43f2d-61d1-4865-9753-d6dfdce8eb7f",
   "metadata": {},
   "outputs": [],
   "source": [
    "def getdata():\n",
    "    train = FashionMNIST(tr_images, tr_targets)\n",
    "    trn_dl = DataLoader(train, batch_size = 32, shuffle = True)\n",
    "    val = FashionMNIST(val_images, val_targets)\n",
    "    val_dl = DataLoader(val, batch_size = len(val_images), shuffle = False)\n",
    "    return trn_dl, val_dl"
   ]
  },
  {
   "cell_type": "code",
   "execution_count": null,
   "id": "45b52009-fb02-4d14-9b93-78016779f426",
   "metadata": {},
   "outputs": [],
   "source": [
    "trn_dl, val_dl = getdata()\n",
    "model, loss_fn, optimizer = get_model()"
   ]
  },
  {
   "cell_type": "code",
   "execution_count": null,
   "id": "40effa5d-e6fe-408d-893c-e3495553380a",
   "metadata": {},
   "outputs": [],
   "source": [
    "train_losses, val_losses = [], []\n",
    "train_accuracies, val_accuracies = [], []\n",
    "\n",
    "for epoch in range(20):\n",
    "    print(f'epoch# {epoch+1}')\n",
    "    train_epoch_losses, train_epoch_accuracies = [], []\n",
    "    \n",
    "    for ix, batch in enumerate(iter(trn_dl)):\n",
    "        x, y = batch\n",
    "        batch_loss = train_batch(x, y, model, loss_fn, optimizer)\n",
    "        train_epoch_losses.append(batch_loss)\n",
    "    train_epoch_loss = np.array(train_epoch_losses).mean()\n",
    "    \n",
    "    for ix, batch in enumerate(iter(trn_dl)):\n",
    "        x, y = batch\n",
    "        is_correct = accuracy(x, y, model)\n",
    "        train_epoch_accuracies.extend(is_correct)\n",
    "    train_epoch_accuracy = np.mean(train_epoch_accuracies)\n",
    "    \n",
    "    for ix, batch in enumerate(iter(val_dl)):\n",
    "        x, y = batch\n",
    "        val_is_correct = accuracy(x, y, model)\n",
    "        validation_loss = val_loss(x, y, model, loss_fn)\n",
    "    val_epoch_accuracy = np.mean(val_is_correct)\n",
    "    \n",
    "    train_losses.append(train_epoch_loss)\n",
    "    train_accuracies.append(train_epoch_accuracy)\n",
    "    val_losses.append(validation_loss)\n",
    "    val_accuracies.append(val_epoch_accuracy)"
   ]
  },
  {
   "cell_type": "code",
   "execution_count": null,
   "id": "ac0f160e-0cc2-4825-85c7-fba7aab2d204",
   "metadata": {},
   "outputs": [],
   "source": [
    "import matplotlib.pyplot as plt\n",
    "\n",
    "epochs = np.arange(20) + 1\n",
    "#plt.subplot(2,1,1)\n",
    "plt.figure(figsize=(10,5))\n",
    "plt.plot(epochs, train_losses, 'bo', label = 'Training Loss')\n",
    "plt.plot(epochs, val_losses, 'r', label = 'Validation Loss')\n",
    "plt.legend()\n",
    "plt.xlabel('Epochs')\n",
    "plt.ylabel('Loss')\n",
    "plt.title('Train/Val Losses when batch size=32 & Opt is Adam & lr=1e-3')\n",
    "plt.grid('off')\n",
    "\n",
    "#plt.subplot(2,1,2)\n",
    "plt.figure(figsize=(10,5))\n",
    "plt.plot(epochs, train_accuracies, 'bo', label = 'Training Accuracy')\n",
    "plt.plot(epochs, val_accuracies, 'r', label = 'Validation Acurracy')\n",
    "plt.legend()\n",
    "plt.xlabel('Epochs')\n",
    "plt.ylabel('Accuracy')\n",
    "plt.title('Train/Val Accuracies when batch size=32 & Opt is Adam & lr=1e-3')\n",
    "plt.grid('off')\n",
    "plt.show()"
   ]
  },
  {
   "cell_type": "markdown",
   "id": "b2266089-75af-461a-a758-df2fce0490ca",
   "metadata": {
    "jp-MarkdownHeadingCollapsed": true,
    "tags": []
   },
   "source": [
    "# Impact of learning rate on scaled dataset (lr=0.00001, Opt=Adam, Batch_Size=32)"
   ]
  },
  {
   "cell_type": "code",
   "execution_count": null,
   "id": "a9305f71-c649-4271-9fdc-eb41d04b70be",
   "metadata": {},
   "outputs": [],
   "source": [
    "from torch.optim import SGD, Adam\n",
    "\n",
    "def get_model():\n",
    "    model = nn.Sequential(nn.Linear(28*28, 1000),\n",
    "                          nn.ReLU(),\n",
    "                          nn.Linear(1000, 10).to(device)\n",
    "                         )\n",
    "    loss_fn = nn.CrossEntropyLoss()\n",
    "    optimizer = Adam(model.parameters(), lr = 1e-5)\n",
    "    return model, loss_fn, optimizer"
   ]
  },
  {
   "cell_type": "code",
   "execution_count": null,
   "id": "ebe12ac8-8200-4dd2-9da5-4c1cd9a960ec",
   "metadata": {},
   "outputs": [],
   "source": [
    "def getdata():\n",
    "    train = FashionMNIST(tr_images, tr_targets)\n",
    "    trn_dl = DataLoader(train, batch_size = 32, shuffle = True)\n",
    "    val = FashionMNIST(val_images, val_targets)\n",
    "    val_dl = DataLoader(val, batch_size = len(val_images), shuffle = False)\n",
    "    return trn_dl, val_dl"
   ]
  },
  {
   "cell_type": "code",
   "execution_count": null,
   "id": "7f7863a9-1b53-4724-a260-c376a6108112",
   "metadata": {},
   "outputs": [],
   "source": [
    "trn_dl, val_dl = getdata()\n",
    "model, loss_fn, optimizer = get_model()"
   ]
  },
  {
   "cell_type": "code",
   "execution_count": null,
   "id": "d4672cb3-53a0-4169-ab79-b9d5bd744cfb",
   "metadata": {},
   "outputs": [],
   "source": [
    "train_losses, val_losses = [], []\n",
    "train_accuracies, val_accuracies = [], []\n",
    "\n",
    "for epoch in range(50):\n",
    "    print(f'epoch# {epoch+1}')\n",
    "    train_epoch_losses, train_epoch_accuracies = [], []\n",
    "    \n",
    "    for ix, batch in enumerate(iter(trn_dl)):\n",
    "        x, y = batch\n",
    "        batch_loss = train_batch(x, y, model, loss_fn, optimizer)\n",
    "        train_epoch_losses.append(batch_loss)\n",
    "    train_epoch_loss = np.array(train_epoch_losses).mean()\n",
    "    \n",
    "    for ix, batch in enumerate(iter(trn_dl)):\n",
    "        x, y = batch\n",
    "        is_correct = accuracy(x, y, model)\n",
    "        train_epoch_accuracies.extend(is_correct)\n",
    "    train_epoch_accuracy = np.mean(train_epoch_accuracies)\n",
    "    \n",
    "    for ix, batch in enumerate(iter(val_dl)):\n",
    "        x, y = batch\n",
    "        val_is_correct = accuracy(x, y, model)\n",
    "        validation_loss = val_loss(x, y, model, loss_fn)\n",
    "    val_epoch_accuracy = np.mean(val_is_correct)\n",
    "    \n",
    "    train_losses.append(train_epoch_loss)\n",
    "    train_accuracies.append(train_epoch_accuracy)\n",
    "    val_losses.append(validation_loss)\n",
    "    val_accuracies.append(val_epoch_accuracy)"
   ]
  },
  {
   "cell_type": "code",
   "execution_count": null,
   "id": "f8d9867b-7fa1-4872-8424-34bc9594e4b8",
   "metadata": {},
   "outputs": [],
   "source": [
    "import matplotlib.pyplot as plt\n",
    "\n",
    "epochs = np.arange(50) + 1\n",
    "#plt.subplot(2,1,1)\n",
    "plt.figure(figsize=(10,5))\n",
    "plt.plot(epochs, train_losses, 'bo', label = 'Training Loss')\n",
    "plt.plot(epochs, val_losses, 'r', label = 'Validation Loss')\n",
    "plt.legend()\n",
    "plt.xlabel('Epochs')\n",
    "plt.ylabel('Loss')\n",
    "plt.title('Train/Val Losses when batch size=32 & Opt is Adam & lr=1e-5')\n",
    "plt.grid('off')\n",
    "\n",
    "#plt.subplot(2,1,2)\n",
    "plt.figure(figsize=(10,5))\n",
    "plt.plot(epochs, train_accuracies, 'bo', label = 'Training Accuracy')\n",
    "plt.plot(epochs, val_accuracies, 'r', label = 'Validation Acurracy')\n",
    "plt.legend()\n",
    "plt.xlabel('Epochs')\n",
    "plt.ylabel('Accuracy')\n",
    "plt.title('Train/Val Accuracies when batch size=32 & Opt is Adam & lr=1e-5')\n",
    "plt.grid('off')\n",
    "plt.show()"
   ]
  },
  {
   "cell_type": "markdown",
   "id": "112c1d38-f45c-4921-8f46-9a7f359bdfe5",
   "metadata": {
    "jp-MarkdownHeadingCollapsed": true,
    "tags": []
   },
   "source": [
    "# Parameter distribution across layers for different learning rates"
   ]
  },
  {
   "cell_type": "code",
   "execution_count": null,
   "id": "34812a11-ae95-4fa2-b1ef-34150a6ae7b2",
   "metadata": {},
   "outputs": [],
   "source": [
    "for ix, par in enumerate(model.parameters()):\n",
    "    if(ix==0):\n",
    "        plt.hist(par.cpu().detach().numpy().flatten())\n",
    "        plt.title('Distribution of weights connecting INPUT to HIDDEN')\n",
    "        plt.show()\n",
    "    elif(ix==1):\n",
    "        plt.hist(par.cpu().detach().numpy().flatten())\n",
    "        plt.title('Distribution of biases connecting INPUT to HIDDEN')\n",
    "        plt.show()\n",
    "    elif(ix==2):\n",
    "        plt.hist(par.cpu().detach().numpy().flatten())\n",
    "        plt.title('Distribution of weights connecting HIDDEN to OUTPUT')\n",
    "        plt.show()\n",
    "    elif(ix==3):\n",
    "        plt.hist(par.cpu().detach().numpy().flatten())\n",
    "        plt.title('Distribution of biases connecting HIDDEN to OUTPUT')\n",
    "        plt.show()"
   ]
  },
  {
   "cell_type": "markdown",
   "id": "fa96febd-3018-4878-90d1-2269d0c173e2",
   "metadata": {
    "jp-MarkdownHeadingCollapsed": true,
    "tags": []
   },
   "source": [
    "# Impact of learning rate on non-scaled dataset (lr=0.00001, Opt=Adam, Batch_Size=32)"
   ]
  },
  {
   "cell_type": "code",
   "execution_count": null,
   "id": "abc6b0dc-22ce-4a3a-a0a4-d44be5e1b2bb",
   "metadata": {},
   "outputs": [],
   "source": [
    "from torch.optim import SGD, Adam\n",
    "\n",
    "def get_model():\n",
    "    model = nn.Sequential(nn.Linear(28*28, 1000),\n",
    "                          nn.ReLU(),\n",
    "                          nn.Linear(1000, 10).to(device)\n",
    "                         )\n",
    "    loss_fn = nn.CrossEntropyLoss()\n",
    "    optimizer = Adam(model.parameters(), lr = 1e-5)\n",
    "    return model, loss_fn, optimizer"
   ]
  },
  {
   "cell_type": "code",
   "execution_count": null,
   "id": "779464ef-62df-4423-849a-3826af5804db",
   "metadata": {},
   "outputs": [],
   "source": [
    "class FMNISTDataset(Dataset):\n",
    "    def __init__(self, x, y):\n",
    "        x = x.float()\n",
    "        x = x.view(-1, 28*28)\n",
    "        self.x = x\n",
    "        self.y = y\n",
    "    def __getitem__(self, ix):\n",
    "        x = self.x[ix]\n",
    "        y = self.y[ix]\n",
    "        return x.to(device), y.to(device)\n",
    "    def __len__(self):\n",
    "        return len(self.x)"
   ]
  },
  {
   "cell_type": "code",
   "execution_count": null,
   "id": "499f72e9-01df-4e15-8bec-65b72832e2d0",
   "metadata": {},
   "outputs": [],
   "source": [
    "def getdata():\n",
    "    train = FashionMNIST(tr_images, tr_targets)\n",
    "    trn_dl = DataLoader(train, batch_size = 32, shuffle = True)\n",
    "    val = FashionMNIST(val_images, val_targets)\n",
    "    val_dl = DataLoader(val, batch_size = len(val_images), shuffle = False)\n",
    "    return trn_dl, val_dl"
   ]
  },
  {
   "cell_type": "code",
   "execution_count": null,
   "id": "0d4d7600-2b4d-46ee-a8af-ad7994700c5c",
   "metadata": {},
   "outputs": [],
   "source": [
    "trn_dl, val_dl = getdata()\n",
    "model, loss_fn, optimizer = get_model()"
   ]
  },
  {
   "cell_type": "code",
   "execution_count": null,
   "id": "3b737d6a-0ed6-4ef1-a2e0-f169c85aa5a3",
   "metadata": {},
   "outputs": [],
   "source": [
    "train_losses, val_losses = [], []\n",
    "train_accuracies, val_accuracies = [], []\n",
    "\n",
    "for epoch in range(50):\n",
    "    print(f'epoch# {epoch+1}')\n",
    "    train_epoch_losses, train_epoch_accuracies = [], []\n",
    "    \n",
    "    for ix, batch in enumerate(iter(trn_dl)):\n",
    "        x, y = batch\n",
    "        batch_loss = train_batch(x, y, model, loss_fn, optimizer)\n",
    "        train_epoch_losses.append(batch_loss)\n",
    "    train_epoch_loss = np.array(train_epoch_losses).mean()\n",
    "    \n",
    "    for ix, batch in enumerate(iter(trn_dl)):\n",
    "        x, y = batch\n",
    "        is_correct = accuracy(x, y, model)\n",
    "        train_epoch_accuracies.extend(is_correct)\n",
    "    train_epoch_accuracy = np.mean(train_epoch_accuracies)\n",
    "    \n",
    "    for ix, batch in enumerate(iter(val_dl)):\n",
    "        x, y = batch\n",
    "        val_is_correct = accuracy(x, y, model)\n",
    "        validation_loss = val_loss(x, y, model, loss_fn)\n",
    "    val_epoch_accuracy = np.mean(val_is_correct)\n",
    "    \n",
    "    train_losses.append(train_epoch_loss)\n",
    "    train_accuracies.append(train_epoch_accuracy)\n",
    "    val_losses.append(validation_loss)\n",
    "    val_accuracies.append(val_epoch_accuracy)"
   ]
  },
  {
   "cell_type": "code",
   "execution_count": null,
   "id": "1135b72e-d5d2-46b9-99c3-537a23270208",
   "metadata": {},
   "outputs": [],
   "source": [
    "import matplotlib.pyplot as plt\n",
    "\n",
    "epochs = np.arange(50) + 1\n",
    "#plt.subplot(2,1,1)\n",
    "plt.figure(figsize=(10,5))\n",
    "plt.plot(epochs, train_losses, 'bo', label = 'Training Loss')\n",
    "plt.plot(epochs, val_losses, 'r', label = 'Validation Loss')\n",
    "plt.legend()\n",
    "plt.xlabel('Epochs')\n",
    "plt.ylabel('Loss')\n",
    "plt.title('Train/Val Losses when batch size=32 & Opt is Adam & lr=1e-5')\n",
    "plt.grid('off')\n",
    "\n",
    "#plt.subplot(2,1,2)\n",
    "plt.figure(figsize=(10,5))\n",
    "plt.plot(epochs, train_accuracies, 'bo', label = 'Training Accuracy')\n",
    "plt.plot(epochs, val_accuracies, 'r', label = 'Validation Acurracy')\n",
    "plt.legend()\n",
    "plt.xlabel('Epochs')\n",
    "plt.ylabel('Accuracy')\n",
    "plt.title('Train/Val Accuracies when batch size=32 & Opt is Adam & lr=1e-5')\n",
    "plt.grid('off')\n",
    "plt.show()"
   ]
  },
  {
   "cell_type": "code",
   "execution_count": null,
   "id": "59ec8295-f438-4ad5-987f-a702c8a10fe5",
   "metadata": {},
   "outputs": [],
   "source": [
    "for ix, par in enumerate(model.parameters()):\n",
    "    if(ix==0):\n",
    "        plt.hist(par.cpu().detach().numpy().flatten())\n",
    "        plt.title('Distribution of weights connecting INPUT to HIDDEN')\n",
    "        plt.show()\n",
    "    elif(ix==1):\n",
    "        plt.hist(par.cpu().detach().numpy().flatten())\n",
    "        plt.title('Distribution of biases connecting INPUT to HIDDEN')\n",
    "        plt.show()\n",
    "    elif(ix==2):\n",
    "        plt.hist(par.cpu().detach().numpy().flatten())\n",
    "        plt.title('Distribution of weights connecting HIDDEN to OUTPUT')\n",
    "        plt.show()\n",
    "    elif(ix==3):\n",
    "        plt.hist(par.cpu().detach().numpy().flatten())\n",
    "        plt.title('Distribution of biases connecting HIDDEN to OUTPUT')\n",
    "        plt.show()"
   ]
  },
  {
   "cell_type": "markdown",
   "id": "6b6f0562-36e3-44ca-ab3f-bbe00568a788",
   "metadata": {
    "jp-MarkdownHeadingCollapsed": true,
    "tags": []
   },
   "source": [
    "# Understanding the impact of learning rate annealing"
   ]
  },
  {
   "cell_type": "code",
   "execution_count": null,
   "id": "f4b86f94-f9ad-48d2-9742-79fdbd309db4",
   "metadata": {},
   "outputs": [],
   "source": [
    "from torch import optim\n",
    "\n",
    "scheduler = optim.lr_scheduler.ReduceLROnPlateau(optimizer,\n",
    "                                                 factor = 0.5,\n",
    "                                                 patience = 0,\n",
    "                                                 threshold = 0.001,\n",
    "                                                 verbose = True,\n",
    "                                                 min_lr = 1e-5,\n",
    "                                                 threshold_mode = 'abs')"
   ]
  },
  {
   "cell_type": "code",
   "execution_count": null,
   "id": "7b683284-16d7-484b-8be2-713134c5bc93",
   "metadata": {},
   "outputs": [],
   "source": [
    "train_losses, val_losses = [], []\n",
    "train_accuracies, val_accuracies = [], []\n",
    "\n",
    "for epoch in range(10):\n",
    "    print(f'epoch# {epoch+1}')\n",
    "    train_epoch_losses, train_epoch_accuracies = [], []\n",
    "    \n",
    "    for ix, batch in enumerate(iter(trn_dl)):\n",
    "        x, y = batch\n",
    "        batch_loss = train_batch(x, y, model, loss_fn, optimizer)\n",
    "        train_epoch_losses.append(batch_loss)\n",
    "    train_epoch_loss = np.array(train_epoch_losses).mean()\n",
    "    \n",
    "    for ix, batch in enumerate(iter(trn_dl)):\n",
    "        x, y = batch\n",
    "        is_correct = accuracy(x, y, model)\n",
    "        train_epoch_accuracies.extend(is_correct)\n",
    "    train_epoch_accuracy = np.mean(train_epoch_accuracies)\n",
    "    \n",
    "    for ix, batch in enumerate(iter(val_dl)):\n",
    "        x, y = batch\n",
    "        val_is_correct = accuracy(x, y, model)\n",
    "        validation_loss = val_loss(x, y, model, loss_fn)\n",
    "        scheduler.step(validation_loss)\n",
    "    val_epoch_accuracy = np.mean(val_is_correct)\n",
    "    \n",
    "    train_losses.append(train_epoch_loss)\n",
    "    train_accuracies.append(train_epoch_accuracy)\n",
    "    val_losses.append(validation_loss)\n",
    "    val_accuracies.append(val_epoch_accuracy)"
   ]
  },
  {
   "cell_type": "code",
   "execution_count": null,
   "id": "26eb613d-ce6f-476c-ad7c-85cc5b601d4d",
   "metadata": {},
   "outputs": [],
   "source": [
    "import matplotlib.pyplot as plt\n",
    "\n",
    "epochs = np.arange(10) + 1\n",
    "#plt.subplot(2,1,1)\n",
    "plt.figure(figsize=(10,5))\n",
    "plt.plot(epochs, train_losses, 'bo', label = 'Training Loss')\n",
    "plt.plot(epochs, val_losses, 'r', label = 'Validation Loss')\n",
    "plt.legend()\n",
    "plt.xlabel('Epochs')\n",
    "plt.ylabel('Loss')\n",
    "plt.title('Train/Val Losses when batch size=32 & Opt is Adam & lr=1e-5')\n",
    "plt.grid('off')\n",
    "\n",
    "#plt.subplot(2,1,2)\n",
    "plt.figure(figsize=(10,5))\n",
    "plt.plot(epochs, train_accuracies, 'bo', label = 'Training Accuracy')\n",
    "plt.plot(epochs, val_accuracies, 'r', label = 'Validation Acurracy')\n",
    "plt.legend()\n",
    "plt.xlabel('Epochs')\n",
    "plt.ylabel('Accuracy')\n",
    "plt.title('Train/Val Accuracies when batch size=32 & Opt is Adam & lr=1e-5')\n",
    "plt.grid('off')\n",
    "plt.show()"
   ]
  },
  {
   "cell_type": "markdown",
   "id": "1485cdd0-abd1-40aa-af15-9aab8092253c",
   "metadata": {
    "jp-MarkdownHeadingCollapsed": true,
    "tags": []
   },
   "source": [
    "# Building a deeper neural network"
   ]
  },
  {
   "cell_type": "code",
   "execution_count": null,
   "id": "faa3a8b5-664f-4c2b-ab98-7a9365d134ca",
   "metadata": {},
   "outputs": [],
   "source": [
    "def get_model():\n",
    "    model = nn.Sequential(nn.Linear(28*28, 1000),\n",
    "                          nn.ReLU(),\n",
    "                          nn.Linear(1000, 1000),\n",
    "                          nn.ReLU(),\n",
    "                          nn.Linear(1000, 10)\n",
    "                         ).to(device)\n",
    "    loss_fn = nn.CrossEntropyLoss()\n",
    "    optimizer = Adam(model.parameters(), lr = 1e-3)\n",
    "    return model, loss_fn, optimizer"
   ]
  },
  {
   "cell_type": "code",
   "execution_count": null,
   "id": "29df18ab-2e4c-403e-a1e3-115e6790a3fc",
   "metadata": {},
   "outputs": [],
   "source": [
    "class FMNISTDataset(Dataset):\n",
    "    def __init__(self, x, y):\n",
    "        x = x.float()\n",
    "        x = x.view(-1, 28*28)\n",
    "        self.x = x\n",
    "        self.y = y\n",
    "    def __getitem__(self, ix):\n",
    "        x = self.x[ix]\n",
    "        y = self.y[ix]\n",
    "        return x.to(device), y.to(device)\n",
    "    def __len__(self):\n",
    "        return len(self.x)"
   ]
  },
  {
   "cell_type": "code",
   "execution_count": null,
   "id": "2dd8041f-3e73-4eb1-9418-67b0bacf5c07",
   "metadata": {},
   "outputs": [],
   "source": [
    "def getdata():\n",
    "    train = FashionMNIST(tr_images, tr_targets)\n",
    "    trn_dl = DataLoader(train, batch_size = 32, shuffle = True)\n",
    "    val = FashionMNIST(val_images, val_targets)\n",
    "    val_dl = DataLoader(val, batch_size = len(val_images), shuffle = False)\n",
    "    return trn_dl, val_dl"
   ]
  },
  {
   "cell_type": "code",
   "execution_count": null,
   "id": "0bb22b3e-44cc-4615-be76-0ecd314ac0e7",
   "metadata": {},
   "outputs": [],
   "source": [
    "trn_dl, val_dl = getdata()\n",
    "model, loss_fn, optimizer = get_model()"
   ]
  },
  {
   "cell_type": "code",
   "execution_count": null,
   "id": "2be34816-7550-476e-aee8-7fcacd4b972e",
   "metadata": {},
   "outputs": [],
   "source": [
    "train_losses, val_losses = [], []\n",
    "train_accuracies, val_accuracies = [], []\n",
    "\n",
    "for epoch in range(10):\n",
    "    print(f'epoch# {epoch+1}')\n",
    "    train_epoch_losses, train_epoch_accuracies = [], []\n",
    "    \n",
    "    for ix, batch in enumerate(iter(trn_dl)):\n",
    "        x, y = batch\n",
    "        batch_loss = train_batch(x, y, model, loss_fn, optimizer)\n",
    "        train_epoch_losses.append(batch_loss)\n",
    "    train_epoch_loss = np.array(train_epoch_losses).mean()\n",
    "    \n",
    "    for ix, batch in enumerate(iter(trn_dl)):\n",
    "        x, y = batch\n",
    "        is_correct = accuracy(x, y, model)\n",
    "        train_epoch_accuracies.extend(is_correct)\n",
    "    train_epoch_accuracy = np.mean(train_epoch_accuracies)\n",
    "    \n",
    "    for ix, batch in enumerate(iter(val_dl)):\n",
    "        x, y = batch\n",
    "        val_is_correct = accuracy(x, y, model)\n",
    "        validation_loss = val_loss(x, y, model, loss_fn)\n",
    "    val_epoch_accuracy = np.mean(val_is_correct)\n",
    "    \n",
    "    train_losses.append(train_epoch_loss)\n",
    "    train_accuracies.append(train_epoch_accuracy)\n",
    "    val_losses.append(validation_loss)\n",
    "    val_accuracies.append(val_epoch_accuracy)"
   ]
  },
  {
   "cell_type": "code",
   "execution_count": null,
   "id": "457dd750-d28f-4d69-98da-fa58d813d9d0",
   "metadata": {},
   "outputs": [],
   "source": [
    "import matplotlib.pyplot as plt\n",
    "\n",
    "epochs = np.arange(10) + 1\n",
    "#plt.subplot(2,1,1)\n",
    "plt.figure(figsize=(10,5))\n",
    "plt.plot(epochs, train_losses, 'bo', label = 'Training Loss')\n",
    "plt.plot(epochs, val_losses, 'r', label = 'Validation Loss')\n",
    "plt.legend()\n",
    "plt.xlabel('Epochs')\n",
    "plt.ylabel('Loss')\n",
    "plt.title('Train/Val Losses when batch size=32 & Opt is Adam & lr=1e-5')\n",
    "plt.grid('off')\n",
    "\n",
    "#plt.subplot(2,1,2)\n",
    "plt.figure(figsize=(10,5))\n",
    "plt.plot(epochs, train_accuracies, 'bo', label = 'Training Accuracy')\n",
    "plt.plot(epochs, val_accuracies, 'r', label = 'Validation Acurracy')\n",
    "plt.legend()\n",
    "plt.xlabel('Epochs')\n",
    "plt.ylabel('Accuracy')\n",
    "plt.title('Train/Val Accuracies when batch size=32 & Opt is Adam & lr=1e-5')\n",
    "plt.grid('off')\n",
    "plt.show()"
   ]
  },
  {
   "cell_type": "markdown",
   "id": "b9f85e37-bbcc-4ad6-be40-a7b5731b64c9",
   "metadata": {
    "tags": []
   },
   "source": [
    "# Batch Normalization"
   ]
  },
  {
   "cell_type": "code",
   "execution_count": null,
   "id": "e7cafa26-926a-40d4-9d7e-3e30b24455d7",
   "metadata": {},
   "outputs": [],
   "source": [
    "from torch.utils.data import Dataset, DataLoader\n",
    "import torch\n",
    "import torch.nn as nn\n",
    "import numpy as np\n",
    "import matplotlib.pyplot as plt\n",
    "from torchvision import datasets\n",
    "\n",
    "device = 'cuda' if torch.cuda.is_available() else 'cpu'"
   ]
  },
  {
   "cell_type": "code",
   "execution_count": null,
   "id": "aa57633b-81f3-4946-a5a7-feb6077a23f4",
   "metadata": {},
   "outputs": [],
   "source": [
    "from torchvision import datasets\n",
    "\n",
    "data_folder = './data/FMNIST'\n",
    "fmnist = datasets.FashionMNIST(data_folder,\n",
    "                               download = True,\n",
    "                               train = True)\n",
    "tr_images = fmnist.data\n",
    "tr_targets = fmnist.targets"
   ]
  },
  {
   "cell_type": "code",
   "execution_count": null,
   "id": "2a975250-982b-4d78-932d-110fbb70d90b",
   "metadata": {},
   "outputs": [],
   "source": [
    "val_fmnist = datasets.FashionMNIST(data_folder,\n",
    "                                   download = True,\n",
    "                                   train = False)\n",
    "val_images = val_fmnist.data\n",
    "val_targets = val_fmnist.targets"
   ]
  },
  {
   "cell_type": "code",
   "execution_count": null,
   "id": "0c552206-59bd-4dc1-ac2b-5b6340f2bd30",
   "metadata": {},
   "outputs": [],
   "source": [
    "class FashionMNIST(Dataset):\n",
    "    def __init__(self, x, y):\n",
    "        x = x.float() / 255.0\n",
    "        x = x.view(-1, 28*28)\n",
    "        self.x, self.y = x, y\n",
    "    def __getitem__(self, ix):\n",
    "        x, y = self.x[ix], self.y[ix]\n",
    "        return x.to(device), y.to(device)\n",
    "    def __len__(self):\n",
    "        return len(self.x)"
   ]
  },
  {
   "cell_type": "code",
   "execution_count": null,
   "id": "f177fe8c-4a1d-43d0-ac02-f2ff3bd58c81",
   "metadata": {},
   "outputs": [],
   "source": [
    "def get_model():\n",
    "    class neuralnet(nn.Module):\n",
    "        def __init__(self):\n",
    "            super().__init__()\n",
    "            self.input_to_hidden_layer = nn.Linear(28*28, 1000)\n",
    "            self.batch_norm = nn.BatchNorm1d(1000)\n",
    "            self.hidden_layer_activation = nn.ReLU()\n",
    "            self.hidden_to_output_layer = nn.Linear(1000, 10)\n",
    "        def forward(self, x):\n",
    "            x = self.input_to_hidden_layer(x)\n",
    "            x0 = self.batch_norm(x)\n",
    "            x1 = self.hidden_layer_activation(x0)\n",
    "            x2 = self.hidden_to_output_layer(x1)\n",
    "            return x2, x1\n",
    "    model = neuralnet().to(device)\n",
    "    loss_fn = nn.CrossEntropyLoss()\n",
    "    optimizer = Adam(model.parameters(), lr = 1e-3)\n",
    "    return model, loss_fn, optimizer"
   ]
  },
  {
   "cell_type": "code",
   "execution_count": null,
   "id": "fef8c7b9-b725-4d46-a2b4-1464c208ca63",
   "metadata": {},
   "outputs": [],
   "source": [
    "def train_batch(x, y, model, loss_fn, optimizer):\n",
    "    model.train()\n",
    "    prediction, _ = model(x)\n",
    "    batch_loss = loss_fn(prediction, y)\n",
    "    batch_loss.backward()\n",
    "    optimizer.step()\n",
    "    optimizer.zero_grad()\n",
    "    return batch_loss.item()"
   ]
  },
  {
   "cell_type": "code",
   "execution_count": null,
   "id": "2e6e1f63-a25b-420a-9e35-1bde74f0bd6f",
   "metadata": {},
   "outputs": [],
   "source": [
    "def accuracy(x, y, model):\n",
    "    model.eval()\n",
    "    with torch.no_grad():\n",
    "        prediction, _ = model(x)\n",
    "    max_values, argmaxes = prediction.max(-1)\n",
    "    is_correct = argmaxes == y\n",
    "    return is_correct.cpu().numpy().tolist()"
   ]
  },
  {
   "cell_type": "code",
   "execution_count": null,
   "id": "f2973103-4794-4ce7-a705-95e5b697cbbd",
   "metadata": {},
   "outputs": [],
   "source": [
    "def get_data():\n",
    "    train = FashionMNIST(tr_images, tr_targets)\n",
    "    trn_dl = DataLoader(train, batch_size = 32, shuffle = True)\n",
    "    val = FashionMNIST(val_images, val_targets)\n",
    "    val_dl = DataLoader(val, batch_size = len(val_images), shuffle = False)\n",
    "    return trn_dl, val_dl"
   ]
  },
  {
   "cell_type": "code",
   "execution_count": null,
   "id": "1dc90dd8-45dc-4234-8837-623d2ee967fc",
   "metadata": {},
   "outputs": [],
   "source": [
    "@torch.no_grad()\n",
    "def val_loss(x, y, model, loss_fn):\n",
    "    model.eval()\n",
    "    prediction, _ = model(x)\n",
    "    val_loss = loss_fn(prediction, y)\n",
    "    return val_loss.item()"
   ]
  },
  {
   "cell_type": "code",
   "execution_count": null,
   "id": "157dca00-3fe6-4ce8-a3b5-5ed53e5e7965",
   "metadata": {},
   "outputs": [],
   "source": [
    "trn_dl, val_dl = get_data()\n",
    "model, loss_fn, optimizer = get_model()"
   ]
  },
  {
   "cell_type": "code",
   "execution_count": null,
   "id": "b279758a-c701-423b-86db-c82bf4bd44e0",
   "metadata": {},
   "outputs": [],
   "source": [
    "train_losses, val_losses = [], []\n",
    "train_accuracies, val_accuracies = [], []"
   ]
  },
  {
   "cell_type": "code",
   "execution_count": null,
   "id": "af031539-1bf9-442d-889a-6ae59569958b",
   "metadata": {},
   "outputs": [],
   "source": [
    "for epoch in range(50):\n",
    "    print(f'epoch# {epoch+1}')\n",
    "    train_epoch_losses, train_epoch_accuracies = [], []\n",
    "    \n",
    "    for ix, batch in enumerate(iter(trn_dl)):\n",
    "        x, y = batch\n",
    "        batch_loss = train_batch(x, y, model, loss_fn, optimizer)\n",
    "        train_epoch_losses.append(batch_loss)\n",
    "    train_epoch_loss = np.array(train_epoch_losses).mean()\n",
    "    \n",
    "    for ix, batch in enumerate(iter(trn_dl)):\n",
    "        x, y = batch\n",
    "        is_correct = accuracy(x, y, model)\n",
    "        train_epoch_accuracies.extend(is_correct)\n",
    "    train_epoch_accuracy = np.mean(train_epoch_accuracies)\n",
    "    \n",
    "    for ix, batch in enumerate(iter(val_dl)):\n",
    "        x, y = batch\n",
    "        val_is_correct = accuracy(x, y, model)\n",
    "        validation_loss = val_loss(x, y, model, loss_fn)\n",
    "    val_epoch_accuracy = np.mean(val_is_correct)\n",
    "    \n",
    "    train_losses.append(train_epoch_loss)\n",
    "    train_accuracies.append(train_epoch_accuracy)\n",
    "    val_losses.append(validation_loss)\n",
    "    val_accuracies.append(val_epoch_accuracy)"
   ]
  },
  {
   "cell_type": "code",
   "execution_count": null,
   "id": "31873a51-ffee-4e37-85e0-a7d60bf7a08e",
   "metadata": {},
   "outputs": [],
   "source": [
    "import matplotlib.pyplot as plt\n",
    "\n",
    "epochs = np.arange(50) + 1\n",
    "#plt.subplot(2,1,1)\n",
    "plt.figure(figsize=(12,5))\n",
    "plt.plot(epochs, train_losses, 'bo', label = 'Training Loss')\n",
    "plt.plot(epochs, val_losses, 'r', label = 'Validation Loss')\n",
    "plt.legend()\n",
    "plt.xlabel('Epochs')\n",
    "plt.ylabel('Loss')\n",
    "plt.title('Train/Val Losses with Batch Normalozation')\n",
    "plt.grid('off')\n",
    "\n",
    "#plt.subplot(2,1,2)\n",
    "plt.figure(figsize=(12,5))\n",
    "plt.plot(epochs, train_accuracies, 'bo', label = 'Training Accuracy')\n",
    "plt.plot(epochs, val_accuracies, 'r', label = 'Validation Acurracy')\n",
    "plt.legend()\n",
    "plt.xlabel('Epochs')\n",
    "plt.ylabel('Accuracies')\n",
    "plt.title('Train/Val Accuracies with Batch Normalozation')\n",
    "plt.grid('off')\n",
    "plt.show()"
   ]
  },
  {
   "cell_type": "code",
   "execution_count": null,
   "id": "3afbda77-1dc3-4ae9-9bbb-0e5d41412514",
   "metadata": {},
   "outputs": [],
   "source": [
    "for ix, par in enumerate(model.parameters()):\n",
    "    if(ix==0):\n",
    "        plt.hist(par.cpu().detach().numpy().flatten())\n",
    "        plt.title('Distribution of weights connecting INPUT to HIDDEN')\n",
    "        plt.show()\n",
    "    elif(ix==2):\n",
    "        plt.hist(par.cpu().detach().numpy().flatten())\n",
    "        plt.title('Distribution of weights connecting HIDDEN to Batch_Norm')\n",
    "        plt.show()\n",
    "    elif(ix==4):\n",
    "        plt.hist(par.cpu().detach().numpy().flatten())\n",
    "        plt.title('Distribution of weights connecting Batch_Norm to OUTPUT')\n",
    "        plt.show()"
   ]
  },
  {
   "cell_type": "markdown",
   "id": "e5ebc039-824c-41d3-9d13-373f88ff3945",
   "metadata": {
    "jp-MarkdownHeadingCollapsed": true,
    "tags": []
   },
   "source": [
    "# Overfitting (Adding Dropout & Batch Norm)"
   ]
  },
  {
   "cell_type": "code",
   "execution_count": 133,
   "id": "d2a9b8c4-4bb8-4bc1-8c24-5f3a8695d8a8",
   "metadata": {},
   "outputs": [],
   "source": [
    "from torch.utils.data import Dataset, DataLoader\n",
    "import torch\n",
    "import torch.nn as nn\n",
    "import numpy as np\n",
    "import matplotlib.pyplot as plt\n",
    "from torchvision import datasets\n",
    "\n",
    "device = 'cuda' if torch.cuda.is_available() else 'cpu'"
   ]
  },
  {
   "cell_type": "code",
   "execution_count": 134,
   "id": "ccb9bb91-5059-4f78-9930-1fe96aa43769",
   "metadata": {},
   "outputs": [],
   "source": [
    "from torchvision import datasets\n",
    "\n",
    "data_folder = './data/FMNIST'\n",
    "fmnist = datasets.FashionMNIST(data_folder,\n",
    "                               download = True,\n",
    "                               train = True)\n",
    "tr_images = fmnist.data\n",
    "tr_targets = fmnist.targets"
   ]
  },
  {
   "cell_type": "code",
   "execution_count": 135,
   "id": "847a86d0-9a18-4de0-a88e-65dd01d13833",
   "metadata": {},
   "outputs": [],
   "source": [
    "val_fmnist = datasets.FashionMNIST(data_folder,\n",
    "                                   download = True,\n",
    "                                   train = False)\n",
    "val_images = val_fmnist.data\n",
    "val_targets = val_fmnist.targets"
   ]
  },
  {
   "cell_type": "code",
   "execution_count": 136,
   "id": "af4568bb-5523-433a-b745-a6fad1f3bb85",
   "metadata": {},
   "outputs": [],
   "source": [
    "class FashionMNIST(Dataset):\n",
    "    def __init__(self, x, y):\n",
    "        x = x.float() / 255.0\n",
    "        x = x.view(-1, 28*28)\n",
    "        self.x, self.y = x, y\n",
    "    def __getitem__(self, ix):\n",
    "        x, y = self.x[ix], self.y[ix]\n",
    "        return x.to(device), y.to(device)\n",
    "    def __len__(self):\n",
    "        return len(self.x)"
   ]
  },
  {
   "cell_type": "code",
   "execution_count": 145,
   "id": "9c4e7a37-6683-465d-b87c-ca19223b2c1f",
   "metadata": {},
   "outputs": [],
   "source": [
    "def get_model():\n",
    "    class neuralnet(nn.Module):\n",
    "        def __init__(self):\n",
    "            super().__init__()\n",
    "            self.input_to_hidden_layer = nn.Linear(28*28, 1000)\n",
    "            self.batch_norm = nn.BatchNorm1d(1000)\n",
    "            self.hidden_layer_activation = nn.ReLU()\n",
    "            self.dropout_layer = nn.Dropout(0.25)\n",
    "            self.hidden_to_output_layer = nn.Linear(1000, 10)\n",
    "        def forward(self, x):\n",
    "            x = self.input_to_hidden_layer(x)\n",
    "            x0 = self.batch_norm(x)\n",
    "            x1 = self.hidden_layer_activation(x0)\n",
    "            x2 = self.dropout_layer(x1)\n",
    "            x3 = self.hidden_to_output_layer(x2)\n",
    "            return x3, x2\n",
    "    model = neuralnet().to(device)\n",
    "    loss_fn = nn.CrossEntropyLoss()\n",
    "    optimizer = Adam(model.parameters(), lr = 1e-3)\n",
    "    return model, loss_fn, optimizer"
   ]
  },
  {
   "cell_type": "code",
   "execution_count": 146,
   "id": "181c0efe-996c-4ef9-9481-cda84bf98544",
   "metadata": {},
   "outputs": [],
   "source": [
    "def train_batch(x, y, model, loss_fn, optimizer):\n",
    "    model.train()\n",
    "    prediction, _ = model(x)\n",
    "    batch_loss = loss_fn(prediction, y)\n",
    "    batch_loss.backward()\n",
    "    optimizer.step()\n",
    "    optimizer.zero_grad()\n",
    "    return batch_loss.item()"
   ]
  },
  {
   "cell_type": "code",
   "execution_count": 147,
   "id": "24d2aa5f-a2bb-4e82-8832-ea3768dd221d",
   "metadata": {},
   "outputs": [],
   "source": [
    "def accuracy(x, y, model):\n",
    "    model.eval()\n",
    "    with torch.no_grad():\n",
    "        prediction, _ = model(x)\n",
    "    max_values, argmaxes = prediction.max(-1)\n",
    "    is_correct = argmaxes == y\n",
    "    return is_correct.cpu().numpy().tolist()"
   ]
  },
  {
   "cell_type": "code",
   "execution_count": 148,
   "id": "755e148e-9c1c-49da-990f-40d764b5586c",
   "metadata": {},
   "outputs": [],
   "source": [
    "def get_data():\n",
    "    train = FashionMNIST(tr_images, tr_targets)\n",
    "    trn_dl = DataLoader(train, batch_size = 32, shuffle = True)\n",
    "    val = FashionMNIST(val_images, val_targets)\n",
    "    val_dl = DataLoader(val, batch_size = len(val_images), shuffle = False)\n",
    "    return trn_dl, val_dl"
   ]
  },
  {
   "cell_type": "code",
   "execution_count": 149,
   "id": "a7310d78-a31c-41a7-b4e6-a3ba34d9b672",
   "metadata": {},
   "outputs": [],
   "source": [
    "@torch.no_grad()\n",
    "def val_loss(x, y, model, loss_fn):\n",
    "    model.eval()\n",
    "    prediction, _ = model(x)\n",
    "    val_loss = loss_fn(prediction, y)\n",
    "    return val_loss.item()"
   ]
  },
  {
   "cell_type": "code",
   "execution_count": 150,
   "id": "dcb8920d-07ef-464f-b7b9-435a2b4ed733",
   "metadata": {},
   "outputs": [],
   "source": [
    "trn_dl, val_dl = get_data()\n",
    "model, loss_fn, optimizer = get_model()"
   ]
  },
  {
   "cell_type": "code",
   "execution_count": 151,
   "id": "daf71c2a-5a46-40c3-b5e1-3908cfcb171f",
   "metadata": {},
   "outputs": [],
   "source": [
    "train_losses, val_losses = [], []\n",
    "train_accuracies, val_accuracies = [], []"
   ]
  },
  {
   "cell_type": "code",
   "execution_count": 152,
   "id": "037de15f-6a2b-41bd-b849-34bbbb8551d2",
   "metadata": {},
   "outputs": [
    {
     "name": "stdout",
     "output_type": "stream",
     "text": [
      "epoch# 1\n",
      "epoch# 2\n",
      "epoch# 3\n",
      "epoch# 4\n",
      "epoch# 5\n",
      "epoch# 6\n",
      "epoch# 7\n",
      "epoch# 8\n",
      "epoch# 9\n",
      "epoch# 10\n",
      "epoch# 11\n",
      "epoch# 12\n",
      "epoch# 13\n",
      "epoch# 14\n",
      "epoch# 15\n",
      "epoch# 16\n",
      "epoch# 17\n",
      "epoch# 18\n",
      "epoch# 19\n",
      "epoch# 20\n",
      "epoch# 21\n",
      "epoch# 22\n",
      "epoch# 23\n",
      "epoch# 24\n",
      "epoch# 25\n",
      "epoch# 26\n",
      "epoch# 27\n",
      "epoch# 28\n",
      "epoch# 29\n",
      "epoch# 30\n"
     ]
    }
   ],
   "source": [
    "for epoch in range(30):\n",
    "    print(f'epoch# {epoch+1}')\n",
    "    train_epoch_losses, train_epoch_accuracies = [], []\n",
    "    \n",
    "    for ix, batch in enumerate(iter(trn_dl)):\n",
    "        x, y = batch\n",
    "        batch_loss = train_batch(x, y, model, loss_fn, optimizer)\n",
    "        train_epoch_losses.append(batch_loss)\n",
    "    train_epoch_loss = np.array(train_epoch_losses).mean()\n",
    "    \n",
    "    for ix, batch in enumerate(iter(trn_dl)):\n",
    "        x, y = batch\n",
    "        is_correct = accuracy(x, y, model)\n",
    "        train_epoch_accuracies.extend(is_correct)\n",
    "    train_epoch_accuracy = np.mean(train_epoch_accuracies)\n",
    "    \n",
    "    for ix, batch in enumerate(iter(val_dl)):\n",
    "        x, y = batch\n",
    "        val_is_correct = accuracy(x, y, model)\n",
    "        validation_loss = val_loss(x, y, model, loss_fn)\n",
    "    val_epoch_accuracy = np.mean(val_is_correct)\n",
    "    \n",
    "    train_losses.append(train_epoch_loss)\n",
    "    train_accuracies.append(train_epoch_accuracy)\n",
    "    val_losses.append(validation_loss)\n",
    "    val_accuracies.append(val_epoch_accuracy)"
   ]
  },
  {
   "cell_type": "code",
   "execution_count": 153,
   "id": "69d0ba83-b3c4-4890-9007-3df6dbe02b6a",
   "metadata": {},
   "outputs": [
    {
     "data": {
      "image/png": "[encoded data removed]",
      "text/plain": [
       "<Figure size 864x360 with 1 Axes>"
      ]
     },
     "metadata": {
      "needs_background": "light"
     },
     "output_type": "display_data"
    },
    {
     "data": {
      "image/png": "[encoded data removed]",
      "text/plain": [
       "<Figure size 864x360 with 1 Axes>"
      ]
     },
     "metadata": {
      "needs_background": "light"
     },
     "output_type": "display_data"
    }
   ],
   "source": [
    "import matplotlib.pyplot as plt\n",
    "\n",
    "epochs = np.arange(30) + 1\n",
    "#plt.subplot(2,1,1)\n",
    "plt.figure(figsize=(12,5))\n",
    "plt.plot(epochs, train_losses, 'bo', label = 'Training Loss')\n",
    "plt.plot(epochs, val_losses, 'r', label = 'Validation Loss')\n",
    "plt.legend()\n",
    "plt.xlabel('Epochs')\n",
    "plt.ylabel('Loss')\n",
    "plt.title('Train/Val Losses with Batch Normalozation & Dropout')\n",
    "plt.grid('off')\n",
    "\n",
    "#plt.subplot(2,1,2)\n",
    "plt.figure(figsize=(12,5))\n",
    "plt.plot(epochs, train_accuracies, 'bo', label = 'Training Accuracy')\n",
    "plt.plot(epochs, val_accuracies, 'r', label = 'Validation Acurracy')\n",
    "plt.legend()\n",
    "plt.xlabel('Epochs')\n",
    "plt.ylabel('Accuracies')\n",
    "plt.title('Train/Val Accuracies with Batch Normalozation & Dropout')\n",
    "plt.grid('off')\n",
    "plt.show()"
   ]
  },
  {
   "cell_type": "markdown",
   "id": "bd44c832-3c42-4bb1-a921-2de8e75237e1",
   "metadata": {
    "tags": []
   },
   "source": [
    "# Overfitting (L1 Regularization)"
   ]
  },
  {
   "cell_type": "code",
   "execution_count": 154,
   "id": "c8be176e-c183-4e02-a146-4c35a5f7e0d4",
   "metadata": {},
   "outputs": [],
   "source": [
    "def train_batch(x, y, model, loss_fn, optimizer):\n",
    "    model.train()\n",
    "    prediction, _ = model(x)\n",
    "    l1_regular = 0\n",
    "    for param in model.parameters():\n",
    "        l1_regular = l1_regular + torch.norm(param, 1)\n",
    "    batch_loss = loss_fn(prediction, y) + 0.0001*l1_regular\n",
    "    batch_loss.backward()\n",
    "    optimizer.step()\n",
    "    optimizer.zero_grad()\n",
    "    return batch_loss.item()"
   ]
  },
  {
   "cell_type": "code",
   "execution_count": 155,
   "id": "1bc07ed1-2792-4dc3-9192-1e6095d42742",
   "metadata": {},
   "outputs": [],
   "source": [
    "train_losses, val_losses = [], []\n",
    "train_accuracies, val_accuracies = [], []"
   ]
  },
  {
   "cell_type": "code",
   "execution_count": 156,
   "id": "96347b62-9a0e-4e23-ba8e-0072d3a02c08",
   "metadata": {},
   "outputs": [
    {
     "name": "stdout",
     "output_type": "stream",
     "text": [
      "epoch# 1\n",
      "epoch# 2\n",
      "epoch# 3\n",
      "epoch# 4\n",
      "epoch# 5\n",
      "epoch# 6\n",
      "epoch# 7\n",
      "epoch# 8\n",
      "epoch# 9\n",
      "epoch# 10\n",
      "epoch# 11\n",
      "epoch# 12\n",
      "epoch# 13\n",
      "epoch# 14\n",
      "epoch# 15\n",
      "epoch# 16\n",
      "epoch# 17\n",
      "epoch# 18\n",
      "epoch# 19\n",
      "epoch# 20\n",
      "epoch# 21\n",
      "epoch# 22\n",
      "epoch# 23\n",
      "epoch# 24\n",
      "epoch# 25\n",
      "epoch# 26\n",
      "epoch# 27\n",
      "epoch# 28\n",
      "epoch# 29\n",
      "epoch# 30\n"
     ]
    }
   ],
   "source": [
    "for epoch in range(30):\n",
    "    print(f'epoch# {epoch+1}')\n",
    "    train_epoch_losses, train_epoch_accuracies = [], []\n",
    "    \n",
    "    for ix, batch in enumerate(iter(trn_dl)):\n",
    "        x, y = batch\n",
    "        batch_loss = train_batch(x, y, model, loss_fn, optimizer)\n",
    "        train_epoch_losses.append(batch_loss)\n",
    "    train_epoch_loss = np.array(train_epoch_losses).mean()\n",
    "    \n",
    "    for ix, batch in enumerate(iter(trn_dl)):\n",
    "        x, y = batch\n",
    "        is_correct = accuracy(x, y, model)\n",
    "        train_epoch_accuracies.extend(is_correct)\n",
    "    train_epoch_accuracy = np.mean(train_epoch_accuracies)\n",
    "    \n",
    "    for ix, batch in enumerate(iter(val_dl)):\n",
    "        x, y = batch\n",
    "        val_is_correct = accuracy(x, y, model)\n",
    "        validation_loss = val_loss(x, y, model, loss_fn)\n",
    "    val_epoch_accuracy = np.mean(val_is_correct)\n",
    "    \n",
    "    train_losses.append(train_epoch_loss)\n",
    "    train_accuracies.append(train_epoch_accuracy)\n",
    "    val_losses.append(validation_loss)\n",
    "    val_accuracies.append(val_epoch_accuracy)"
   ]
  },
  {
   "cell_type": "code",
   "execution_count": 157,
   "id": "b23926e9-3f92-46fc-b447-08d063d0d18b",
   "metadata": {},
   "outputs": [
    {
     "data": {
      "image/png": "[encoded data removed]",
      "text/plain": [
       "<Figure size 864x360 with 1 Axes>"
      ]
     },
     "metadata": {
      "needs_background": "light"
     },
     "output_type": "display_data"
    },
    {
     "data": {
      "image/png": "[encoded data removed]",
      "text/plain": [
       "<Figure size 864x360 with 1 Axes>"
      ]
     },
     "metadata": {
      "needs_background": "light"
     },
     "output_type": "display_data"
    }
   ],
   "source": [
    "import matplotlib.pyplot as plt\n",
    "\n",
    "epochs = np.arange(30) + 1\n",
    "#plt.subplot(2,1,1)\n",
    "plt.figure(figsize=(12,5))\n",
    "plt.plot(epochs, train_losses, 'bo', label = 'Training Loss')\n",
    "plt.plot(epochs, val_losses, 'r', label = 'Validation Loss')\n",
    "plt.legend()\n",
    "plt.xlabel('Epochs')\n",
    "plt.ylabel('Loss')\n",
    "plt.title('Train/Val Losses with Batch Normalization, Dropout & L1 Regular')\n",
    "plt.grid('off')\n",
    "\n",
    "#plt.subplot(2,1,2)\n",
    "plt.figure(figsize=(12,5))\n",
    "plt.plot(epochs, train_accuracies, 'bo', label = 'Training Accuracy')\n",
    "plt.plot(epochs, val_accuracies, 'r', label = 'Validation Acurracy')\n",
    "plt.legend()\n",
    "plt.xlabel('Epochs')\n",
    "plt.ylabel('Accuracies')\n",
    "plt.title('Train/Val Accuracies with Batch Normalization, Dropout & L1 Regular')\n",
    "plt.grid('off')\n",
    "plt.show()"
   ]
  },
  {
   "cell_type": "markdown",
   "id": "2545653c-8ab6-4585-b24e-0b52cb3f0501",
   "metadata": {},
   "source": [
    "# Overfitting (L2 Regularization)"
   ]
  },
  {
   "cell_type": "code",
   "execution_count": 158,
   "id": "e9048177-fa72-42cf-aaaf-b11281ea4865",
   "metadata": {},
   "outputs": [],
   "source": [
    "def train_batch(x, y, model, loss_fn, optimizer):\n",
    "    model.train()\n",
    "    prediction, _ = model(x)\n",
    "    l2_regular = 0\n",
    "    for param in model.parameters():\n",
    "        l2_regular = l2_regular + torch.norm(param, 2)\n",
    "    batch_loss = loss_fn(prediction, y) + 0.01*l2_regular\n",
    "    batch_loss.backward()\n",
    "    optimizer.step()\n",
    "    optimizer.zero_grad()\n",
    "    return batch_loss.item()"
   ]
  },
  {
   "cell_type": "code",
   "execution_count": null,
   "id": "5654fa45-084c-402d-a792-dd7a40782c32",
   "metadata": {},
   "outputs": [],
   "source": []
  }
 ],
 "metadata": {
  "kernelspec": {
   "display_name": "Python 3 (ipykernel)",
   "language": "python",
   "name": "python3"
  },
  "language_info": {
   "codemirror_mode": {
    "name": "ipython",
    "version": 3
   },
   "file_extension": ".py",
   "mimetype": "text/x-python",
   "name": "python",
   "nbconvert_exporter": "python",
   "pygments_lexer": "ipython3",
   "version": "3.9.12"
  }
 },
 "nbformat": 4,
 "nbformat_minor": 5
}
