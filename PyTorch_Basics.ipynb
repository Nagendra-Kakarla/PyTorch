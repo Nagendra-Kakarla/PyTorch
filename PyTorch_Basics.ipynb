{
 "cells": [
  {
   "cell_type": "markdown",
   "id": "720ba717-d495-4430-a6ec-80c5c4c04dd7",
   "metadata": {
    "jp-MarkdownHeadingCollapsed": true,
    "tags": []
   },
   "source": [
    "# Quickstart"
   ]
  },
  {
   "cell_type": "code",
   "execution_count": 1,
   "id": "4019a9e9-1aa6-494d-8026-8361e072d323",
   "metadata": {},
   "outputs": [],
   "source": [
    "import torch\n",
    "from torch import nn\n",
    "from torch.utils.data import DataLoader\n",
    "from torchvision import datasets\n",
    "from torchvision.transforms import ToTensor"
   ]
  },
  {
   "cell_type": "code",
   "execution_count": 2,
   "id": "c407011a-6cac-4602-ae75-f2a073c2f740",
   "metadata": {},
   "outputs": [],
   "source": [
    "# Downloading open Datasets\n",
    "\n",
    "training_data = datasets.FashionMNIST( root = 'G:\\\\00_PyTorch & FastAI\\\\PyTorch\\\\data',\n",
    "                                     train = True,\n",
    "                                     download = True,\n",
    "                                     transform = ToTensor() )\n",
    "\n",
    "test_data = datasets.FashionMNIST( root = 'G:\\\\00_PyTorch & FastAI\\\\PyTorch\\\\data',\n",
    "                                 train = False,\n",
    "                                 download = True,\n",
    "                                 transform = ToTensor() )"
   ]
  },
  {
   "cell_type": "code",
   "execution_count": 3,
   "id": "832e7b97-7a5d-4bcb-9df2-d0f4a16f24d3",
   "metadata": {},
   "outputs": [
    {
     "name": "stdout",
     "output_type": "stream",
     "text": [
      "Shape of X [N, C, H, W]: torch.Size([64, 1, 28, 28])\n",
      "Shape of y torch.Size([64]) torch.int64\n"
     ]
    }
   ],
   "source": [
    "batch_size = 64\n",
    "\n",
    "# Create Data Loaders\n",
    "train_dataloader = DataLoader(training_data, batch_size = batch_size) \n",
    "test_dataloader = DataLoader(test_data, batch_size = batch_size)\n",
    "\n",
    "for X, y in test_dataloader:\n",
    "    print(f\"Shape of X [N, C, H, W]: {X.shape}\")\n",
    "    print(f\"Shape of y {y.shape} {y.dtype}\")\n",
    "    break"
   ]
  },
  {
   "cell_type": "code",
   "execution_count": 4,
   "id": "1216d93e-5f53-4fc6-88a9-84540d795e85",
   "metadata": {},
   "outputs": [
    {
     "name": "stdout",
     "output_type": "stream",
     "text": [
      "Using cpu device.\n"
     ]
    }
   ],
   "source": [
    "# Get cpu or gpu device for training.\n",
    "device = \"cuda\" if torch.cuda.is_available() else \"cpu\"\n",
    "print(f\"Using {device} device.\")"
   ]
  },
  {
   "cell_type": "code",
   "execution_count": 5,
   "id": "f270851c-e087-4140-bb23-92d7b8c5cd98",
   "metadata": {},
   "outputs": [
    {
     "name": "stdout",
     "output_type": "stream",
     "text": [
      "NeuralNet(\n",
      "  (flatten): Flatten(start_dim=1, end_dim=-1)\n",
      "  (linear_relu_stack): Sequential(\n",
      "    (0): Linear(in_features=784, out_features=512, bias=True)\n",
      "    (1): ReLU()\n",
      "    (2): Linear(in_features=512, out_features=512, bias=True)\n",
      "    (3): ReLU()\n",
      "    (4): Linear(in_features=512, out_features=10, bias=True)\n",
      "  )\n",
      ")\n"
     ]
    }
   ],
   "source": [
    "# Define model\n",
    "\n",
    "class NeuralNet(nn.Module):\n",
    "    \n",
    "    def __init__(self):\n",
    "        super(NeuralNet, self).__init__()\n",
    "        self.flatten = nn.Flatten()\n",
    "        self.linear_relu_stack = nn.Sequential( \n",
    "            nn.Linear(28*28, 512),\n",
    "            nn.ReLU(),\n",
    "            nn.Linear(512, 512),\n",
    "            nn.ReLU(),\n",
    "            nn.Linear(512, 10)\n",
    "        )\n",
    "        \n",
    "    def forward(self, x):\n",
    "        x = self.flatten(x)\n",
    "        logits = self.linear_relu_stack(x)\n",
    "        return logits\n",
    "    \n",
    "\n",
    "model = NeuralNet().to(device)\n",
    "print(model)    "
   ]
  },
  {
   "cell_type": "code",
   "execution_count": 6,
   "id": "92b6f1e9-ef89-47bf-87ae-f89337286135",
   "metadata": {},
   "outputs": [],
   "source": [
    "# Defining LOSS & OPTIMIZER\n",
    "loss_fn = nn.CrossEntropyLoss()\n",
    "optimizer = torch.optim.SGD(model.parameters(), lr = 0.01)"
   ]
  },
  {
   "cell_type": "code",
   "execution_count": 7,
   "id": "01310495-0d1a-4c10-b8df-d7f4485801f4",
   "metadata": {},
   "outputs": [],
   "source": [
    "def train(dataloader, model, loss_fn, optimizer):\n",
    "    size = len(dataloader.dataset)\n",
    "    model.train()\n",
    "    for batch, (X, y) in enumerate(dataloader):\n",
    "        X, y = X.to(device), y.to(device)\n",
    "        \n",
    "        # Compute prediction error\n",
    "        pred = model(X)\n",
    "        loss = loss_fn(pred, y)\n",
    "        \n",
    "        # Backpropagation\n",
    "        optimizer.zero_grad()\n",
    "        loss.backward()\n",
    "        optimizer.step()\n",
    "        \n",
    "        if batch % 100 == 0:\n",
    "            loss, current = loss.item(), batch*len(X)\n",
    "            print(f\"loss: {loss:>7f}  [{current:>5d}/{size:>5d}]\")"
   ]
  },
  {
   "cell_type": "code",
   "execution_count": 8,
   "id": "7c8e3955-054a-484a-9f3c-e753be4c30a3",
   "metadata": {},
   "outputs": [],
   "source": [
    "def test(dataloader, model, loss_fn):\n",
    "    size = len(dataloader.dataset)\n",
    "    num_batches = len(dataloader)\n",
    "    model.eval()\n",
    "    test_loss, correct = 0, 0\n",
    "    with torch.no_grad():\n",
    "        for X, y in dataloader:\n",
    "            X, y = X.to(device), y.to(device)\n",
    "            pred = model(X)\n",
    "            test_loss = test_loss + loss_fn(pred, y).item()\n",
    "            correct = correct + (pred.argmax(1) == y).type(torch.float).sum().item()\n",
    "            \n",
    "    test_loss = test_loss / num_batches\n",
    "    correct = correct / size\n",
    "    \n",
    "    print(f\"Test Error: \\n Accuracy: {(100*correct):>0.1f}%, Avg loss: {test_loss:>8f} \\n\")"
   ]
  },
  {
   "cell_type": "code",
   "execution_count": 9,
   "id": "26ab6682-b9e1-4a06-b9ef-00839c6e5a40",
   "metadata": {},
   "outputs": [
    {
     "name": "stdout",
     "output_type": "stream",
     "text": [
      "Epoch 1\n",
      "-------------------------------\n",
      "loss: 2.304922  [    0/60000]\n",
      "loss: 2.162117  [ 6400/60000]\n",
      "loss: 1.760541  [12800/60000]\n",
      "loss: 1.491629  [19200/60000]\n",
      "loss: 1.126259  [25600/60000]\n",
      "loss: 1.039877  [32000/60000]\n",
      "loss: 1.001977  [38400/60000]\n",
      "loss: 0.866029  [44800/60000]\n",
      "loss: 0.866825  [51200/60000]\n",
      "loss: 0.814886  [57600/60000]\n",
      "Test Error: \n",
      " Accuracy: 70.7%, Avg loss: 0.796396 \n",
      "\n",
      "Epoch 2\n",
      "-------------------------------\n",
      "loss: 0.801208  [    0/60000]\n",
      "loss: 0.859183  [ 6400/60000]\n",
      "loss: 0.590544  [12800/60000]\n",
      "loss: 0.792409  [19200/60000]\n",
      "loss: 0.665246  [25600/60000]\n",
      "loss: 0.643514  [32000/60000]\n",
      "loss: 0.713928  [38400/60000]\n",
      "loss: 0.686405  [44800/60000]\n",
      "loss: 0.694285  [51200/60000]\n",
      "loss: 0.644320  [57600/60000]\n",
      "Test Error: \n",
      " Accuracy: 77.8%, Avg loss: 0.636300 \n",
      "\n",
      "Epoch 3\n",
      "-------------------------------\n",
      "loss: 0.563852  [    0/60000]\n",
      "loss: 0.670929  [ 6400/60000]\n",
      "loss: 0.440327  [12800/60000]\n",
      "loss: 0.675509  [19200/60000]\n",
      "loss: 0.585996  [25600/60000]\n",
      "loss: 0.560831  [32000/60000]\n",
      "loss: 0.597216  [38400/60000]\n",
      "loss: 0.641232  [44800/60000]\n",
      "loss: 0.659038  [51200/60000]\n",
      "loss: 0.558250  [57600/60000]\n",
      "Test Error: \n",
      " Accuracy: 79.8%, Avg loss: 0.571270 \n",
      "\n",
      "Epoch 4\n",
      "-------------------------------\n",
      "loss: 0.469327  [    0/60000]\n",
      "loss: 0.581324  [ 6400/60000]\n",
      "loss: 0.378811  [12800/60000]\n",
      "loss: 0.604715  [19200/60000]\n",
      "loss: 0.529553  [25600/60000]\n",
      "loss: 0.517219  [32000/60000]\n",
      "loss: 0.540205  [38400/60000]\n",
      "loss: 0.641200  [44800/60000]\n",
      "loss: 0.642200  [51200/60000]\n",
      "loss: 0.497541  [57600/60000]\n",
      "Test Error: \n",
      " Accuracy: 80.7%, Avg loss: 0.538607 \n",
      "\n",
      "Epoch 5\n",
      "-------------------------------\n",
      "loss: 0.412507  [    0/60000]\n",
      "loss: 0.533511  [ 6400/60000]\n",
      "loss: 0.345269  [12800/60000]\n",
      "loss: 0.557027  [19200/60000]\n",
      "loss: 0.485345  [25600/60000]\n",
      "loss: 0.485773  [32000/60000]\n",
      "loss: 0.506679  [38400/60000]\n",
      "loss: 0.638819  [44800/60000]\n",
      "loss: 0.620610  [51200/60000]\n",
      "loss: 0.461651  [57600/60000]\n",
      "Test Error: \n",
      " Accuracy: 81.4%, Avg loss: 0.517357 \n",
      "\n",
      "Epoch 6\n",
      "-------------------------------\n",
      "loss: 0.372042  [    0/60000]\n",
      "loss: 0.503751  [ 6400/60000]\n",
      "loss: 0.321957  [12800/60000]\n",
      "loss: 0.525003  [19200/60000]\n",
      "loss: 0.456427  [25600/60000]\n",
      "loss: 0.464262  [32000/60000]\n",
      "loss: 0.482579  [38400/60000]\n",
      "loss: 0.627941  [44800/60000]\n",
      "loss: 0.599758  [51200/60000]\n",
      "loss: 0.440292  [57600/60000]\n",
      "Test Error: \n",
      " Accuracy: 81.8%, Avg loss: 0.501869 \n",
      "\n",
      "Epoch 7\n",
      "-------------------------------\n",
      "loss: 0.340328  [    0/60000]\n",
      "loss: 0.482493  [ 6400/60000]\n",
      "loss: 0.304613  [12800/60000]\n",
      "loss: 0.503419  [19200/60000]\n",
      "loss: 0.434034  [25600/60000]\n",
      "loss: 0.450015  [32000/60000]\n",
      "loss: 0.464749  [38400/60000]\n",
      "loss: 0.614093  [44800/60000]\n",
      "loss: 0.580255  [51200/60000]\n",
      "loss: 0.428499  [57600/60000]\n",
      "Test Error: \n",
      " Accuracy: 82.2%, Avg loss: 0.489728 \n",
      "\n",
      "Epoch 8\n",
      "-------------------------------\n",
      "loss: 0.317477  [    0/60000]\n",
      "loss: 0.464360  [ 6400/60000]\n",
      "loss: 0.290947  [12800/60000]\n",
      "loss: 0.487207  [19200/60000]\n",
      "loss: 0.415882  [25600/60000]\n",
      "loss: 0.439756  [32000/60000]\n",
      "loss: 0.450272  [38400/60000]\n",
      "loss: 0.601349  [44800/60000]\n",
      "loss: 0.563409  [51200/60000]\n",
      "loss: 0.421108  [57600/60000]\n",
      "Test Error: \n",
      " Accuracy: 82.7%, Avg loss: 0.478335 \n",
      "\n",
      "Epoch 9\n",
      "-------------------------------\n",
      "loss: 0.298754  [    0/60000]\n",
      "loss: 0.448471  [ 6400/60000]\n",
      "loss: 0.280096  [12800/60000]\n",
      "loss: 0.474273  [19200/60000]\n",
      "loss: 0.399198  [25600/60000]\n",
      "loss: 0.431435  [32000/60000]\n",
      "loss: 0.438147  [38400/60000]\n",
      "loss: 0.589076  [44800/60000]\n",
      "loss: 0.548031  [51200/60000]\n",
      "loss: 0.415686  [57600/60000]\n",
      "Test Error: \n",
      " Accuracy: 83.0%, Avg loss: 0.468687 \n",
      "\n",
      "Epoch 10\n",
      "-------------------------------\n",
      "loss: 0.285344  [    0/60000]\n",
      "loss: 0.434780  [ 6400/60000]\n",
      "loss: 0.270559  [12800/60000]\n",
      "loss: 0.462280  [19200/60000]\n",
      "loss: 0.384388  [25600/60000]\n",
      "loss: 0.423291  [32000/60000]\n",
      "loss: 0.426259  [38400/60000]\n",
      "loss: 0.576000  [44800/60000]\n",
      "loss: 0.535828  [51200/60000]\n",
      "loss: 0.411035  [57600/60000]\n",
      "Test Error: \n",
      " Accuracy: 83.4%, Avg loss: 0.460124 \n",
      "\n",
      "\n",
      "Done!\n"
     ]
    }
   ],
   "source": [
    "epochs = 10\n",
    "\n",
    "for t in range(epochs):\n",
    "    print(f\"Epoch {t+1}\\n-------------------------------\")\n",
    "    train(train_dataloader, model, loss_fn, optimizer)\n",
    "    test(test_dataloader, model, loss_fn)\n",
    "    \n",
    "print(\"\\nDone!\")"
   ]
  },
  {
   "cell_type": "code",
   "execution_count": 13,
   "id": "334be298-3d16-4a01-a0c7-42a9e219e6f0",
   "metadata": {},
   "outputs": [
    {
     "name": "stdout",
     "output_type": "stream",
     "text": [
      "Saved PyTorch Model State to model.pth\n"
     ]
    }
   ],
   "source": [
    "# save model\n",
    "\n",
    "torch.save(model.state_dict(), \"G:\\\\00_PyTorch & FastAI\\\\PyTorch\\\\FashionMNIST_model.pth\")\n",
    "print(\"Saved PyTorch Model State to model.pth\")"
   ]
  },
  {
   "cell_type": "code",
   "execution_count": 15,
   "id": "094e1efe-da47-4692-a991-ef8c22f30bb3",
   "metadata": {},
   "outputs": [
    {
     "data": {
      "text/plain": [
       "<All keys matched successfully>"
      ]
     },
     "execution_count": 15,
     "metadata": {},
     "output_type": "execute_result"
    }
   ],
   "source": [
    "# Load model\n",
    "\n",
    "model = NeuralNet()\n",
    "model.load_state_dict(torch.load(\"G:\\\\00_PyTorch & FastAI\\\\PyTorch\\\\FashionMNIST_model.pth\"))"
   ]
  },
  {
   "cell_type": "code",
   "execution_count": 16,
   "id": "a06220fd-2bff-49bb-9f42-1c3bc35d6e36",
   "metadata": {},
   "outputs": [
    {
     "name": "stdout",
     "output_type": "stream",
     "text": [
      "Predicted: \"Ankle boot\", Actual: \"Ankle boot\"\n"
     ]
    }
   ],
   "source": [
    "# Predictions\n",
    "\n",
    "classes = [\n",
    "    \"T-shirt/top\",\n",
    "    \"Trouser\",\n",
    "    \"Pullover\",\n",
    "    \"Dress\",\n",
    "    \"Coat\",\n",
    "    \"Sandal\",\n",
    "    \"Shirt\",\n",
    "    \"Sneaker\",\n",
    "    \"Bag\",\n",
    "    \"Ankle boot\",\n",
    "]\n",
    "\n",
    "model.eval()\n",
    "x, y = test_data[0][0], test_data[0][1]\n",
    "with torch.no_grad():\n",
    "    pred = model(x)\n",
    "    predicted, actual = classes[pred[0].argmax(0)], classes[y]\n",
    "    print(f'Predicted: \"{predicted}\", Actual: \"{actual}\"')"
   ]
  },
  {
   "cell_type": "markdown",
   "id": "865b8ce4-4e70-48dc-96bb-40a97e10c902",
   "metadata": {
    "jp-MarkdownHeadingCollapsed": true,
    "tags": []
   },
   "source": [
    "# Tensors"
   ]
  },
  {
   "cell_type": "code",
   "execution_count": 1,
   "id": "ecfb4496-95b1-4bac-a04e-33466df51432",
   "metadata": {},
   "outputs": [],
   "source": [
    "import torch\n",
    "import numpy as np"
   ]
  },
  {
   "cell_type": "code",
   "execution_count": 2,
   "id": "bd796a61-c184-43e3-89d1-d93863c9c64a",
   "metadata": {},
   "outputs": [],
   "source": [
    "data = [[1,2], [3,4]]\n",
    "x_data = torch.tensor(data)"
   ]
  },
  {
   "cell_type": "code",
   "execution_count": 3,
   "id": "4fd5d29f-ee71-4915-9d03-bd4f25ccb89d",
   "metadata": {},
   "outputs": [],
   "source": [
    "np_array = np.array(data)\n",
    "x_np = torch.from_numpy(np_array)"
   ]
  },
  {
   "cell_type": "code",
   "execution_count": 4,
   "id": "56752094-a4e5-43d4-83ff-4a792a3ee10a",
   "metadata": {},
   "outputs": [
    {
     "name": "stdout",
     "output_type": "stream",
     "text": [
      "Ones Tensor: \n",
      " tensor([[1, 1],\n",
      "        [1, 1]]) \n",
      "\n",
      "Random Tensor: \n",
      " tensor([[0.2905, 0.0820],\n",
      "        [0.1786, 0.5351]]) \n",
      "\n"
     ]
    }
   ],
   "source": [
    "x_ones = torch.ones_like(x_data)\n",
    "print(f\"Ones Tensor: \\n {x_ones} \\n\")\n",
    "\n",
    "x_rand = torch.rand_like(x_data, dtype = torch.float32)\n",
    "print(f\"Random Tensor: \\n {x_rand} \\n\")"
   ]
  },
  {
   "cell_type": "code",
   "execution_count": 5,
   "id": "34d3cd41-ebe0-4e21-a9a7-a092a2bc579e",
   "metadata": {},
   "outputs": [
    {
     "name": "stdout",
     "output_type": "stream",
     "text": [
      "Random Tensor: \n",
      " tensor([[0.9512, 0.6950, 0.8050],\n",
      "        [0.4268, 0.4551, 0.9236]]) \n",
      "\n",
      "Ones Tensor: \n",
      " tensor([[1., 1., 1.],\n",
      "        [1., 1., 1.]]) \n",
      "\n",
      "Zeros Tensor: \n",
      " tensor([[0., 0., 0.],\n",
      "        [0., 0., 0.]])\n"
     ]
    }
   ],
   "source": [
    "shape = (2,3,)\n",
    "\n",
    "rand_tensor = torch.rand(shape)\n",
    "ones_tensor = torch.ones(shape)\n",
    "zeros_tensor = torch.zeros(shape)\n",
    "\n",
    "print(f\"Random Tensor: \\n {rand_tensor} \\n\")\n",
    "print(f\"Ones Tensor: \\n {ones_tensor} \\n\")\n",
    "print(f\"Zeros Tensor: \\n {zeros_tensor}\")"
   ]
  },
  {
   "cell_type": "code",
   "execution_count": 6,
   "id": "a2621568-dff7-4485-a78b-4b0ef5f332ab",
   "metadata": {},
   "outputs": [
    {
     "name": "stdout",
     "output_type": "stream",
     "text": [
      "Shape of Tensor: torch.Size([3, 4]) \n",
      "\n",
      "Datatype of Tensor: torch.float32 \n",
      "\n",
      "Device Tensor is stored on: cpu\n"
     ]
    }
   ],
   "source": [
    "tensor = torch.rand(3,4)\n",
    "\n",
    "print(f\"Shape of Tensor: {tensor.shape} \\n\")\n",
    "print(f\"Datatype of Tensor: {tensor.dtype} \\n\")\n",
    "print(f\"Device Tensor is stored on: {tensor.device}\")"
   ]
  },
  {
   "cell_type": "code",
   "execution_count": 7,
   "id": "090b3978-5ca6-41cc-88a3-e17a985c8b00",
   "metadata": {},
   "outputs": [],
   "source": [
    "# We move our tensor to the GPU if available\n",
    "\n",
    "if torch.cuda.is_available():\n",
    "    tensor = tensor.to(\"cuda\")"
   ]
  },
  {
   "cell_type": "code",
   "execution_count": 8,
   "id": "beb32ce4-f259-469d-95de-c8cd7e21c827",
   "metadata": {},
   "outputs": [
    {
     "data": {
      "text/plain": [
       "tensor([1., 1., 1., 1.])"
      ]
     },
     "execution_count": 8,
     "metadata": {},
     "output_type": "execute_result"
    }
   ],
   "source": [
    "tensor = torch.ones(4,4)\n",
    "\n",
    "tensor[0]"
   ]
  },
  {
   "cell_type": "code",
   "execution_count": 9,
   "id": "3d3b2a0c-2adc-44fe-a327-03ef48acd6ca",
   "metadata": {},
   "outputs": [
    {
     "data": {
      "text/plain": [
       "tensor([1., 1., 1., 1.])"
      ]
     },
     "execution_count": 9,
     "metadata": {},
     "output_type": "execute_result"
    }
   ],
   "source": [
    "tensor[:, 0]"
   ]
  },
  {
   "cell_type": "code",
   "execution_count": 10,
   "id": "4db5a549-4f5e-4eea-951b-54778c6d25dc",
   "metadata": {},
   "outputs": [
    {
     "data": {
      "text/plain": [
       "tensor([1., 1., 1., 1.])"
      ]
     },
     "execution_count": 10,
     "metadata": {},
     "output_type": "execute_result"
    }
   ],
   "source": [
    "tensor[:, -1]"
   ]
  },
  {
   "cell_type": "code",
   "execution_count": 11,
   "id": "f9ac2117-5e60-4828-8195-26be2d8fb413",
   "metadata": {},
   "outputs": [
    {
     "name": "stdout",
     "output_type": "stream",
     "text": [
      "tensor([[1., 0., 1., 1.],\n",
      "        [1., 0., 1., 1.],\n",
      "        [1., 0., 1., 1.],\n",
      "        [1., 0., 1., 1.]])\n"
     ]
    }
   ],
   "source": [
    "tensor[:, 1] = 0\n",
    "print(tensor)"
   ]
  },
  {
   "cell_type": "code",
   "execution_count": 12,
   "id": "2dbc6fee-0253-4604-a959-b62cc5d09f6f",
   "metadata": {},
   "outputs": [
    {
     "name": "stdout",
     "output_type": "stream",
     "text": [
      "tensor([[1., 0., 1., 1.],\n",
      "        [1., 0., 1., 1.],\n",
      "        [1., 0., 1., 1.],\n",
      "        [1., 0., 1., 1.],\n",
      "        [1., 0., 1., 1.],\n",
      "        [1., 0., 1., 1.],\n",
      "        [1., 0., 1., 1.],\n",
      "        [1., 0., 1., 1.]])\n"
     ]
    }
   ],
   "source": [
    "t1 = torch.cat([tensor, tensor], dim=0)\n",
    "print(t1)"
   ]
  },
  {
   "cell_type": "code",
   "execution_count": 13,
   "id": "e1abc60a-35a4-4b12-be2d-65f35265ca10",
   "metadata": {},
   "outputs": [
    {
     "name": "stdout",
     "output_type": "stream",
     "text": [
      "tensor([[1., 0., 1., 1., 1., 0., 1., 1.],\n",
      "        [1., 0., 1., 1., 1., 0., 1., 1.],\n",
      "        [1., 0., 1., 1., 1., 0., 1., 1.],\n",
      "        [1., 0., 1., 1., 1., 0., 1., 1.]])\n"
     ]
    }
   ],
   "source": [
    "t1 = torch.cat([tensor, tensor], dim=1)\n",
    "print(t1)"
   ]
  },
  {
   "cell_type": "code",
   "execution_count": 21,
   "id": "d595df79-b7d3-493a-93ec-4e8b74e441bb",
   "metadata": {},
   "outputs": [
    {
     "data": {
      "text/plain": [
       "tensor([[3., 3., 3., 3.],\n",
       "        [3., 3., 3., 3.],\n",
       "        [3., 3., 3., 3.],\n",
       "        [3., 3., 3., 3.]])"
      ]
     },
     "execution_count": 21,
     "metadata": {},
     "output_type": "execute_result"
    }
   ],
   "source": [
    "# This computes the matrix multiplication between two tensors. y1, y2, y3 will have the same value\n",
    "\n",
    "y1 = tensor @ tensor.T\n",
    "y2 = tensor.matmul(tensor.T)\n",
    "y3 = torch.rand_like(y1)\n",
    "torch.matmul(tensor, tensor.T, out=y3)"
   ]
  },
  {
   "cell_type": "code",
   "execution_count": 22,
   "id": "cd3f5b39-58ed-4d19-94f2-8f81a72cfca9",
   "metadata": {},
   "outputs": [
    {
     "data": {
      "text/plain": [
       "tensor([[1., 0., 1., 1.],\n",
       "        [1., 0., 1., 1.],\n",
       "        [1., 0., 1., 1.],\n",
       "        [1., 0., 1., 1.]])"
      ]
     },
     "execution_count": 22,
     "metadata": {},
     "output_type": "execute_result"
    }
   ],
   "source": [
    "# This computes the element-wise product. z1, z2, z3 will have the same value\n",
    "z1 = tensor * tensor\n",
    "z2 = tensor.mul(tensor)\n",
    "\n",
    "z3 = torch.rand_like(tensor)\n",
    "torch.mul(tensor, tensor, out=z3)"
   ]
  },
  {
   "cell_type": "code",
   "execution_count": 19,
   "id": "e973eca1-617c-4836-a5d8-15e0b07f2f57",
   "metadata": {},
   "outputs": [
    {
     "name": "stdout",
     "output_type": "stream",
     "text": [
      "12.0 <class 'float'>\n"
     ]
    }
   ],
   "source": [
    "agg = tensor.sum()\n",
    "agg_item = agg.item()\n",
    "\n",
    "print(agg_item, type(agg_item))"
   ]
  },
  {
   "cell_type": "code",
   "execution_count": 23,
   "id": "c0983089-35b9-4504-8f67-faec04c28b6b",
   "metadata": {},
   "outputs": [
    {
     "data": {
      "text/plain": [
       "tensor([[1., 0., 1., 1.],\n",
       "        [1., 0., 1., 1.],\n",
       "        [1., 0., 1., 1.],\n",
       "        [1., 0., 1., 1.]])"
      ]
     },
     "execution_count": 23,
     "metadata": {},
     "output_type": "execute_result"
    }
   ],
   "source": [
    "tensor"
   ]
  },
  {
   "cell_type": "code",
   "execution_count": 25,
   "id": "72548b7f-75e1-49de-b089-af389ad9abcb",
   "metadata": {},
   "outputs": [
    {
     "data": {
      "text/plain": [
       "tensor([[1., 1., 1., 1.],\n",
       "        [0., 0., 0., 0.],\n",
       "        [1., 1., 1., 1.],\n",
       "        [1., 1., 1., 1.]])"
      ]
     },
     "execution_count": 25,
     "metadata": {},
     "output_type": "execute_result"
    }
   ],
   "source": [
    "tensor.t_()"
   ]
  },
  {
   "cell_type": "code",
   "execution_count": 26,
   "id": "92bd245a-a304-4bab-a902-c8775d9f7f35",
   "metadata": {},
   "outputs": [
    {
     "name": "stdout",
     "output_type": "stream",
     "text": [
      "tensor([[1., 1., 1., 1.],\n",
      "        [0., 0., 0., 0.],\n",
      "        [1., 1., 1., 1.],\n",
      "        [1., 1., 1., 1.]]) \n",
      "\n",
      "tensor([[6., 6., 6., 6.],\n",
      "        [5., 5., 5., 5.],\n",
      "        [6., 6., 6., 6.],\n",
      "        [6., 6., 6., 6.]])\n"
     ]
    }
   ],
   "source": [
    "print(f\"{tensor} \\n\")\n",
    "tensor.add_(5)\n",
    "print(tensor)"
   ]
  },
  {
   "cell_type": "code",
   "execution_count": 27,
   "id": "bc82e12f-bb21-45d6-ad85-f26bc786908f",
   "metadata": {},
   "outputs": [
    {
     "name": "stdout",
     "output_type": "stream",
     "text": [
      "t: tensor([1., 1., 1., 1., 1.])\n",
      "n: [1. 1. 1. 1. 1.]\n"
     ]
    }
   ],
   "source": [
    "# Tensor to Numpy arrays\n",
    "\n",
    "t = torch.ones(5)\n",
    "print(f\"t: {t}\")\n",
    "n = t.numpy()\n",
    "print(f\"n: {n}\")"
   ]
  },
  {
   "cell_type": "code",
   "execution_count": 28,
   "id": "30b32819-9f90-4eae-aa96-c007577137ec",
   "metadata": {},
   "outputs": [
    {
     "name": "stdout",
     "output_type": "stream",
     "text": [
      "t: tensor([2., 2., 2., 2., 2.])\n",
      "n: [2. 2. 2. 2. 2.]\n"
     ]
    }
   ],
   "source": [
    "t.add_(1)\n",
    "print(f\"t: {t}\")\n",
    "print(f\"n: {n}\")"
   ]
  },
  {
   "cell_type": "code",
   "execution_count": 29,
   "id": "9a726d35-7aa7-46dd-8dd9-878b0f74c8d8",
   "metadata": {},
   "outputs": [],
   "source": [
    "n = np.ones(5)\n",
    "t = torch.from_numpy(n)"
   ]
  },
  {
   "cell_type": "code",
   "execution_count": 30,
   "id": "58c3e690-d019-44d8-a1f1-0f80cd0dfc57",
   "metadata": {},
   "outputs": [
    {
     "name": "stdout",
     "output_type": "stream",
     "text": [
      "t: tensor([2., 2., 2., 2., 2.], dtype=torch.float64)\n",
      "n: [2. 2. 2. 2. 2.]\n"
     ]
    }
   ],
   "source": [
    "np.add(n, 1, out=n)\n",
    "print(f\"t: {t}\")\n",
    "print(f\"n: {n}\")"
   ]
  },
  {
   "cell_type": "markdown",
   "id": "5cb4ba7c-0516-4bf7-b5cc-5550268863ab",
   "metadata": {
    "jp-MarkdownHeadingCollapsed": true,
    "tags": []
   },
   "source": [
    "# Datasets & DataLoaders"
   ]
  },
  {
   "cell_type": "code",
   "execution_count": 1,
   "id": "728d5281-e5c6-48c0-90d0-3fecc1d90b3c",
   "metadata": {},
   "outputs": [],
   "source": [
    "import torch\n",
    "from torch.utils.data import Dataset\n",
    "from torchvision import datasets\n",
    "from torchvision.transforms import ToTensor\n",
    "import matplotlib.pyplot as plt\n",
    "\n",
    "training_data = datasets.FashionMNIST( root = \"G:\\\\00_PyTorch & FastAI\\\\PyTorch\\\\data\",\n",
    "                                     train = True,\n",
    "                                     download = True,\n",
    "                                     transform = ToTensor()\n",
    "                                     )\n",
    "\n",
    "test_data = datasets.FashionMNIST( root = \"G:\\\\00_PyTorch & FastAI\\\\PyTorch\\\\data\",\n",
    "                                     train = False,\n",
    "                                     download = True,\n",
    "                                     transform = ToTensor()\n",
    "                                     )"
   ]
  },
  {
   "cell_type": "code",
   "execution_count": 2,
   "id": "d5688c0b-feaa-4037-b5b5-db49ebeb18ed",
   "metadata": {},
   "outputs": [
    {
     "data": {
      "image/png": "[encoded data removed]",
      "text/plain": [
       "<Figure size 576x576 with 9 Axes>"
      ]
     },
     "metadata": {
      "needs_background": "light"
     },
     "output_type": "display_data"
    }
   ],
   "source": [
    "labels_map = { \n",
    "    0: \"T-Shirt\",\n",
    "    1: \"Trouser\",\n",
    "    2: \"Pullover\",\n",
    "    3: \"Dress\",\n",
    "    4: \"Coat\",\n",
    "    5: \"Sandal\",\n",
    "    6: \"Shirt\",\n",
    "    7: \"Sneaker\",\n",
    "    8: \"Bag\",\n",
    "    9: \"Ankle Boot\",\n",
    "}\n",
    "\n",
    "figure = plt.figure(figsize=(8, 8))\n",
    "\n",
    "cols, rows = 3,3\n",
    "for i in range(1, cols*rows+1):\n",
    "    sample_idx = torch.randint(len(training_data), size = (1, )).item()\n",
    "    img, label = training_data[sample_idx]\n",
    "    figure.add_subplot(rows, cols, i)\n",
    "    plt.title(labels_map[label])\n",
    "    plt.axis(\"off\")\n",
    "    plt.imshow(img.squeeze(), cmap='gray')\n",
    "\n",
    "plt.show()"
   ]
  },
  {
   "cell_type": "code",
   "execution_count": 3,
   "id": "29f1d315-2990-4e76-bdbe-4af8006f6d2c",
   "metadata": {},
   "outputs": [
    {
     "data": {
      "text/plain": [
       "Text(0.5, 1.0, 'T-Shirt')"
      ]
     },
     "execution_count": 3,
     "metadata": {},
     "output_type": "execute_result"
    },
    {
     "data": {
      "image/png": "[encoded data removed]",
      "text/plain": [
       "<Figure size 432x288 with 1 Axes>"
      ]
     },
     "metadata": {
      "needs_background": "light"
     },
     "output_type": "display_data"
    }
   ],
   "source": [
    "img, label = training_data[101]\n",
    "plt.imshow(img.squeeze())\n",
    "plt.title(labels_map[label])"
   ]
  },
  {
   "cell_type": "code",
   "execution_count": 4,
   "id": "0e1af5be-5a27-47ab-b83e-fa3fcee6e9f4",
   "metadata": {},
   "outputs": [],
   "source": [
    "# Creating a Custom Dataset for your files\n",
    "\n",
    "import os\n",
    "import pandas as pd\n",
    "from torchvision.io import read_image\n",
    "\n",
    "class CustomImageDataset(Dataset):\n",
    "    def __init__(self, annotations_file, img_dir, transform = None, target_transform=None):\n",
    "        self.img_labels = pd.read_csv(annotations_file)\n",
    "        self.img_dir = img_dir\n",
    "        self.transform = transform\n",
    "        self.target_transform = target_transform\n",
    "    \n",
    "    def __len__(self):\n",
    "        return len(img_labels)\n",
    "    \n",
    "    def __getitem__(self, idx):\n",
    "        img_path = os.path.join(self.img_dir, self.img_labels.iloc[idx, 0])\n",
    "        image = read_image(img_path)\n",
    "        label = self.img_labels.iloc[idx, 1]\n",
    "        if self.transform:\n",
    "            image = self.transform(image)\n",
    "        if self.target_transform:\n",
    "            label = self.target_transform(label)\n",
    "        return image, label"
   ]
  },
  {
   "cell_type": "code",
   "execution_count": 5,
   "id": "9e2faa3c-f897-450e-b907-9b114b1d5c40",
   "metadata": {},
   "outputs": [
    {
     "data": {
      "text/plain": [
       "tensor([[[173, 173, 174,  ..., 168, 166, 164],\n",
       "         [177, 177, 177,  ..., 168, 166, 165],\n",
       "         [179, 179, 178,  ..., 168, 167, 166],\n",
       "         ...,\n",
       "         [ 98,  99,  98,  ...,  91,  94,  92],\n",
       "         [109, 104,  98,  ...,  87,  91,  86],\n",
       "         [105,  98,  90,  ...,  89,  88,  74]]], dtype=torch.uint8)"
      ]
     },
     "execution_count": 5,
     "metadata": {},
     "output_type": "execute_result"
    }
   ],
   "source": [
    "import torchvision\n",
    "torchvision.io.read_image(\"C:\\\\Users\\\\Nagendra.NAGENDRA\\\\Downloads\\\\cat.jpg\", mode= torchvision.io.image.ImageReadMode.GRAY)"
   ]
  },
  {
   "cell_type": "code",
   "execution_count": 6,
   "id": "555bb71d-4a69-4774-b0cc-495f8705b101",
   "metadata": {},
   "outputs": [],
   "source": [
    "# Preparing your data for training with DataLoaders\n",
    "\n",
    "from torch.utils.data import DataLoader\n",
    "\n",
    "train_dataloader = DataLoader(training_data, batch_size = 64, shuffle = True) \n",
    "test_dataloader = DataLoader(test_data, batch_size = 64, shuffle = True) "
   ]
  },
  {
   "cell_type": "code",
   "execution_count": 12,
   "id": "42b89f66-eb55-405e-8e83-1e24540e808e",
   "metadata": {},
   "outputs": [
    {
     "name": "stdout",
     "output_type": "stream",
     "text": [
      "Train batch shape: torch.Size([64, 1, 28, 28])\n",
      "Labels batch shape: torch.Size([64])\n"
     ]
    },
    {
     "data": {
      "image/png": "[encoded data removed]",
      "text/plain": [
       "<Figure size 432x288 with 1 Axes>"
      ]
     },
     "metadata": {
      "needs_background": "light"
     },
     "output_type": "display_data"
    },
    {
     "name": "stdout",
     "output_type": "stream",
     "text": [
      "Label: Dress\n"
     ]
    }
   ],
   "source": [
    "# Iterate through the DataLoader\n",
    "\n",
    "# Display image and label.\n",
    "train_features, train_labels = next(iter(train_dataloader))\n",
    "print(f\"Train batch shape: {train_features.size()}\")\n",
    "print(f\"Labels batch shape: {train_labels.size()}\")\n",
    "\n",
    "img = train_features[0].squeeze()\n",
    "label = train_labels[0]\n",
    "\n",
    "plt.imshow(img, cmap='gray')\n",
    "plt.show()\n",
    "print(f\"Label: {labels_map[label.item()]}\")"
   ]
  },
  {
   "cell_type": "markdown",
   "id": "980ab578-af57-49de-8bc8-79fdf6eabb4c",
   "metadata": {
    "jp-MarkdownHeadingCollapsed": true,
    "tags": []
   },
   "source": [
    "# Transforms"
   ]
  },
  {
   "cell_type": "code",
   "execution_count": 13,
   "id": "e77f29ff-2650-41d1-8c84-319d1d7270d3",
   "metadata": {},
   "outputs": [],
   "source": [
    "import torch\n",
    "from torchvision import datasets\n",
    "from torchvision.transforms import ToTensor, Lambda\n",
    "\n",
    "ds = datasets.FashionMNIST(root = 'G:\\\\00_PyTorch & FastAI\\\\PyTorch\\\\data',\n",
    "                          train = True,\n",
    "                          download = True,\n",
    "                          transform = ToTensor(),\n",
    "                          target_transform = Lambda(lambda y: torch.zeros(10, dtype=torch.float32).scatter_(0, torch.tensor(y), value=1))\n",
    "                         )\n"
   ]
  },
  {
   "cell_type": "code",
   "execution_count": 14,
   "id": "fd673933-8892-4a52-bf21-01136da13b9c",
   "metadata": {},
   "outputs": [
    {
     "data": {
      "text/plain": [
       "tensor([0., 0., 0., 1., 0.])"
      ]
     },
     "execution_count": 14,
     "metadata": {},
     "output_type": "execute_result"
    }
   ],
   "source": [
    "torch.zeros(5, dtype=torch.float).scatter_(0, torch.tensor(3), value=1)"
   ]
  },
  {
   "cell_type": "code",
   "execution_count": 17,
   "id": "8270e61c-54bd-474d-947f-c3b75492de31",
   "metadata": {},
   "outputs": [
    {
     "data": {
      "text/plain": [
       "tensor([0., 0., 0., 1., 0.])"
      ]
     },
     "execution_count": 17,
     "metadata": {},
     "output_type": "execute_result"
    }
   ],
   "source": [
    "torch.zeros(5, dtype=torch.float).scatter_(0, torch.tensor(3), 1)"
   ]
  },
  {
   "cell_type": "markdown",
   "id": "2fa9155f-c420-4ff2-87b4-2f4a5ba4a011",
   "metadata": {
    "jp-MarkdownHeadingCollapsed": true,
    "tags": []
   },
   "source": [
    "# Build the Neural Network"
   ]
  },
  {
   "cell_type": "code",
   "execution_count": 18,
   "id": "da252faf-d653-43b0-89e7-ede5a5324fb5",
   "metadata": {},
   "outputs": [],
   "source": [
    "import os\n",
    "import torch\n",
    "from torch import nn\n",
    "from torch.utils.data import DataLoader\n",
    "from torchvision import datasets, transforms"
   ]
  },
  {
   "cell_type": "code",
   "execution_count": 20,
   "id": "19e74eaf-be97-4a1f-a77a-a088e41c477c",
   "metadata": {},
   "outputs": [
    {
     "name": "stdout",
     "output_type": "stream",
     "text": [
      "Using cpu device\n"
     ]
    }
   ],
   "source": [
    "device = \"cuda\" if torch.cuda.is_available() else \"cpu\"\n",
    "print(f\"Using {device} device\")"
   ]
  },
  {
   "cell_type": "code",
   "execution_count": 21,
   "id": "20050648-1d63-491b-a93e-99c835519174",
   "metadata": {},
   "outputs": [],
   "source": [
    "class NeuralNetwork(nn.Module):\n",
    "    def __init__(self):\n",
    "        super(NeuralNetwork, self).__init__()\n",
    "        self.flatten = nn.Flatten()\n",
    "        self.linear_relu_stack = nn.Sequential(\n",
    "            nn.Linear(28*28, 512),\n",
    "            nn.ReLU(),\n",
    "            nn.Linear(512, 512),\n",
    "            nn.ReLU(),\n",
    "            nn.Linear(512, 10),\n",
    "        )\n",
    "        \n",
    "    def forward(self, x):\n",
    "        x = self.flatten(x)\n",
    "        logits = self.linear_relu_stack(x)\n",
    "        return logits"
   ]
  },
  {
   "cell_type": "code",
   "execution_count": 22,
   "id": "23f90fba-7d9b-4a00-90c3-1e81e869f6f2",
   "metadata": {},
   "outputs": [
    {
     "name": "stdout",
     "output_type": "stream",
     "text": [
      "NeuralNetwork(\n",
      "  (flatten): Flatten(start_dim=1, end_dim=-1)\n",
      "  (linear_relu_stack): Sequential(\n",
      "    (0): Linear(in_features=784, out_features=512, bias=True)\n",
      "    (1): ReLU()\n",
      "    (2): Linear(in_features=512, out_features=512, bias=True)\n",
      "    (3): ReLU()\n",
      "    (4): Linear(in_features=512, out_features=10, bias=True)\n",
      "  )\n",
      ")\n"
     ]
    }
   ],
   "source": [
    "model = NeuralNetwork().to(device)\n",
    "print(model)"
   ]
  },
  {
   "cell_type": "code",
   "execution_count": 23,
   "id": "934462ea-cb26-4b87-acf7-32a350e96e34",
   "metadata": {},
   "outputs": [
    {
     "name": "stdout",
     "output_type": "stream",
     "text": [
      "Predicted Class: tensor([1])\n"
     ]
    }
   ],
   "source": [
    "X = torch.rand(1,28,28, device=device)\n",
    "logits = model(X)\n",
    "\n",
    "pred_probab = nn.Softmax(dim=1)(logits)\n",
    "y_pred = pred_probab.argmax(1)\n",
    "print(f\"Predicted Class: {y_pred}\")"
   ]
  },
  {
   "cell_type": "code",
   "execution_count": 24,
   "id": "cc6f400f-8ce3-414e-8d0a-ef6e02a68d2f",
   "metadata": {},
   "outputs": [
    {
     "name": "stdout",
     "output_type": "stream",
     "text": [
      "torch.Size([3, 28, 28])\n"
     ]
    }
   ],
   "source": [
    "input_image = torch.rand(3,28,28)\n",
    "print(input_image.size())"
   ]
  },
  {
   "cell_type": "code",
   "execution_count": 25,
   "id": "9ed4e18b-8ec9-456f-baa4-3bd050746fd4",
   "metadata": {},
   "outputs": [
    {
     "name": "stdout",
     "output_type": "stream",
     "text": [
      "Flat image size: torch.Size([3, 784])\n"
     ]
    }
   ],
   "source": [
    "flatten = nn.Flatten()\n",
    "flat_image = flatten(input_image)\n",
    "\n",
    "print(f\"Flat image size: {flat_image.size()}\")"
   ]
  },
  {
   "cell_type": "code",
   "execution_count": 27,
   "id": "3743bd75-18d8-41ca-b4d5-ef121c83595e",
   "metadata": {},
   "outputs": [
    {
     "name": "stdout",
     "output_type": "stream",
     "text": [
      "torch.Size([3, 20])\n"
     ]
    }
   ],
   "source": [
    "layer1 = nn.Linear(in_features = 28*28, out_features = 20)\n",
    "hidden1 = layer1(flat_image)\n",
    "\n",
    "print(f\"{hidden1.size()}\")"
   ]
  },
  {
   "cell_type": "code",
   "execution_count": 28,
   "id": "f69ca946-4222-44f9-9e7b-d51f718829bd",
   "metadata": {},
   "outputs": [
    {
     "name": "stdout",
     "output_type": "stream",
     "text": [
      "Before ReLU: tensor([[ 0.3842,  0.1771,  0.0697, -0.5304, -0.3646, -0.0666, -0.0762,  0.2758,\n",
      "          0.8138, -0.1521,  0.2493,  0.2893, -0.5112, -0.2202,  0.5024, -0.1550,\n",
      "          0.0510, -0.0016, -0.1854, -0.1344],\n",
      "        [ 0.2252, -0.0057, -0.0327, -0.3983, -0.2579, -0.0787, -0.3225,  0.1913,\n",
      "          0.5187,  0.4025,  0.1984,  0.4030, -0.2518, -0.1019,  0.2126, -0.1858,\n",
      "         -0.2120, -0.0968, -0.0892, -0.2446],\n",
      "        [ 0.2035, -0.0386, -0.0600, -0.3140, -0.4172, -0.4250, -0.0102,  0.1532,\n",
      "          0.4545, -0.1264,  0.3357,  0.2629, -0.7445, -0.2343,  0.2864, -0.2789,\n",
      "         -0.2167, -0.1842, -0.0140, -0.3360]], grad_fn=<AddmmBackward0>) \n",
      "\n",
      "\n",
      "After ReLU: tensor([[0.3842, 0.1771, 0.0697, 0.0000, 0.0000, 0.0000, 0.0000, 0.2758, 0.8138,\n",
      "         0.0000, 0.2493, 0.2893, 0.0000, 0.0000, 0.5024, 0.0000, 0.0510, 0.0000,\n",
      "         0.0000, 0.0000],\n",
      "        [0.2252, 0.0000, 0.0000, 0.0000, 0.0000, 0.0000, 0.0000, 0.1913, 0.5187,\n",
      "         0.4025, 0.1984, 0.4030, 0.0000, 0.0000, 0.2126, 0.0000, 0.0000, 0.0000,\n",
      "         0.0000, 0.0000],\n",
      "        [0.2035, 0.0000, 0.0000, 0.0000, 0.0000, 0.0000, 0.0000, 0.1532, 0.4545,\n",
      "         0.0000, 0.3357, 0.2629, 0.0000, 0.0000, 0.2864, 0.0000, 0.0000, 0.0000,\n",
      "         0.0000, 0.0000]], grad_fn=<ReluBackward0>)\n"
     ]
    }
   ],
   "source": [
    "print(f\"Before ReLU: {hidden1} \\n\\n\")\n",
    "hidden1 =nn.ReLU()(hidden1)\n",
    "print(f\"After ReLU: {hidden1}\")"
   ]
  },
  {
   "cell_type": "code",
   "execution_count": 29,
   "id": "f88503a7-8557-4245-b2a9-8f89c879db6c",
   "metadata": {},
   "outputs": [],
   "source": [
    "seq_modules = nn.Sequential(\n",
    "    flatten,\n",
    "    layer1,\n",
    "    nn.ReLU(),\n",
    "    nn.Linear(20,10)\n",
    ")\n",
    "\n",
    "input_image = torch.rand(3,28,28)\n",
    "logits = seq_modules(input_image)"
   ]
  },
  {
   "cell_type": "code",
   "execution_count": 33,
   "id": "160f63cc-e73a-4daf-9be3-f26db138f34d",
   "metadata": {},
   "outputs": [],
   "source": [
    "softmax = nn.Softmax(dim=1)\n",
    "pred_prbab = softmax(logits)"
   ]
  },
  {
   "cell_type": "code",
   "execution_count": 34,
   "id": "b830fe5c-7736-4c22-930a-2cb7a4ee8a55",
   "metadata": {},
   "outputs": [
    {
     "name": "stdout",
     "output_type": "stream",
     "text": [
      "Model Structure: NeuralNetwork(\n",
      "  (flatten): Flatten(start_dim=1, end_dim=-1)\n",
      "  (linear_relu_stack): Sequential(\n",
      "    (0): Linear(in_features=784, out_features=512, bias=True)\n",
      "    (1): ReLU()\n",
      "    (2): Linear(in_features=512, out_features=512, bias=True)\n",
      "    (3): ReLU()\n",
      "    (4): Linear(in_features=512, out_features=10, bias=True)\n",
      "  )\n",
      ") \n",
      "\n",
      "\n",
      "Layer: linear_relu_stack.0.weight | Size: torch.Size([512, 784]) | Values: tensor([[-1.6410e-02, -3.3851e-02,  1.9320e-02,  ...,  3.1226e-02,\n",
      "          2.3546e-02, -3.2419e-02],\n",
      "        [-2.4891e-02,  3.0946e-03,  1.3534e-02,  ..., -6.0979e-04,\n",
      "         -9.8816e-03,  3.3312e-05]], grad_fn=<SliceBackward0>) \n",
      "\n",
      "Layer: linear_relu_stack.0.bias | Size: torch.Size([512]) | Values: tensor([-0.0301, -0.0062], grad_fn=<SliceBackward0>) \n",
      "\n",
      "Layer: linear_relu_stack.2.weight | Size: torch.Size([512, 512]) | Values: tensor([[ 1.3005e-02,  2.9696e-02,  2.9156e-02,  ..., -3.1827e-03,\n",
      "         -3.8572e-02, -3.8852e-02],\n",
      "        [ 4.0782e-02, -8.2074e-03,  1.0768e-03,  ...,  3.0532e-02,\n",
      "         -9.0215e-03, -7.2155e-05]], grad_fn=<SliceBackward0>) \n",
      "\n",
      "Layer: linear_relu_stack.2.bias | Size: torch.Size([512]) | Values: tensor([ 0.0391, -0.0206], grad_fn=<SliceBackward0>) \n",
      "\n",
      "Layer: linear_relu_stack.4.weight | Size: torch.Size([10, 512]) | Values: tensor([[ 0.0425, -0.0208, -0.0193,  ..., -0.0043,  0.0151,  0.0388],\n",
      "        [-0.0394,  0.0140,  0.0027,  ...,  0.0288, -0.0187,  0.0150]],\n",
      "       grad_fn=<SliceBackward0>) \n",
      "\n",
      "Layer: linear_relu_stack.4.bias | Size: torch.Size([10]) | Values: tensor([-0.0024, -0.0282], grad_fn=<SliceBackward0>) \n",
      "\n"
     ]
    }
   ],
   "source": [
    "print(f\"Model Structure: {model} \\n\\n\")\n",
    "\n",
    "for name, param in model.named_parameters():\n",
    "    print(f\"Layer: {name} | Size: {param.size()} | Values: {param[:2]} \\n\")"
   ]
  },
  {
   "cell_type": "markdown",
   "id": "26aed7b7-0f79-49b7-9f78-59d57c2f1ff1",
   "metadata": {
    "jp-MarkdownHeadingCollapsed": true,
    "tags": []
   },
   "source": [
    "# Autograd"
   ]
  },
  {
   "cell_type": "code",
   "execution_count": 2,
   "id": "b4da2231-e1c7-44a1-8c12-fc74d73b163b",
   "metadata": {},
   "outputs": [],
   "source": [
    "import torch\n",
    "\n",
    "x = torch.ones(5)\n",
    "y = torch.zeros(3)\n",
    "w = torch.rand(5, 3, requires_grad = True)\n",
    "b = torch.rand(3, requires_grad = True)\n",
    "z = torch.matmul(x, w) + b\n",
    "loss = torch.nn.functional.binary_cross_entropy_with_logits(z, y)"
   ]
  },
  {
   "attachments": {
    "8e3da7a7-ca3f-4359-9e95-75361d0f8bda.png": {
     "image/png": "[encoded data removed]"
    }
   },
   "cell_type": "markdown",
   "id": "0ad4f2af-2247-4d6e-90ba-695731530a29",
   "metadata": {},
   "source": [
    "![image.png](attachment:8e3da7a7-ca3f-4359-9e95-75361d0f8bda.png)"
   ]
  },
  {
   "attachments": {
    "4b4941e7-8d0e-48d3-a700-8bd321914557.png": {
     "image/png": "[encoded data removed]"
    }
   },
   "cell_type": "markdown",
   "id": "1dca4e7c-dc5f-4041-ab91-9bd3d226a70a",
   "metadata": {},
   "source": [
    "![image.png](attachment:4b4941e7-8d0e-48d3-a700-8bd321914557.png)"
   ]
  },
  {
   "cell_type": "code",
   "execution_count": 3,
   "id": "f7de954e-dcf6-4da9-8e92-024044f73ce7",
   "metadata": {},
   "outputs": [
    {
     "name": "stdout",
     "output_type": "stream",
     "text": [
      "Gradient function for z: <AddBackward0 object at 0x00000186117E0D90>\n",
      "Gradient function for loss: <BinaryCrossEntropyWithLogitsBackward0 object at 0x00000186129D8D60>\n"
     ]
    }
   ],
   "source": [
    "print(f\"Gradient function for z: {z.grad_fn}\")\n",
    "print(f\"Gradient function for loss: {loss.grad_fn}\")"
   ]
  },
  {
   "cell_type": "code",
   "execution_count": 4,
   "id": "afa35d26-ed73-4297-a00d-e837069440e5",
   "metadata": {},
   "outputs": [
    {
     "name": "stdout",
     "output_type": "stream",
     "text": [
      "tensor([[0.3283, 0.3068, 0.3207],\n",
      "        [0.3283, 0.3068, 0.3207],\n",
      "        [0.3283, 0.3068, 0.3207],\n",
      "        [0.3283, 0.3068, 0.3207],\n",
      "        [0.3283, 0.3068, 0.3207]])\n",
      "tensor([0.3283, 0.3068, 0.3207])\n"
     ]
    }
   ],
   "source": [
    "loss.backward()\n",
    "\n",
    "print(w.grad)\n",
    "print(b.grad)"
   ]
  },
  {
   "attachments": {
    "55c80c6b-c72c-4096-955d-a8870cd19eff.png": {
     "image/png": "[encoded data removed]"
    }
   },
   "cell_type": "markdown",
   "id": "4f732aa1-e6e9-4cec-9edc-3650f73ab581",
   "metadata": {},
   "source": [
    "![image.png](attachment:55c80c6b-c72c-4096-955d-a8870cd19eff.png)"
   ]
  },
  {
   "cell_type": "code",
   "execution_count": 5,
   "id": "1eccd101-df71-4ce5-82c9-452913e86839",
   "metadata": {},
   "outputs": [
    {
     "name": "stdout",
     "output_type": "stream",
     "text": [
      "True\n",
      "False\n"
     ]
    }
   ],
   "source": [
    "z = torch.matmul(x, w) + b\n",
    "print(z.requires_grad)\n",
    "\n",
    "with torch.no_grad():\n",
    "    z = torch.matmul(x, w) + b\n",
    "\n",
    "print(z.requires_grad)"
   ]
  },
  {
   "cell_type": "code",
   "execution_count": 7,
   "id": "1611aed8-0669-41fb-b8f5-1e4433e642f8",
   "metadata": {},
   "outputs": [
    {
     "name": "stdout",
     "output_type": "stream",
     "text": [
      "False\n"
     ]
    }
   ],
   "source": [
    "# Another way to achieve the same result is to use the detach() method on the tensor\n",
    "\n",
    "z = torch.matmul(x, w) + b\n",
    "z_det = z.detach()\n",
    "print(z_det.requires_grad)"
   ]
  },
  {
   "cell_type": "code",
   "execution_count": 8,
   "id": "a789d9d0-4fa3-405f-992c-75885039997a",
   "metadata": {},
   "outputs": [
    {
     "name": "stdout",
     "output_type": "stream",
     "text": [
      "First Call: \n",
      " tensor([[4., 2., 2., 2., 2.],\n",
      "        [2., 4., 2., 2., 2.],\n",
      "        [2., 2., 4., 2., 2.],\n",
      "        [2., 2., 2., 4., 2.],\n",
      "        [2., 2., 2., 2., 4.]])\n",
      "Second Call: \n",
      " tensor([[8., 4., 4., 4., 4.],\n",
      "        [4., 8., 4., 4., 4.],\n",
      "        [4., 4., 8., 4., 4.],\n",
      "        [4., 4., 4., 8., 4.],\n",
      "        [4., 4., 4., 4., 8.]])\n",
      "Call after Zeroing gradients: \n",
      " tensor([[4., 2., 2., 2., 2.],\n",
      "        [2., 4., 2., 2., 2.],\n",
      "        [2., 2., 4., 2., 2.],\n",
      "        [2., 2., 2., 4., 2.],\n",
      "        [2., 2., 2., 2., 4.]])\n"
     ]
    }
   ],
   "source": [
    "inp = torch.eye(5, requires_grad = True)\n",
    "out = (inp + 1).pow(2)\n",
    "out.backward(torch.ones_like(inp), retain_graph = True)\n",
    "print(f\"First Call: \\n {inp.grad}\")\n",
    "out.backward(torch.ones_like(inp), retain_graph = True)\n",
    "print(f\"Second Call: \\n {inp.grad}\")\n",
    "inp.grad.zero_()\n",
    "out.backward(torch.ones_like(inp), retain_graph = True)\n",
    "print(f\"Call after Zeroing gradients: \\n {inp.grad}\")"
   ]
  },
  {
   "cell_type": "markdown",
   "id": "5884e0af-84f3-4648-a1c3-7dec7b62d4d0",
   "metadata": {
    "jp-MarkdownHeadingCollapsed": true,
    "tags": []
   },
   "source": [
    "# Optimizing Model Parameters"
   ]
  },
  {
   "cell_type": "code",
   "execution_count": 10,
   "id": "1b08443a-f4a7-493e-8791-1ef6665281cb",
   "metadata": {},
   "outputs": [],
   "source": [
    "# Prerequisite Code\n",
    "\n",
    "import torch\n",
    "from torch import nn\n",
    "from torch.utils.data import DataLoader\n",
    "from torchvision import datasets\n",
    "from torchvision.transforms import ToTensor, Lambda\n",
    "\n",
    "\n",
    "training_data = datasets.FashionMNIST(root = 'G:\\\\00_PyTorch & FastAI\\\\PyTorch\\\\data',\n",
    "                                      train = True,\n",
    "                                      download = True,\n",
    "                                      transform = ToTensor()\n",
    "                                     )\n",
    "\n",
    "test_data = datasets.FashionMNIST(root = 'G:\\\\00_PyTorch & FastAI\\\\PyTorch\\\\data',\n",
    "                                  train = False,\n",
    "                                  download = True,\n",
    "                                  transform = ToTensor()\n",
    "                                 )\n",
    "\n",
    "train_dataloader = DataLoader(training_data, batch_size = 64)\n",
    "test_dataloader = DataLoader(test_data, batch_size = 64)\n",
    "\n",
    "class NeuralNetwork(nn.Module):\n",
    "    def __init__(self):\n",
    "        super(NeuralNetwork, self).__init__()\n",
    "        self.flatten = nn.Flatten()\n",
    "        self.linear_relu_stack = nn.Sequential(nn.Linear(28*28, 512),\n",
    "                                               nn.ReLU(),\n",
    "                                               nn.Linear(512, 512),\n",
    "                                               nn.ReLU(),\n",
    "                                               nn.Linear(512, 10),\n",
    "                                              )\n",
    "    def forward(self, x):\n",
    "        x = self.flatten(x)\n",
    "        logits = self.linear_relu_stack(x)\n",
    "        return logits\n",
    "        \n",
    "model = NeuralNetwork()"
   ]
  },
  {
   "cell_type": "code",
   "execution_count": 11,
   "id": "fd656788-cf91-4feb-abce-bafd3fc6578c",
   "metadata": {},
   "outputs": [],
   "source": [
    "# Hyperparameters\n",
    "\n",
    "learning_rate = 1e-2\n",
    "batch_size = 64\n",
    "epochs = 5"
   ]
  },
  {
   "cell_type": "code",
   "execution_count": 12,
   "id": "41572714-71b8-4430-9c2f-c74cddc7418d",
   "metadata": {},
   "outputs": [],
   "source": [
    "# Initialize the loss function\n",
    "\n",
    "loss_fn = nn.CrossEntropyLoss()"
   ]
  },
  {
   "cell_type": "code",
   "execution_count": 13,
   "id": "c4f28ae2-fcef-4459-8762-004e025fc5bc",
   "metadata": {},
   "outputs": [],
   "source": [
    "optimizer = torch.optim.SGD(model.parameters(), lr = learning_rate)"
   ]
  },
  {
   "cell_type": "code",
   "execution_count": 21,
   "id": "1feefcc1-164a-4998-94c7-ff08820c6f0c",
   "metadata": {},
   "outputs": [],
   "source": [
    "# Full implementation\n",
    "\n",
    "def train_loop(dataloader, model, loss_fn, optimizer):\n",
    "    size = len(dataloader.dataset)\n",
    "    for batch, (X, y) in enumerate(dataloader):\n",
    "        pred = model(X)\n",
    "        loss = loss_fn(pred, y)\n",
    "        \n",
    "        optimizer.zero_grad()\n",
    "        loss.backward()\n",
    "        optimizer.step()\n",
    "        \n",
    "        if batch % 100 == 0:\n",
    "            loss, current = loss.item(), batch*len(X)\n",
    "            print(f\"loss: {loss:>7f} [{current:>5d}|{size:>5d}]\")\n",
    "            \n",
    "def test_loop(dataloader, model, loss_fn):\n",
    "    size = len(dataloader.dataset)\n",
    "    num_batches = len(dataloader)\n",
    "    test_loss, correct = 0, 0\n",
    "    \n",
    "    with torch.no_grad():\n",
    "        for X, y in dataloader:\n",
    "            pred = model(X)\n",
    "            test_loss = test_loss + loss_fn(pred, y).item()\n",
    "            correct = correct + (pred.argmax(1) == y).type(torch.float).sum().item()\n",
    "    \n",
    "    test_loss = test_loss / num_batches\n",
    "    correct = correct/size\n",
    "    \n",
    "    print(f\"Test Error: \\n Accuracy: {(100*correct):>0.1f}%, Avg loss: {test_loss:>8f}\\n\")"
   ]
  },
  {
   "cell_type": "code",
   "execution_count": 16,
   "id": "1e8a6b98-66e7-4cdb-a4ee-b4e3a8480347",
   "metadata": {},
   "outputs": [
    {
     "data": {
      "text/plain": [
       "10000"
      ]
     },
     "execution_count": 16,
     "metadata": {},
     "output_type": "execute_result"
    }
   ],
   "source": [
    "len(test_dataloader.dataset)"
   ]
  },
  {
   "cell_type": "code",
   "execution_count": 18,
   "id": "28069fca-3955-49ba-963d-5f563b468cdb",
   "metadata": {},
   "outputs": [
    {
     "data": {
      "text/plain": [
       "938"
      ]
     },
     "execution_count": 18,
     "metadata": {},
     "output_type": "execute_result"
    }
   ],
   "source": [
    "len(train_dataloader)"
   ]
  },
  {
   "cell_type": "code",
   "execution_count": 19,
   "id": "99d8bbae-d690-400f-ae8b-16408150ce35",
   "metadata": {},
   "outputs": [
    {
     "data": {
      "text/plain": [
       "60032"
      ]
     },
     "execution_count": 19,
     "metadata": {},
     "output_type": "execute_result"
    }
   ],
   "source": [
    "938*64"
   ]
  },
  {
   "cell_type": "code",
   "execution_count": 22,
   "id": "0aeffd4c-b227-4119-9be1-9350a445fc06",
   "metadata": {},
   "outputs": [
    {
     "name": "stdout",
     "output_type": "stream",
     "text": [
      "Epoch 1 \n",
      " ------------------------- \n",
      "loss: 2.291653 [    0|60000]\n",
      "loss: 2.173626 [ 6400|60000]\n",
      "loss: 1.829294 [12800|60000]\n",
      "loss: 1.526811 [19200|60000]\n",
      "loss: 1.175309 [25600|60000]\n",
      "loss: 1.051429 [32000|60000]\n",
      "loss: 1.005274 [38400|60000]\n",
      "loss: 0.877789 [44800|60000]\n",
      "loss: 0.873783 [51200|60000]\n",
      "loss: 0.824168 [57600|60000]\n",
      "Test Error: \n",
      " Accuracy: 71.5%, Avg loss: 0.800481\n",
      "\n",
      "Epoch 2 \n",
      " ------------------------- \n",
      "loss: 0.798373 [    0|60000]\n",
      "loss: 0.860771 [ 6400|60000]\n",
      "loss: 0.599307 [12800|60000]\n",
      "loss: 0.782846 [19200|60000]\n",
      "loss: 0.663179 [25600|60000]\n",
      "loss: 0.628183 [32000|60000]\n",
      "loss: 0.705913 [38400|60000]\n",
      "loss: 0.683259 [44800|60000]\n",
      "loss: 0.699458 [51200|60000]\n",
      "loss: 0.643782 [57600|60000]\n",
      "Test Error: \n",
      " Accuracy: 77.9%, Avg loss: 0.636524\n",
      "\n",
      "Epoch 3 \n",
      " ------------------------- \n",
      "loss: 0.559398 [    0|60000]\n",
      "loss: 0.662684 [ 6400|60000]\n",
      "loss: 0.445734 [12800|60000]\n",
      "loss: 0.660551 [19200|60000]\n",
      "loss: 0.581518 [25600|60000]\n",
      "loss: 0.547902 [32000|60000]\n",
      "loss: 0.583329 [38400|60000]\n",
      "loss: 0.638945 [44800|60000]\n",
      "loss: 0.666684 [51200|60000]\n",
      "loss: 0.547823 [57600|60000]\n",
      "Test Error: \n",
      " Accuracy: 79.8%, Avg loss: 0.572447\n",
      "\n",
      "Epoch 4 \n",
      " ------------------------- \n",
      "loss: 0.463993 [    0|60000]\n",
      "loss: 0.574201 [ 6400|60000]\n",
      "loss: 0.385654 [12800|60000]\n",
      "loss: 0.593247 [19200|60000]\n",
      "loss: 0.532116 [25600|60000]\n",
      "loss: 0.510123 [32000|60000]\n",
      "loss: 0.526067 [38400|60000]\n",
      "loss: 0.642143 [44800|60000]\n",
      "loss: 0.649125 [51200|60000]\n",
      "loss: 0.484781 [57600|60000]\n",
      "Test Error: \n",
      " Accuracy: 80.7%, Avg loss: 0.542108\n",
      "\n",
      "Epoch 5 \n",
      " ------------------------- \n",
      "loss: 0.408344 [    0|60000]\n",
      "loss: 0.530692 [ 6400|60000]\n",
      "loss: 0.352723 [12800|60000]\n",
      "loss: 0.550647 [19200|60000]\n",
      "loss: 0.493738 [25600|60000]\n",
      "loss: 0.481094 [32000|60000]\n",
      "loss: 0.493175 [38400|60000]\n",
      "loss: 0.641837 [44800|60000]\n",
      "loss: 0.628317 [51200|60000]\n",
      "loss: 0.446494 [57600|60000]\n",
      "Test Error: \n",
      " Accuracy: 81.1%, Avg loss: 0.522575\n",
      "\n",
      "Epoch 6 \n",
      " ------------------------- \n",
      "loss: 0.369387 [    0|60000]\n",
      "loss: 0.505308 [ 6400|60000]\n",
      "loss: 0.329454 [12800|60000]\n",
      "loss: 0.523103 [19200|60000]\n",
      "loss: 0.467097 [25600|60000]\n",
      "loss: 0.459441 [32000|60000]\n",
      "loss: 0.471192 [38400|60000]\n",
      "loss: 0.631071 [44800|60000]\n",
      "loss: 0.608462 [51200|60000]\n",
      "loss: 0.424985 [57600|60000]\n",
      "Test Error: \n",
      " Accuracy: 81.6%, Avg loss: 0.508013\n",
      "\n",
      "Epoch 7 \n",
      " ------------------------- \n",
      "loss: 0.339572 [    0|60000]\n",
      "loss: 0.486887 [ 6400|60000]\n",
      "loss: 0.311575 [12800|60000]\n",
      "loss: 0.505089 [19200|60000]\n",
      "loss: 0.447147 [25600|60000]\n",
      "loss: 0.445272 [32000|60000]\n",
      "loss: 0.454159 [38400|60000]\n",
      "loss: 0.617607 [44800|60000]\n",
      "loss: 0.591045 [51200|60000]\n",
      "loss: 0.412885 [57600|60000]\n",
      "Test Error: \n",
      " Accuracy: 82.0%, Avg loss: 0.495760\n",
      "\n",
      "Epoch 8 \n",
      " ------------------------- \n",
      "loss: 0.316335 [    0|60000]\n",
      "loss: 0.472271 [ 6400|60000]\n",
      "loss: 0.297102 [12800|60000]\n",
      "loss: 0.492398 [19200|60000]\n",
      "loss: 0.430656 [25600|60000]\n",
      "loss: 0.434908 [32000|60000]\n",
      "loss: 0.441162 [38400|60000]\n",
      "loss: 0.603378 [44800|60000]\n",
      "loss: 0.575327 [51200|60000]\n",
      "loss: 0.404623 [57600|60000]\n",
      "Test Error: \n",
      " Accuracy: 82.5%, Avg loss: 0.485824\n",
      "\n",
      "Epoch 9 \n",
      " ------------------------- \n",
      "loss: 0.299093 [    0|60000]\n",
      "loss: 0.459953 [ 6400|60000]\n",
      "loss: 0.285569 [12800|60000]\n",
      "loss: 0.481672 [19200|60000]\n",
      "loss: 0.414839 [25600|60000]\n",
      "loss: 0.427270 [32000|60000]\n",
      "loss: 0.428885 [38400|60000]\n",
      "loss: 0.589974 [44800|60000]\n",
      "loss: 0.562556 [51200|60000]\n",
      "loss: 0.397713 [57600|60000]\n",
      "Test Error: \n",
      " Accuracy: 82.8%, Avg loss: 0.476252\n",
      "\n",
      "Epoch 10 \n",
      " ------------------------- \n",
      "loss: 0.286272 [    0|60000]\n",
      "loss: 0.448266 [ 6400|60000]\n",
      "loss: 0.276391 [12800|60000]\n",
      "loss: 0.472894 [19200|60000]\n",
      "loss: 0.400321 [25600|60000]\n",
      "loss: 0.419903 [32000|60000]\n",
      "loss: 0.418005 [38400|60000]\n",
      "loss: 0.578547 [44800|60000]\n",
      "loss: 0.550833 [51200|60000]\n",
      "loss: 0.391788 [57600|60000]\n",
      "Test Error: \n",
      " Accuracy: 83.2%, Avg loss: 0.467447\n",
      "\n",
      "Done!\n"
     ]
    }
   ],
   "source": [
    "epochs = 10\n",
    "\n",
    "for t in range(epochs):\n",
    "    print(f\"Epoch {t+1} \\n ------------------------- \")\n",
    "    train_loop(train_dataloader, model, loss_fn, optimizer)\n",
    "    test_loop(test_dataloader, model, loss_fn)\n",
    "print(\"Done!\")"
   ]
  },
  {
   "cell_type": "markdown",
   "id": "9acb615d-c8ca-4990-85c8-c09c33ee7423",
   "metadata": {
    "jp-MarkdownHeadingCollapsed": true,
    "tags": []
   },
   "source": [
    "# Save and Load the Model"
   ]
  },
  {
   "cell_type": "code",
   "execution_count": 23,
   "id": "9f144979-8431-436b-a4c7-58c8f3959818",
   "metadata": {},
   "outputs": [],
   "source": [
    "import torch\n",
    "import torchvision.models as models"
   ]
  },
  {
   "cell_type": "code",
   "execution_count": 24,
   "id": "f3ceed5d-6741-484a-9e7c-48bdfa1d92d3",
   "metadata": {},
   "outputs": [
    {
     "name": "stderr",
     "output_type": "stream",
     "text": [
      "c:\\users\\nagendra.nagendra\\appdata\\local\\programs\\python\\python39\\lib\\site-packages\\torchvision\\models\\_utils.py:208: UserWarning: The parameter 'pretrained' is deprecated since 0.13 and will be removed in 0.15, please use 'weights' instead.\n",
      "  warnings.warn(\n",
      "c:\\users\\nagendra.nagendra\\appdata\\local\\programs\\python\\python39\\lib\\site-packages\\torchvision\\models\\_utils.py:223: UserWarning: Arguments other than a weight enum or `None` for 'weights' are deprecated since 0.13 and will be removed in 0.15. The current behavior is equivalent to passing `weights=VGG16_Weights.IMAGENET1K_V1`. You can also use `weights=VGG16_Weights.DEFAULT` to get the most up-to-date weights.\n",
      "  warnings.warn(msg)\n",
      "Downloading: \"https://download.pytorch.org/models/vgg16-397923af.pth\" to C:\\Users\\Nagendra.NAGENDRA/.cache\\torch\\hub\\checkpoints\\vgg16-397923af.pth\n"
     ]
    },
    {
     "data": {
      "application/vnd.jupyter.widget-view+json": {
       "model_id": "aac6ee0a04b5492091236a0d6d1e2e8e",
       "version_major": 2,
       "version_minor": 0
      },
      "text/plain": [
       "  0%|          | 0.00/528M [00:00<?, ?B/s]"
      ]
     },
     "metadata": {},
     "output_type": "display_data"
    }
   ],
   "source": [
    "model = models.vgg16(pretrained = True)\n",
    "torch.save(model.state_dict(), 'G:\\\\00_PyTorch & FastAI\\\\PyTorch\\\\Saved Models\\\\model_weights.pth')"
   ]
  },
  {
   "cell_type": "code",
   "execution_count": 26,
   "id": "96342b25-bf73-4d37-8910-5015f791056c",
   "metadata": {},
   "outputs": [
    {
     "data": {
      "text/plain": [
       "VGG(\n",
       "  (features): Sequential(\n",
       "    (0): Conv2d(3, 64, kernel_size=(3, 3), stride=(1, 1), padding=(1, 1))\n",
       "    (1): ReLU(inplace=True)\n",
       "    (2): Conv2d(64, 64, kernel_size=(3, 3), stride=(1, 1), padding=(1, 1))\n",
       "    (3): ReLU(inplace=True)\n",
       "    (4): MaxPool2d(kernel_size=2, stride=2, padding=0, dilation=1, ceil_mode=False)\n",
       "    (5): Conv2d(64, 128, kernel_size=(3, 3), stride=(1, 1), padding=(1, 1))\n",
       "    (6): ReLU(inplace=True)\n",
       "    (7): Conv2d(128, 128, kernel_size=(3, 3), stride=(1, 1), padding=(1, 1))\n",
       "    (8): ReLU(inplace=True)\n",
       "    (9): MaxPool2d(kernel_size=2, stride=2, padding=0, dilation=1, ceil_mode=False)\n",
       "    (10): Conv2d(128, 256, kernel_size=(3, 3), stride=(1, 1), padding=(1, 1))\n",
       "    (11): ReLU(inplace=True)\n",
       "    (12): Conv2d(256, 256, kernel_size=(3, 3), stride=(1, 1), padding=(1, 1))\n",
       "    (13): ReLU(inplace=True)\n",
       "    (14): Conv2d(256, 256, kernel_size=(3, 3), stride=(1, 1), padding=(1, 1))\n",
       "    (15): ReLU(inplace=True)\n",
       "    (16): MaxPool2d(kernel_size=2, stride=2, padding=0, dilation=1, ceil_mode=False)\n",
       "    (17): Conv2d(256, 512, kernel_size=(3, 3), stride=(1, 1), padding=(1, 1))\n",
       "    (18): ReLU(inplace=True)\n",
       "    (19): Conv2d(512, 512, kernel_size=(3, 3), stride=(1, 1), padding=(1, 1))\n",
       "    (20): ReLU(inplace=True)\n",
       "    (21): Conv2d(512, 512, kernel_size=(3, 3), stride=(1, 1), padding=(1, 1))\n",
       "    (22): ReLU(inplace=True)\n",
       "    (23): MaxPool2d(kernel_size=2, stride=2, padding=0, dilation=1, ceil_mode=False)\n",
       "    (24): Conv2d(512, 512, kernel_size=(3, 3), stride=(1, 1), padding=(1, 1))\n",
       "    (25): ReLU(inplace=True)\n",
       "    (26): Conv2d(512, 512, kernel_size=(3, 3), stride=(1, 1), padding=(1, 1))\n",
       "    (27): ReLU(inplace=True)\n",
       "    (28): Conv2d(512, 512, kernel_size=(3, 3), stride=(1, 1), padding=(1, 1))\n",
       "    (29): ReLU(inplace=True)\n",
       "    (30): MaxPool2d(kernel_size=2, stride=2, padding=0, dilation=1, ceil_mode=False)\n",
       "  )\n",
       "  (avgpool): AdaptiveAvgPool2d(output_size=(7, 7))\n",
       "  (classifier): Sequential(\n",
       "    (0): Linear(in_features=25088, out_features=4096, bias=True)\n",
       "    (1): ReLU(inplace=True)\n",
       "    (2): Dropout(p=0.5, inplace=False)\n",
       "    (3): Linear(in_features=4096, out_features=4096, bias=True)\n",
       "    (4): ReLU(inplace=True)\n",
       "    (5): Dropout(p=0.5, inplace=False)\n",
       "    (6): Linear(in_features=4096, out_features=1000, bias=True)\n",
       "  )\n",
       ")"
      ]
     },
     "execution_count": 26,
     "metadata": {},
     "output_type": "execute_result"
    }
   ],
   "source": [
    "model = models.vgg16() # we don't specify pretrained=True, i.e. do not load default weights\n",
    "model.load_state_dict(torch.load(\"G:\\\\00_PyTorch & FastAI\\\\PyTorch\\\\Saved Models\\\\model_weights.pth\"))\n",
    "model.eval()"
   ]
  },
  {
   "cell_type": "code",
   "execution_count": 27,
   "id": "d6d6cfce-b685-4c8d-91f1-8439475c5fbc",
   "metadata": {},
   "outputs": [],
   "source": [
    "torch.save(model, 'model.pth')"
   ]
  },
  {
   "cell_type": "code",
   "execution_count": 28,
   "id": "e0f69721-5db4-4684-a1a0-7ee2df41b156",
   "metadata": {},
   "outputs": [],
   "source": [
    "model = torch.load('model.pth')"
   ]
  },
  {
   "cell_type": "code",
   "execution_count": null,
   "id": "39cd4c52-4004-45a1-b06e-dad1000f2652",
   "metadata": {},
   "outputs": [],
   "source": []
  }
 ],
 "metadata": {
  "kernelspec": {
   "display_name": "Python 3 (ipykernel)",
   "language": "python",
   "name": "python3"
  },
  "language_info": {
   "codemirror_mode": {
    "name": "ipython",
    "version": 3
   },
   "file_extension": ".py",
   "mimetype": "text/x-python",
   "name": "python",
   "nbconvert_exporter": "python",
   "pygments_lexer": "ipython3",
   "version": "3.9.0"
  }
 },
 "nbformat": 4,
 "nbformat_minor": 5
}
