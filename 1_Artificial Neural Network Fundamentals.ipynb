{
 "cells": [
  {
   "cell_type": "markdown",
   "id": "1eef254a-a0bd-4f13-ab80-880e30e3c3ef",
   "metadata": {
    "tags": []
   },
   "source": [
    "# Feedforward propagation in code"
   ]
  },
  {
   "cell_type": "code",
   "execution_count": 1,
   "id": "f342a03c-a928-4c7c-8200-61316f897c75",
   "metadata": {},
   "outputs": [],
   "source": [
    "import numpy as np\n",
    "\n",
    "def feed_forward(inputs, outputs, weights):\n",
    "    pre_hidden = np.dot(inputs, weights[0]) + weights[1]\n",
    "    hidden = 1 / (1+np.exp(-pre_hidden))\n",
    "    pre_out = np.dot(hidden, weights[2]) + weights[3]\n",
    "    mean_squared_error = np.mean(np.square(pre_out - outputs))\n",
    "    return mean_squared_error"
   ]
  },
  {
   "cell_type": "code",
   "execution_count": 2,
   "id": "0c40c065-6ac5-42c1-a7dd-8d22078f33ca",
   "metadata": {},
   "outputs": [],
   "source": [
    "def tanh(x):\n",
    "    return (np.exp(x) - np.exp(-x)) / (np.exp(x) + np.exp(-x))"
   ]
  },
  {
   "cell_type": "code",
   "execution_count": 3,
   "id": "ee8822e8-a5ed-4408-af88-42dfeae6ff99",
   "metadata": {},
   "outputs": [],
   "source": [
    "def ReLU(x):\n",
    "    return np.where(x>0, x, 0)"
   ]
  },
  {
   "cell_type": "code",
   "execution_count": 4,
   "id": "358713ab-d75f-428a-9006-8fbd1417f1af",
   "metadata": {},
   "outputs": [],
   "source": [
    "def linear(x):\n",
    "    return x"
   ]
  },
  {
   "cell_type": "code",
   "execution_count": 10,
   "id": "e6cf38ae-0394-4ca0-9988-fa5deae6f21e",
   "metadata": {},
   "outputs": [],
   "source": [
    "def sigmoid(x):\n",
    "    return 1 / (1+np.exp(-x))"
   ]
  },
  {
   "cell_type": "code",
   "execution_count": 6,
   "id": "fb5e7e31-f091-4534-80f7-49d73a81f86f",
   "metadata": {},
   "outputs": [],
   "source": [
    "def softmax(x):\n",
    "    return np.exp(x) / np.sum(np.exp(x))"
   ]
  },
  {
   "cell_type": "code",
   "execution_count": 16,
   "id": "93c29788-8d1f-4f1c-a561-13bf0794e61f",
   "metadata": {},
   "outputs": [
    {
     "data": {
      "text/plain": [
       "array([0.83889105, 0.16110895])"
      ]
     },
     "execution_count": 16,
     "metadata": {},
     "output_type": "execute_result"
    }
   ],
   "source": [
    "softmax([1.9, 0.25])"
   ]
  },
  {
   "cell_type": "code",
   "execution_count": 11,
   "id": "4557f9a1-f54c-479a-b67e-05c7ae57cd73",
   "metadata": {},
   "outputs": [],
   "source": [
    "def mse(p, y):\n",
    "    return np.mean(np.square(p - y))"
   ]
  },
  {
   "cell_type": "code",
   "execution_count": 18,
   "id": "33fedc1a-17e1-4f80-9039-83d35030fb64",
   "metadata": {},
   "outputs": [],
   "source": [
    "def mae(p, y):\n",
    "    return np.mean(np.abs(p - y))"
   ]
  },
  {
   "cell_type": "code",
   "execution_count": 19,
   "id": "df9d2ef8-638f-4621-b1cb-5a1ad94dec91",
   "metadata": {},
   "outputs": [],
   "source": [
    "def binary_cross_entropy(p, y):\n",
    "    return -np.mean(np.sum(y*np.log(p) + (1-y)*np.log(1-p)))"
   ]
  },
  {
   "cell_type": "code",
   "execution_count": 20,
   "id": "e7023ce8-722a-4a09-a8bd-c87e68544a0a",
   "metadata": {},
   "outputs": [],
   "source": [
    "def categorical_cross_entropy(p, y):\n",
    "    return -np.mean(np.sum(y*np.log(p)))"
   ]
  },
  {
   "cell_type": "code",
   "execution_count": 21,
   "id": "3c082dec-c9a9-43ae-87ed-484cb3edee6a",
   "metadata": {},
   "outputs": [],
   "source": [
    "# Gradient Descent from scratch\n",
    "\n",
    "import numpy as np\n",
    "from copy import deepcopy\n",
    "import matplotlib.pyplot as plt\n",
    "\n",
    "x = np.array([[1,1]])\n",
    "y = np.array([[0]])"
   ]
  },
  {
   "cell_type": "code",
   "execution_count": 13,
   "id": "cf9234d9-87f1-47e5-99ca-de816c5045ed",
   "metadata": {},
   "outputs": [],
   "source": [
    "from copy import deepcopy\n",
    "import numpy as np\n",
    "\n",
    "def feed_forward(inputs, outputs, weights):\n",
    "    pre_hidden = np.dot(inputs, weights[0]) + weights[1]\n",
    "    hidden = sigmoid(pre_hidden)\n",
    "    pred_out = np.dot(hidden, weights[2]) + weights[3]\n",
    "    mean_squared_error = mse(pred_out, outputs)\n",
    "    return mean_squared_error"
   ]
  },
  {
   "cell_type": "code",
   "execution_count": 8,
   "id": "d7cd2258-5681-4824-8d47-033917149abe",
   "metadata": {},
   "outputs": [],
   "source": [
    "def update_weights(inputs, outputs, weights, lr):\n",
    "    \n",
    "    original_weights = deepcopy(weights) \n",
    "    temp_weights = deepcopy(weights)\n",
    "    updated_weights = deepcopy(weights)\n",
    "    \n",
    "    original_loss = feed_forward(inputs, outputs, original_weights)\n",
    "    \n",
    "    for i, layer in enumerate(original_weights):\n",
    "        for index, weight in np.ndenumerate(layer):\n",
    "            temp_weights = deepcopy(weights)\n",
    "            temp_weights[i][index] += 0.0001\n",
    "            _loss_plus = feed_forward(inputs, outputs, temp_weights)\n",
    "            \n",
    "            grad = (_loss_plus - original_loss) / (0.0001)\n",
    "            \n",
    "            updated_weights[i][index] = updated_weights[i][index] - grad*lr\n",
    "            \n",
    "    return updated_weights, original_loss"
   ]
  },
  {
   "cell_type": "code",
   "execution_count": 1,
   "id": "7d475872-dbd3-40f3-81c0-937d4705c087",
   "metadata": {},
   "outputs": [],
   "source": [
    "# Backpropagation using Chain-Rule\n",
    "\n",
    "from copy import deepcopy\n",
    "import numpy as np\n",
    "\n",
    "x = np.array([[1,1]])\n",
    "y = np.array([[0]])"
   ]
  },
  {
   "cell_type": "code",
   "execution_count": 5,
   "id": "36c7d433-2bf8-4e15-a2e8-dca028f1a71c",
   "metadata": {},
   "outputs": [],
   "source": [
    "W = [np.array([[-0.0053, 0.3793],\n",
    "               [-0.5820, -0.5204],\n",
    "               [-0.2723, 0.1896]], dtype=np.float32).T,\n",
    "     np.array([-0.0140, 0.5607, -0.0628], dtype=np.float32),\n",
    "     np.array([[ 0.1528,-0.1745,-0.1135]],dtype=np.float32).T,\n",
    "     np.array([-0.5516], dtype=np.float32)\n",
    "     ]"
   ]
  },
  {
   "cell_type": "code",
   "execution_count": 3,
   "id": "2d7e3be4-92e8-41fc-900c-f9754835a49b",
   "metadata": {},
   "outputs": [
    {
     "data": {
      "text/plain": [
       "array([[-0.0053, -0.582 , -0.2723],\n",
       "       [ 0.3793, -0.5204,  0.1896]], dtype=float32)"
      ]
     },
     "execution_count": 3,
     "metadata": {},
     "output_type": "execute_result"
    }
   ],
   "source": [
    "W[0]"
   ]
  },
  {
   "cell_type": "code",
   "execution_count": 4,
   "id": "dac9e246-1471-4e57-ac64-181569f8a34a",
   "metadata": {},
   "outputs": [
    {
     "data": {
      "text/plain": [
       "array([-0.014 ,  0.5607, -0.0628], dtype=float32)"
      ]
     },
     "execution_count": 4,
     "metadata": {},
     "output_type": "execute_result"
    }
   ],
   "source": [
    "W[1]"
   ]
  },
  {
   "cell_type": "code",
   "execution_count": 5,
   "id": "73bee3cf-a79c-4432-9cf5-fe06ea2e078d",
   "metadata": {},
   "outputs": [
    {
     "data": {
      "text/plain": [
       "array([[ 0.1528],\n",
       "       [-0.1745],\n",
       "       [-0.1135]], dtype=float32)"
      ]
     },
     "execution_count": 5,
     "metadata": {},
     "output_type": "execute_result"
    }
   ],
   "source": [
    "W[2]"
   ]
  },
  {
   "cell_type": "code",
   "execution_count": 6,
   "id": "b55a135e-0ff9-4777-abb5-f110d94ac5a3",
   "metadata": {},
   "outputs": [
    {
     "data": {
      "text/plain": [
       "array([-0.5516], dtype=float32)"
      ]
     },
     "execution_count": 6,
     "metadata": {},
     "output_type": "execute_result"
    }
   ],
   "source": [
    "W[3]"
   ]
  },
  {
   "cell_type": "code",
   "execution_count": 14,
   "id": "fd18d1bf-f809-4b6e-be77-9e62e165112a",
   "metadata": {},
   "outputs": [],
   "source": [
    "losses = []\n",
    "for epoch in range(100):\n",
    "    W, loss = update_weights(x, y, W, 0.01)\n",
    "    losses.append(loss)"
   ]
  },
  {
   "cell_type": "code",
   "execution_count": 15,
   "id": "597f850a-7b0c-4372-b7f0-f22d645d022a",
   "metadata": {},
   "outputs": [
    {
     "data": {
      "text/plain": [
       "[0.33455008989960927,\n",
       " 0.31207511631926566,\n",
       " 0.2911120956789758,\n",
       " 0.2715584285618008,\n",
       " 0.25331865368289397,\n",
       " 0.23630390535663506,\n",
       " 0.22043418057939854,\n",
       " 0.20562934393762614,\n",
       " 0.19181767195565072,\n",
       " 0.17893238381869275,\n",
       " 0.16691118681233832,\n",
       " 0.1556960598895045,\n",
       " 0.14523290882197154,\n",
       " 0.13547129821318538,\n",
       " 0.126364203525363,\n",
       " 0.1178677719072326,\n",
       " 0.10994110911041786,\n",
       " 0.10254605271268186,\n",
       " 0.09564699296836097,\n",
       " 0.08921074608186348,\n",
       " 0.08320634138085492,\n",
       " 0.07760503878539614,\n",
       " 0.07237968732031032,\n",
       " 0.06750512536909528,\n",
       " 0.06295786147683874,\n",
       " 0.05871598599232297,\n",
       " 0.05475906776322453,\n",
       " 0.05106800838977991,\n",
       " 0.04762501204639483,\n",
       " 0.044413471300763355,\n",
       " 0.041417873698660075,\n",
       " 0.038623745036919385,\n",
       " 0.0360175776318961,\n",
       " 0.03358678180085144,\n",
       " 0.03131958990014603,\n",
       " 0.02920503167868223,\n",
       " 0.027232868364629497,\n",
       " 0.025393544746915474,\n",
       " 0.023678132739303314,\n",
       " 0.02207831742340097,\n",
       " 0.020586339162646575,\n",
       " 0.019194946055743803,\n",
       " 0.017897382446392742,\n",
       " 0.016687334455882247,\n",
       " 0.015558921892945698,\n",
       " 0.014506657356997138,\n",
       " 0.013525415251898458,\n",
       " 0.012610413271066044,\n",
       " 0.011757190985279442,\n",
       " 0.010961594427058456,\n",
       " 0.010219733295358899,\n",
       " 0.009527991926000508,\n",
       " 0.008882992686269521,\n",
       " 0.008281587464907298,\n",
       " 0.007720834249697889,\n",
       " 0.007197992690909958,\n",
       " 0.006710504270592703,\n",
       " 0.006255988288031289,\n",
       " 0.005832214259682782,\n",
       " 0.005437109013175332,\n",
       " 0.005068735059297772,\n",
       " 0.004725292634171949,\n",
       " 0.0044050918660767276,\n",
       " 0.004106566493298054,\n",
       " 0.003828250160445695,\n",
       " 0.003568779046873218,\n",
       " 0.0033268555390690235,\n",
       " 0.0031013157522747797,\n",
       " 0.002891055059829749,\n",
       " 0.0026950386718235576,\n",
       " 0.0025123019079616535,\n",
       " 0.002341946698323426,\n",
       " 0.002183135921202711,\n",
       " 0.00203508829733315,\n",
       " 0.0018970737376910656,\n",
       " 0.001768414889459122,\n",
       " 0.0016484773069977187,\n",
       " 0.0015366708335886404,\n",
       " 0.0014324440117165216,\n",
       " 0.0013352836204244343,\n",
       " 0.001244711528649081,\n",
       " 0.0011602820158438363,\n",
       " 0.0010815776466858748,\n",
       " 0.001008211899842591,\n",
       " 0.0009398217183494966,\n",
       " 0.0008760698739139329,\n",
       " 0.0008166431697902797,\n",
       " 0.0007612470158453993,\n",
       " 0.0007096087304761019,\n",
       " 0.000661474110738365,\n",
       " 0.0006166046444109604,\n",
       " 0.0005747796252062117,\n",
       " 0.0005357920717726557,\n",
       " 0.0004994497309170723,\n",
       " 0.00046557332639869436,\n",
       " 0.0004339957472558013,\n",
       " 0.0004045611657898734,\n",
       " 0.0003771229521512175,\n",
       " 0.0003515471664019062,\n",
       " 0.0003277067302998909]"
      ]
     },
     "execution_count": 15,
     "metadata": {},
     "output_type": "execute_result"
    }
   ],
   "source": [
    "losses"
   ]
  },
  {
   "cell_type": "code",
   "execution_count": 16,
   "id": "d2f16da4-2fc2-4057-a321-49852fbce116",
   "metadata": {},
   "outputs": [
    {
     "data": {
      "text/plain": [
       "Text(0, 0.5, 'Loss value')"
      ]
     },
     "execution_count": 16,
     "metadata": {},
     "output_type": "execute_result"
    },
    {
     "data": {
      "image/png": "[encoded data removed]",
      "text/plain": [
       "<Figure size 432x288 with 1 Axes>"
      ]
     },
     "metadata": {
      "needs_background": "light"
     },
     "output_type": "display_data"
    }
   ],
   "source": [
    "import matplotlib.pyplot as plt\n",
    "%matplotlib inline\n",
    "\n",
    "plt.plot(losses)\n",
    "plt.title('Loss over increasing number of epochs')\n",
    "plt.xlabel('Epochs')\n",
    "plt.ylabel('Loss value')"
   ]
  },
  {
   "cell_type": "code",
   "execution_count": 17,
   "id": "3913ea4d-1aab-42ac-88e8-929c6e870ce7",
   "metadata": {},
   "outputs": [
    {
     "name": "stdout",
     "output_type": "stream",
     "text": [
      "[array([[ 0.01424004, -0.5907864 , -0.27549535],\n",
      "       [ 0.39883757, -0.52918637,  0.18640439]], dtype=float32), array([ 0.00554004,  0.5519136 , -0.06599568], dtype=float32), array([[ 0.3475135 ],\n",
      "       [-0.05529078],\n",
      "       [ 0.03760847]], dtype=float32), array([-0.22443289], dtype=float32)]\n"
     ]
    }
   ],
   "source": [
    "print(W)"
   ]
  },
  {
   "cell_type": "code",
   "execution_count": 21,
   "id": "bc27dd8d-0300-4a7d-8f38-522bc1ae2ee4",
   "metadata": {},
   "outputs": [
    {
     "name": "stdout",
     "output_type": "stream",
     "text": [
      "[[-0.0174781]]\n"
     ]
    }
   ],
   "source": [
    "pre_hidden = np.dot(x, W[0]) + W[1]\n",
    "hidden = sigmoid(pre_hidden)\n",
    "pred_out = np.dot(hidden, W[2]) + W[3]\n",
    "print(pred_out)"
   ]
  },
  {
   "cell_type": "code",
   "execution_count": 1,
   "id": "14da02ff-d163-497c-a29f-c121bccbbc8b",
   "metadata": {},
   "outputs": [],
   "source": [
    "# Imapct of Learning Rate\n",
    "\n",
    "x = [[1],[2],[3],[4]]\n",
    "y = [[3],[6],[9],[12]]"
   ]
  },
  {
   "cell_type": "code",
   "execution_count": 3,
   "id": "26bd106a-f559-472a-a2ec-65c794226bb4",
   "metadata": {},
   "outputs": [
    {
     "name": "stdout",
     "output_type": "stream",
     "text": [
      "[[3], [6], [9], [12]]\n"
     ]
    }
   ],
   "source": [
    "print(y)"
   ]
  },
  {
   "cell_type": "code",
   "execution_count": 9,
   "id": "fc67dab2-f97c-47ae-a079-f11b6564dc82",
   "metadata": {},
   "outputs": [],
   "source": [
    "from copy import deepcopy\n",
    "import numpy as np\n",
    "\n",
    "def feed_forward(inputs, outputs, weights):\n",
    "    pred_out = np.dot(inputs, weights[0]) + weights[1]\n",
    "    mean_squared_error = np.mean(np.square(outputs - pred_out))\n",
    "    return mean_squared_error"
   ]
  },
  {
   "cell_type": "code",
   "execution_count": 6,
   "id": "605d6e7d-5b22-42e6-9a56-829fc36b6cf1",
   "metadata": {},
   "outputs": [],
   "source": [
    "def update_weights(inputs, outputs, weights, lr):\n",
    "    original_weights = deepcopy(weights)\n",
    "    org_loss = feed_forward(inputs, outputs, original_weights)\n",
    "    updated_weights = deepcopy(weights)\n",
    "    for i, layer in enumerate(original_weights):\n",
    "        for index, weight in np.ndenumerate(layer):\n",
    "            temp_weights = deepcopy(weights)\n",
    "            temp_weights[i][index] = temp_weights[i][index] + 0.0001\n",
    "            _loss_plus = feed_forward(inputs, outputs, temp_weights)\n",
    "            grad = (_loss_plus - org_loss) / 0.0001\n",
    "            updated_weights[i][index] = updated_weights[i][index] - grad*lr\n",
    "    return updated_weights"
   ]
  },
  {
   "cell_type": "code",
   "execution_count": 7,
   "id": "80331f3d-2f2f-4ae0-866f-0029e8aaa351",
   "metadata": {},
   "outputs": [],
   "source": [
    "W = [np.array([[0]], dtype=np.float32),\n",
    "np.array([[0]], dtype=np.float32)]"
   ]
  },
  {
   "cell_type": "code",
   "execution_count": 11,
   "id": "b27c4e2e-c0e7-4ee8-98bc-c6a6ec2f7b60",
   "metadata": {},
   "outputs": [],
   "source": [
    "weight_values = []\n",
    "for epx in range(1000):\n",
    "    W = update_weights(x, y, W, 0.01)\n",
    "    weight_values.append(W[0][0][0])"
   ]
  },
  {
   "cell_type": "code",
   "execution_count": 12,
   "id": "2a6247da-de70-4b82-9dee-085633570c70",
   "metadata": {},
   "outputs": [
    {
     "data": {
      "text/plain": [
       "Text(0, 0.5, 'Weight Value')"
      ]
     },
     "execution_count": 12,
     "metadata": {},
     "output_type": "execute_result"
    },
    {
     "data": {
      "image/png": "[encoded data removed]",
      "text/plain": [
       "<Figure size 432x288 with 1 Axes>"
      ]
     },
     "metadata": {
      "needs_background": "light"
     },
     "output_type": "display_data"
    }
   ],
   "source": [
    "import matplotlib.pyplot as plt\n",
    "\n",
    "epochs = range(1, 1001)\n",
    "plt.plot(epochs, weight_values)\n",
    "plt.title('Weight value over increasing epochs when learning rate is 0.01')\n",
    "plt.xlabel('Epochs')\n",
    "plt.ylabel('Weight Value')"
   ]
  },
  {
   "cell_type": "code",
   "execution_count": 13,
   "id": "e97e289d-8f01-4a43-8d66-4d87e65deddf",
   "metadata": {},
   "outputs": [],
   "source": [
    "weight_values = []\n",
    "for epx in range(1000):\n",
    "    W = update_weights(x, y, W, 0.1)\n",
    "    weight_values.append(W[0][0][0])"
   ]
  },
  {
   "cell_type": "code",
   "execution_count": 14,
   "id": "a238b7bd-d6f4-49a9-b7d9-5f02937426be",
   "metadata": {},
   "outputs": [
    {
     "data": {
      "text/plain": [
       "Text(0, 0.5, 'Weight Value')"
      ]
     },
     "execution_count": 14,
     "metadata": {},
     "output_type": "execute_result"
    },
    {
     "data": {
      "image/png": "[encoded data removed]",
      "text/plain": [
       "<Figure size 432x288 with 1 Axes>"
      ]
     },
     "metadata": {
      "needs_background": "light"
     },
     "output_type": "display_data"
    }
   ],
   "source": [
    "import matplotlib.pyplot as plt\n",
    "\n",
    "epochs = range(1, 1001)\n",
    "plt.plot(epochs, weight_values)\n",
    "plt.title('Weight value over increasing epochs when learning rate is 0.1')\n",
    "plt.xlabel('Epochs')\n",
    "plt.ylabel('Weight Value')"
   ]
  },
  {
   "cell_type": "code",
   "execution_count": 16,
   "id": "50184f2a-bd75-410a-af38-a342a6ac9d23",
   "metadata": {},
   "outputs": [],
   "source": [
    "weight_values = []\n",
    "for epx in range(1000):\n",
    "    W = update_weights(x, y, W, 1)\n",
    "    weight_values.append(W[0][0][0])"
   ]
  },
  {
   "cell_type": "code",
   "execution_count": 17,
   "id": "88e22fba-c9e4-45a5-acf2-c01460ce31de",
   "metadata": {},
   "outputs": [
    {
     "data": {
      "text/plain": [
       "Text(0, 0.5, 'Weight Value')"
      ]
     },
     "execution_count": 17,
     "metadata": {},
     "output_type": "execute_result"
    },
    {
     "data": {
      "image/png": "[encoded data removed]",
      "text/plain": [
       "<Figure size 432x288 with 1 Axes>"
      ]
     },
     "metadata": {
      "needs_background": "light"
     },
     "output_type": "display_data"
    }
   ],
   "source": [
    "import matplotlib.pyplot as plt\n",
    "\n",
    "epochs = range(1, 1001)\n",
    "plt.plot(epochs, weight_values)\n",
    "plt.title('Weight value over increasing epochs when learning rate is 1')\n",
    "plt.xlabel('Epochs')\n",
    "plt.ylabel('Weight Value')"
   ]
  },
  {
   "cell_type": "code",
   "execution_count": 18,
   "id": "2d70cb37-88e7-4ca0-9902-f474e120d166",
   "metadata": {},
   "outputs": [],
   "source": [
    "def update_weights(inputs, outputs, weights, lr):\n",
    "    original_weights = deepcopy(weights)\n",
    "    org_loss = feed_forward(inputs, outputs, weights)\n",
    "    updated_weights = deepcopy(weights)\n",
    "    for i, layer in enumerate(weights):\n",
    "        for index, weight in np.ndenumerate(layer):\n",
    "            temp_weights = deepcopy(weights)\n",
    "            temp_weights[i][index] += 0.0001\n",
    "            _loss_plus = feed_forward(inputs, outputs, temp_weights)\n",
    "            grad = (_loss_plus - org_loss) / 0.0001\n",
    "            updated_weights[i][index] -= grad*lr\n",
    "            if(i % 2 == 0):\n",
    "                print('weight value:', \\\n",
    "                      np.round(original_weights[i][index],2), \\\n",
    "                      'original loss:', np.round(org_loss,2), \\\n",
    "                      'loss_plus:', np.round(_loss_plus,2), \\\n",
    "                      'gradient:', np.round(grad,2), \\\n",
    "                      'updated_weights:', \\\n",
    "                      np.round(updated_weights[i][index],2))\n",
    "    return updated_weights"
   ]
  },
  {
   "cell_type": "code",
   "execution_count": 19,
   "id": "bf76c57f-5c94-42b5-be54-3b05f7e55a8d",
   "metadata": {},
   "outputs": [],
   "source": [
    "W = [np.array([[0]], dtype=np.float32), np.array([[0]], dtype=np.float32)]"
   ]
  },
  {
   "cell_type": "code",
   "execution_count": 20,
   "id": "d8ba2001-7802-4053-8d97-053ccc7ce779",
   "metadata": {},
   "outputs": [
    {
     "name": "stdout",
     "output_type": "stream",
     "text": [
      "weight value: 0.0 original loss: 67.5 loss_plus: 67.5 gradient: -45.0 updated_weights: 0.45\n",
      "weight value: 0.45 original loss: 46.88 loss_plus: 46.88 gradient: -37.49 updated_weights: 0.82\n",
      "weight value: 0.82 original loss: 32.57 loss_plus: 32.57 gradient: -31.26 updated_weights: 1.14\n",
      "weight value: 1.14 original loss: 22.64 loss_plus: 22.64 gradient: -26.05 updated_weights: 1.4\n",
      "weight value: 1.4 original loss: 15.75 loss_plus: 15.75 gradient: -21.72 updated_weights: 1.62\n",
      "weight value: 1.62 original loss: 10.97 loss_plus: 10.97 gradient: -18.1 updated_weights: 1.8\n",
      "weight value: 1.8 original loss: 7.65 loss_plus: 7.65 gradient: -15.09 updated_weights: 1.95\n",
      "weight value: 1.95 original loss: 5.35 loss_plus: 5.35 gradient: -12.59 updated_weights: 2.07\n",
      "weight value: 2.07 original loss: 3.75 loss_plus: 3.75 gradient: -10.49 updated_weights: 2.18\n",
      "weight value: 2.18 original loss: 2.64 loss_plus: 2.64 gradient: -8.75 updated_weights: 2.27\n",
      "[array([[2.265477]], dtype=float32), array([[0.7404298]], dtype=float32)]\n"
     ]
    },
    {
     "data": {
      "text/plain": [
       "Text(0, 0.5, 'Weight value')"
      ]
     },
     "execution_count": 20,
     "metadata": {},
     "output_type": "execute_result"
    },
    {
     "data": {
      "image/png": "[encoded data removed]",
      "text/plain": [
       "<Figure size 432x288 with 1 Axes>"
      ]
     },
     "metadata": {
      "needs_background": "light"
     },
     "output_type": "display_data"
    }
   ],
   "source": [
    "weight_value = []\n",
    "for epx in range(10):\n",
    "    W = update_weights(x,y,W,0.01)\n",
    "    weight_value.append(W[0][0][0])\n",
    "print(W)\n",
    "\n",
    "import matplotlib.pyplot as plt\n",
    "%matplotlib inline\n",
    "epochs = range(1, 11)\n",
    "plt.plot(epochs,weight_value)\n",
    "plt.title('Weight value over increasing epochs when learning rate is 0.01')\n",
    "plt.xlabel('Epochs')\n",
    "plt.ylabel('Weight value')"
   ]
  },
  {
   "cell_type": "code",
   "execution_count": 21,
   "id": "624b3ce9-a3be-413f-bac2-b4a6654ce77d",
   "metadata": {},
   "outputs": [
    {
     "name": "stdout",
     "output_type": "stream",
     "text": [
      "weight value: 2.27 original loss: 1.88 loss_plus: 1.87 gradient: -7.31 updated_weights: 3.0\n",
      "weight value: 3.0 original loss: 0.9 loss_plus: 0.9 gradient: 4.74 updated_weights: 2.52\n",
      "weight value: 2.52 original loss: 0.46 loss_plus: 0.46 gradient: -3.31 updated_weights: 2.85\n",
      "weight value: 2.85 original loss: 0.27 loss_plus: 0.27 gradient: 2.07 updated_weights: 2.65\n",
      "weight value: 2.65 original loss: 0.17 loss_plus: 0.17 gradient: -1.52 updated_weights: 2.8\n",
      "weight value: 2.8 original loss: 0.13 loss_plus: 0.13 gradient: 0.89 updated_weights: 2.71\n",
      "weight value: 2.71 original loss: 0.11 loss_plus: 0.11 gradient: -0.72 updated_weights: 2.78\n",
      "weight value: 2.78 original loss: 0.09 loss_plus: 0.09 gradient: 0.36 updated_weights: 2.75\n",
      "weight value: 2.75 original loss: 0.08 loss_plus: 0.08 gradient: -0.36 updated_weights: 2.78\n",
      "weight value: 2.78 original loss: 0.08 loss_plus: 0.08 gradient: 0.12 updated_weights: 2.77\n",
      "[array([[2.7694018]], dtype=float32), array([[0.65252185]], dtype=float32)]\n"
     ]
    },
    {
     "data": {
      "text/plain": [
       "Text(0, 0.5, 'Weight value')"
      ]
     },
     "execution_count": 21,
     "metadata": {},
     "output_type": "execute_result"
    },
    {
     "data": {
      "image/png": "[encoded data removed]",
      "text/plain": [
       "<Figure size 432x288 with 1 Axes>"
      ]
     },
     "metadata": {
      "needs_background": "light"
     },
     "output_type": "display_data"
    }
   ],
   "source": [
    "weight_value = []\n",
    "for epx in range(10):\n",
    "    W = update_weights(x,y,W,0.1)\n",
    "    weight_value.append(W[0][0][0])\n",
    "print(W)\n",
    "\n",
    "import matplotlib.pyplot as plt\n",
    "%matplotlib inline\n",
    "epochs = range(1, 11)\n",
    "plt.plot(epochs,weight_value)\n",
    "plt.title('Weight value over increasing epochs when learning rate is 0.1')\n",
    "plt.xlabel('Epochs')\n",
    "plt.ylabel('Weight value')"
   ]
  },
  {
   "cell_type": "code",
   "execution_count": 22,
   "id": "104c9360-90e3-442a-a13d-71e1ba3a0fc6",
   "metadata": {},
   "outputs": [
    {
     "name": "stdout",
     "output_type": "stream",
     "text": [
      "weight value: 2.77 original loss: 0.07 loss_plus: 0.07 gradient: -0.2 updated_weights: 2.96\n",
      "weight value: 2.96 original loss: 0.17 loss_plus: 0.17 gradient: 1.97 updated_weights: 0.99\n",
      "weight value: 0.99 original loss: 33.6 loss_plus: 33.6 gradient: -31.75 updated_weights: 32.74\n",
      "weight value: 32.74 original loss: 8280.75 loss_plus: 8280.8 gradient: 493.81 updated_weights: -461.07\n",
      "weight value: -461.07 original loss: 2010183.59 loss_plus: 2010182.88 gradient: -7102.19 updated_weights: 6641.12\n",
      "weight value: 6641.12 original loss: 425824170.66 loss_plus: 425824170.66 gradient: 0.0 updated_weights: 6641.12\n",
      "weight value: 6641.12 original loss: 425824170.66 loss_plus: 425824170.66 gradient: 0.0 updated_weights: 6641.12\n",
      "weight value: 6641.12 original loss: 425824170.66 loss_plus: 425824170.66 gradient: 0.0 updated_weights: 6641.12\n",
      "weight value: 6641.12 original loss: 425824170.66 loss_plus: 425824170.66 gradient: 0.0 updated_weights: 6641.12\n",
      "weight value: 6641.12 original loss: 425824170.66 loss_plus: 425824170.66 gradient: 0.0 updated_weights: 6641.12\n",
      "[array([[6641.1216]], dtype=float32), array([[2659.3928]], dtype=float32)]\n"
     ]
    },
    {
     "data": {
      "text/plain": [
       "Text(0, 0.5, 'Weight value')"
      ]
     },
     "execution_count": 22,
     "metadata": {},
     "output_type": "execute_result"
    },
    {
     "data": {
      "image/png": "[encoded data removed]",
      "text/plain": [
       "<Figure size 432x288 with 1 Axes>"
      ]
     },
     "metadata": {
      "needs_background": "light"
     },
     "output_type": "display_data"
    }
   ],
   "source": [
    "weight_value = []\n",
    "for epx in range(10):\n",
    "    W = update_weights(x,y,W,1)\n",
    "    weight_value.append(W[0][0][0])\n",
    "print(W)\n",
    "\n",
    "import matplotlib.pyplot as plt\n",
    "%matplotlib inline\n",
    "epochs = range(1, 11)\n",
    "plt.plot(epochs,weight_value)\n",
    "plt.title('Weight value over increasing epochs when learning rate is 1')\n",
    "plt.xlabel('Epochs')\n",
    "plt.ylabel('Weight value')"
   ]
  },
  {
   "cell_type": "code",
   "execution_count": null,
   "id": "16247fa1-f14f-48ac-acfc-8e81bc40b870",
   "metadata": {},
   "outputs": [],
   "source": []
  }
 ],
 "metadata": {
  "kernelspec": {
   "display_name": "Python 3 (ipykernel)",
   "language": "python",
   "name": "python3"
  },
  "language_info": {
   "codemirror_mode": {
    "name": "ipython",
    "version": 3
   },
   "file_extension": ".py",
   "mimetype": "text/x-python",
   "name": "python",
   "nbconvert_exporter": "python",
   "pygments_lexer": "ipython3",
   "version": "3.9.12"
  }
 },
 "nbformat": 4,
 "nbformat_minor": 5
}
